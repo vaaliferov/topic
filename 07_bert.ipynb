{
 "cells": [
  {
   "cell_type": "markdown",
   "id": "d3325626-0f3f-4907-9e18-622e3c98843d",
   "metadata": {},
   "source": [
    "#### Нейросетевой классификатор на базе предобученной модели rubert-tiny2"
   ]
  },
  {
   "cell_type": "code",
   "execution_count": null,
   "id": "jFBBKY74KIca",
   "metadata": {
    "id": "jFBBKY74KIca"
   },
   "outputs": [],
   "source": [
    "!pip install transformers"
   ]
  },
  {
   "cell_type": "code",
   "execution_count": 1,
   "id": "f17512ef-dbbc-4fc6-91dc-06c29353e091",
   "metadata": {
    "id": "f17512ef-dbbc-4fc6-91dc-06c29353e091"
   },
   "outputs": [],
   "source": [
    "import re\n",
    "import torch\n",
    "import numpy as np\n",
    "import pandas as pd\n",
    "from tqdm.auto import tqdm"
   ]
  },
  {
   "cell_type": "code",
   "execution_count": 2,
   "id": "3de32ab6-a0a3-4235-939e-750ce792977e",
   "metadata": {
    "id": "3de32ab6-a0a3-4235-939e-750ce792977e"
   },
   "outputs": [],
   "source": [
    "from utils import *"
   ]
  },
  {
   "cell_type": "code",
   "execution_count": null,
   "id": "ccaaabaa-edd0-4241-9895-4948bc9f5998",
   "metadata": {
    "id": "ccaaabaa-edd0-4241-9895-4948bc9f5998"
   },
   "outputs": [],
   "source": [
    "from google.colab import drive"
   ]
  },
  {
   "cell_type": "code",
   "execution_count": 5,
   "id": "a7d96733-ca0a-45af-837a-30192f5931d6",
   "metadata": {
    "id": "a7d96733-ca0a-45af-837a-30192f5931d6"
   },
   "outputs": [],
   "source": [
    "from sklearn.metrics import f1_score\n",
    "from sklearn.metrics import accuracy_score\n",
    "from sklearn.metrics import confusion_matrix\n",
    "from sklearn.metrics import classification_report"
   ]
  },
  {
   "cell_type": "code",
   "execution_count": 6,
   "id": "2a70fd5a-9c1a-426c-86ba-ff196be350e3",
   "metadata": {
    "id": "2a70fd5a-9c1a-426c-86ba-ff196be350e3"
   },
   "outputs": [],
   "source": [
    "from torch.utils.data import TensorDataset, random_split\n",
    "from torch.utils.data import DataLoader, RandomSampler, SequentialSampler"
   ]
  },
  {
   "cell_type": "code",
   "execution_count": 7,
   "id": "f15e17b0-536f-4175-8373-ee8bbbb94cc4",
   "metadata": {
    "id": "f15e17b0-536f-4175-8373-ee8bbbb94cc4"
   },
   "outputs": [],
   "source": [
    "from transformers import logging, get_cosine_schedule_with_warmup\n",
    "from transformers import AutoTokenizer, AutoModelForSequenceClassification"
   ]
  },
  {
   "cell_type": "code",
   "execution_count": 8,
   "id": "c70a2cec-1653-47d6-8c86-b952e1003390",
   "metadata": {
    "id": "c70a2cec-1653-47d6-8c86-b952e1003390"
   },
   "outputs": [],
   "source": [
    "def set_seed(seed):\n",
    "    np.random.seed(seed)\n",
    "    torch.random.manual_seed(seed)\n",
    "    torch.cuda.random.manual_seed(seed)\n",
    "    torch.cuda.random.manual_seed_all(seed)\n",
    "\n",
    "def get_available_device():\n",
    "    cuda = torch.cuda.is_available()\n",
    "    return torch.device('cuda' if cuda else 'cpu')"
   ]
  },
  {
   "cell_type": "code",
   "execution_count": 9,
   "id": "9f5b6086-af55-4e24-9772-5b10250e9793",
   "metadata": {},
   "outputs": [],
   "source": [
    "def clean(s):\n",
    "    s = re.sub('\\n', ' ', s)\n",
    "    s = re.sub('<\\?xml.+\\?>', ' ', s)\n",
    "    s = re.sub('<\\/?[A-Za-z]*>', ' ', s)\n",
    "    s = re.sub('[0-9]+(\\.|,)?[0-9]*', ' num ', s)\n",
    "    s = re.sub('([a-zа-яёй])([A-ZА-ЯЁЙ])', '\\g<1> \\g<2>', s)\n",
    "    s = re.sub('[^A-Za-zА-ЯЁЙа-яёй0-9.,;:!?()\"\\s\\-\\']', ' ', s)\n",
    "    return re.sub('\\s{2,}', ' ', s).strip()"
   ]
  },
  {
   "cell_type": "markdown",
   "id": "299bd70e-8a50-4b2f-9e43-8cd822b79a79",
   "metadata": {},
   "source": [
    "* *отличия: не удаляем символы `.,;:!?()\"`, не приводим к нижнему регистру*"
   ]
  },
  {
   "cell_type": "code",
   "execution_count": 10,
   "id": "77b95ea7-cd24-4b6d-9e5f-c61d74e5e14b",
   "metadata": {
    "id": "77b95ea7-cd24-4b6d-9e5f-c61d74e5e14b"
   },
   "outputs": [],
   "source": [
    "def tokenize(titles, texts, tokenizer):\n",
    "    \n",
    "    params = {'max_length': 512, \n",
    "              'truncation': True, \n",
    "              'padding': 'max_length', \n",
    "              'add_special_tokens': True}\n",
    "    \n",
    "    input_ids = torch.zeros((len(titles), 512), dtype=torch.int32)\n",
    "    \n",
    "    for i in tqdm(range(len(titles))):\n",
    "        title, text = clean(titles[i]), clean(texts[i])\n",
    "        ids = tokenizer.encode(title, text, **params)\n",
    "        input_ids[i] = torch.tensor(ids, dtype=torch.int32)\n",
    "    \n",
    "    return input_ids"
   ]
  },
  {
   "cell_type": "markdown",
   "id": "f8de92d1-a850-49d8-8355-b35a889360c8",
   "metadata": {},
   "source": [
    "* *самая простая (и не самая эффективная в плане работы загрузчика) токенизация*\n",
    "* *если количество получаемых токенов больше 512, то обрезаем последовательность*\n",
    "* *если количество получаемых токенов меньше 512, то дополняем последовательность (pad_token)*\n",
    "* *токенизируем сразу и title и text (используем токен sep): `cls title sep text sep`*\n",
    "* *на выходе сразу получаем тензор индексов токенов размерности [кол-во документов, 512]*"
   ]
  },
  {
   "cell_type": "code",
   "execution_count": 11,
   "id": "b127f677-d42a-4c1f-97bf-9cc92bffbe73",
   "metadata": {
    "id": "b127f677-d42a-4c1f-97bf-9cc92bffbe73"
   },
   "outputs": [],
   "source": [
    "def load_model(name):\n",
    "    \n",
    "    params = {\n",
    "        'num_labels': 6, \n",
    "        'output_attentions': False, \n",
    "        'output_hidden_states': True\n",
    "    }\n",
    "    \n",
    "    tokenizer = AutoTokenizer.from_pretrained(name)\n",
    "    model = AutoModelForSequenceClassification.from_pretrained(name, **params)\n",
    "    return model, tokenizer"
   ]
  },
  {
   "cell_type": "markdown",
   "id": "ecf65c31-e9f8-47ce-b128-7385852a1a70",
   "metadata": {},
   "source": [
    "* *функция для загрузки предобученной модели и токенайзера*"
   ]
  },
  {
   "cell_type": "code",
   "execution_count": null,
   "id": "1ef0a20c-1ef1-48cb-bdc0-6161eed3b96a",
   "metadata": {
    "id": "1ef0a20c-1ef1-48cb-bdc0-6161eed3b96a"
   },
   "outputs": [],
   "source": [
    "drive.mount('/content/drive')"
   ]
  },
  {
   "cell_type": "code",
   "execution_count": 11,
   "id": "342246c0-92d5-48c9-ae00-df82e5d29c88",
   "metadata": {
    "colab": {
     "base_uri": "https://localhost:8080/"
    },
    "id": "342246c0-92d5-48c9-ae00-df82e5d29c88",
    "outputId": "386b681e-b2ad-42f2-a072-7ef920d72672"
   },
   "outputs": [
    {
     "name": "stdout",
     "output_type": "stream",
     "text": [
      "Archive:  /content/drive/MyDrive/shared/topic/raw.zip\n",
      "  inflating: data/raw.csv            \n"
     ]
    }
   ],
   "source": [
    "!unzip /content/drive/MyDrive/shared/topic/data.zip -d data"
   ]
  },
  {
   "cell_type": "markdown",
   "id": "f4ed492b-0f5c-458b-b3e5-9d8d998b5d48",
   "metadata": {},
   "source": [
    "* *загружаем и распаковываем данные (сейчас мы на google colab - будем обучаться на gpu)*"
   ]
  },
  {
   "cell_type": "code",
   "execution_count": 12,
   "id": "kHtEqx7VLSQF",
   "metadata": {
    "id": "kHtEqx7VLSQF"
   },
   "outputs": [],
   "source": [
    "set_seed(42)\n",
    "logging.set_verbosity_error()\n",
    "model, tokenizer = load_model('cointegrated/rubert-tiny2')"
   ]
  },
  {
   "cell_type": "markdown",
   "id": "a911c5b0-2b69-49d8-aa99-3b93a4c28105",
   "metadata": {},
   "source": [
    "* *загружаем предобученную модель и токенайзер*"
   ]
  },
  {
   "cell_type": "code",
   "execution_count": 13,
   "id": "d023c221-9c78-483e-87ee-c5651f94e6a2",
   "metadata": {},
   "outputs": [
    {
     "data": {
      "text/plain": [
       "PreTrainedTokenizerFast(name_or_path='cointegrated/rubert-tiny2', vocab_size=83828, model_max_len=2048, is_fast=True, padding_side='right', truncation_side='right', special_tokens={'unk_token': '[UNK]', 'sep_token': '[SEP]', 'pad_token': '[PAD]', 'cls_token': '[CLS]', 'mask_token': '[MASK]'})"
      ]
     },
     "execution_count": 13,
     "metadata": {},
     "output_type": "execute_result"
    }
   ],
   "source": [
    "tokenizer"
   ]
  },
  {
   "cell_type": "markdown",
   "id": "5129be2d-2b73-4018-bf10-ae70e986dcb1",
   "metadata": {},
   "source": [
    "* *размер словаря: 83828 токенов (не сможем использовать uint16)*\n",
    "* *максимальная длина входной последовательности: 2048 (вместо 512, видимо, нестандартный attention)*"
   ]
  },
  {
   "cell_type": "code",
   "execution_count": 22,
   "id": "612a3168-7055-463f-bdc2-674d0c8b23ad",
   "metadata": {},
   "outputs": [
    {
     "data": {
      "text/plain": [
       "BertOutput(\n",
       "  (dense): Linear(in_features=600, out_features=312, bias=True)\n",
       "  (LayerNorm): LayerNorm((312,), eps=1e-12, elementwise_affine=True)\n",
       "  (dropout): Dropout(p=0.1, inplace=False)\n",
       ")"
      ]
     },
     "execution_count": 22,
     "metadata": {},
     "output_type": "execute_result"
    }
   ],
   "source": [
    "model.bert.encoder.layer[-1].output"
   ]
  },
  {
   "cell_type": "markdown",
   "id": "cc0fb18e-1ecc-4ec7-8cd0-863246dd3c10",
   "metadata": {},
   "source": [
    "* *размерность hidden_state (размер эмбеддингов) = 312*"
   ]
  },
  {
   "cell_type": "code",
   "execution_count": 12,
   "id": "1fda8701-7be9-4aab-8f1c-794efc47eb72",
   "metadata": {
    "colab": {
     "base_uri": "https://localhost:8080/",
     "height": 49,
     "referenced_widgets": [
      "a58e1fb72cd746e98440584d5ce307bb",
      "6f4b60a30a01496e9e659a46c076b88b",
      "081b9d5de14245068a225fe30d1ec8ee",
      "28c49050244144c49c2a66c7723d3586",
      "dd28f9e553184164befb8a1080616c0a",
      "99f75396ea884edcb1ef21156dffe7f2",
      "53262d9c8c54474b874bfbb9039c6eee",
      "d018638484384e3fb48fc3c1fd967abf",
      "265f7cf73d4d43869d384b5608461612",
      "c8e76087ebdd4d07a7e8d5f4435e231b",
      "19cf766513a8470b83202d8c851cab2b"
     ]
    },
    "id": "1fda8701-7be9-4aab-8f1c-794efc47eb72",
    "outputId": "d5d5a764-277f-40f2-cd20-4dc010ea223d"
   },
   "outputs": [
    {
     "data": {
      "application/vnd.jupyter.widget-view+json": {
       "model_id": "a58e1fb72cd746e98440584d5ce307bb",
       "version_major": 2,
       "version_minor": 0
      },
      "text/plain": [
       "  0%|          | 0/432158 [00:00<?, ?it/s]"
      ]
     },
     "metadata": {},
     "output_type": "display_data"
    }
   ],
   "source": [
    "df = pd.read_csv('data/raw.csv') #.sample(100)\n",
    "labels = df['topic'].map(load_json('data/labels.json'))\n",
    "labels = torch.tensor(labels.values, dtype=torch.int8)\n",
    "input_ids = tokenize(df['title'].values, df['text'].values, tokenizer)\n",
    "torch.save(input_ids, 'data/input_ids.pt')\n",
    "torch.save(labels, 'data/labels.pt')"
   ]
  },
  {
   "cell_type": "markdown",
   "id": "b1ad1542-5d9c-478d-9bf6-2c4dfdf6e543",
   "metadata": {},
   "source": [
    "* *загружаем датафрейм, кодируем целевые метки*\n",
    "* *токенизируем все документы, сохраняем тензоры*"
   ]
  },
  {
   "cell_type": "code",
   "execution_count": 13,
   "id": "08bcebd0-d7e8-415d-9eb3-eaa18c721de7",
   "metadata": {
    "colab": {
     "base_uri": "https://localhost:8080/"
    },
    "id": "08bcebd0-d7e8-415d-9eb3-eaa18c721de7",
    "outputId": "6a1ad9b9-1506-4dee-cf03-ebc92dd1ecd2"
   },
   "outputs": [
    {
     "data": {
      "text/plain": [
       "(torch.Size([432158, 512]), torch.Size([432158]))"
      ]
     },
     "execution_count": 13,
     "metadata": {},
     "output_type": "execute_result"
    }
   ],
   "source": [
    "input_ids.shape, labels.shape"
   ]
  },
  {
   "cell_type": "markdown",
   "id": "9dacdc6e-f695-489f-a70c-aa8fa7f73c01",
   "metadata": {},
   "source": [
    "* *432158 документов, по 512 индексов токенов на каждый*"
   ]
  },
  {
   "cell_type": "code",
   "execution_count": 14,
   "id": "bc73099a-3fe0-4255-84a8-5f9dfd1b4414",
   "metadata": {
    "id": "bc73099a-3fe0-4255-84a8-5f9dfd1b4414"
   },
   "outputs": [],
   "source": [
    "dataset = TensorDataset(input_ids, labels)\n",
    "train_size = int(0.800 * len(dataset))\n",
    "valid_size = len(dataset) - train_size"
   ]
  },
  {
   "cell_type": "code",
   "execution_count": 15,
   "id": "3325a9e1-3c0f-4289-bf22-a35d16aee4e4",
   "metadata": {
    "id": "3325a9e1-3c0f-4289-bf22-a35d16aee4e4"
   },
   "outputs": [],
   "source": [
    "generator = torch.Generator().manual_seed(42)\n",
    "train_dataset, valid_dataset = random_split(dataset, [train_size, valid_size], generator)\n",
    "train_loader = DataLoader(train_dataset, sampler=RandomSampler(train_dataset), batch_size=32)\n",
    "valid_loader = DataLoader(valid_dataset, sampler=SequentialSampler(valid_dataset), batch_size=32)"
   ]
  },
  {
   "cell_type": "code",
   "execution_count": 16,
   "id": "f3abdbc0-856e-437e-b5b3-c34f6d54274d",
   "metadata": {
    "colab": {
     "base_uri": "https://localhost:8080/"
    },
    "id": "f3abdbc0-856e-437e-b5b3-c34f6d54274d",
    "outputId": "e83487c2-fd34-4ce4-c68e-d9c23abcb9a0"
   },
   "outputs": [
    {
     "data": {
      "text/plain": [
       "(345726, 86432)"
      ]
     },
     "execution_count": 16,
     "metadata": {},
     "output_type": "execute_result"
    }
   ],
   "source": [
    "len(train_dataset), len(valid_dataset)"
   ]
  },
  {
   "cell_type": "markdown",
   "id": "f4016ba2-0341-4517-b3bd-bb07e06416f0",
   "metadata": {},
   "source": [
    "* *создаем датасет, разделяем данные, создаем загрузчики*"
   ]
  },
  {
   "cell_type": "code",
   "execution_count": 17,
   "id": "ffd808c0-a3e5-411b-9964-66fc30856a53",
   "metadata": {
    "id": "ffd808c0-a3e5-411b-9964-66fc30856a53"
   },
   "outputs": [],
   "source": [
    "def metrics_stat(y_true, y_pred):\n",
    "    return {'acc': accuracy_score(y_true, y_pred),\n",
    "            'f1': f1_score(y_true, y_pred, average='macro')}"
   ]
  },
  {
   "cell_type": "code",
   "execution_count": null,
   "id": "9d343487-99b7-4967-b8f7-27634c361015",
   "metadata": {
    "id": "1c07dde0-ea11-45a0-8c87-00e86eaf6f9e"
   },
   "outputs": [],
   "source": [
    "def nn_epoch(model, optimizer, scheduler, loader, \n",
    "             device, pad_token_id=0, train=False):\n",
    "    \n",
    "    model = model.to(device)\n",
    "    torch.set_grad_enabled(train)\n",
    "    (model.eval, model.train)[int(train)]()\n",
    "    \n",
    "    loss_history = []\n",
    "    pbar, total_loss = tqdm(loader), 0\n",
    "    preds = torch.empty(0, dtype=torch.int8)\n",
    "    targets = torch.empty(0, dtype=torch.int8)\n",
    "  \n",
    "    for input_ids, labels in pbar:\n",
    "        \n",
    "        input_ids = input_ids.to(device)\n",
    "        labels = labels.to(device).long()\n",
    "        attn_mask = (input_ids != pad_token_id)\n",
    "        \n",
    "        params = {\n",
    "            'output_attentions': False, \n",
    "            'output_hidden_states': False, \n",
    "            'attention_mask': attn_mask, \n",
    "            'input_ids': input_ids, \n",
    "            'labels': labels\n",
    "        }\n",
    "        \n",
    "        if train:\n",
    "            optimizer.zero_grad()\n",
    "\n",
    "        output = model(**params)\n",
    "        logits = output['logits']\n",
    "        loss = output['loss']\n",
    "        \n",
    "        if train: \n",
    "            loss.backward()\n",
    "            optimizer.step()\n",
    "            scheduler.step()\n",
    "        \n",
    "        targets = torch.cat((targets, labels.cpu()))\n",
    "        preds = torch.cat((preds, torch.argmax(logits.cpu(), 1)))\n",
    "        pbar.set_description(f'loss: {loss.item():.4}')\n",
    "        loss_history.append(loss.item())\n",
    "        total_loss += loss.item()\n",
    "    \n",
    "    avg_loss = total_loss / len(loader)\n",
    "    pbar.set_description(f'loss: {avg_loss:.4}')\n",
    "    \n",
    "    return {'preds': preds, \n",
    "            'targets': targets, \n",
    "            'loss_history': loss_history}"
   ]
  },
  {
   "cell_type": "markdown",
   "id": "d1e83dda-7669-4794-95fe-3d902944b3a6",
   "metadata": {},
   "source": [
    "* *универсальная функция: 1 эпоха обучения / валидации, формирование предсказаний*"
   ]
  },
  {
   "cell_type": "code",
   "execution_count": 19,
   "id": "5cceff10-6565-4195-8683-995d8252f23a",
   "metadata": {
    "colab": {
     "base_uri": "https://localhost:8080/",
     "height": 313,
     "referenced_widgets": [
      "b04febeb33a3415b8176c107aeb532d6",
      "a3d1cae19cab4ca7b9730a47abd69184",
      "4efe67493d084b939392564e66984431",
      "efe45eac25364b3c8b14bc4d791caca7",
      "c8deb924605c4853bddd472db4fed871",
      "5b588fc7fc30466faccf3f37468cbdea",
      "7aeceb1a8a9a4836b59cfda0f634391b",
      "25b029b7236b45138ef7b802238999b2",
      "8dc1fc84a8b04761a3ba7ac53b7b210f",
      "e2bcf574c2184983a9e4720e671dabd9",
      "d5a5caf522044647b3bdba2078b053bf",
      "35a0ae110a964b80908b3d1d081dddce",
      "36854c15411c4220bc1aeeca1905b183",
      "371d449f3e104693affe4c84a799678d",
      "162f85093b364243985a6aa6c4180b5e",
      "d77a3b83ed784f23859e14e742653e55",
      "61b71cab1fd04040a72e0f63e9741dcc",
      "f177b5cf4c4e4059ba4b9e8113dc050f",
      "6b139edf3ea54484a9754e843d0fd1f2",
      "4f793def26564735b2aed120c9284b49",
      "f81857d55a774eb0929a6f077ba52535",
      "70d056753f4a4aa5a716d7f8ecb05bd6",
      "5d884af7639e41abb8911ecbcdf63bdc",
      "a6b803689fa342b58e52c0d1fec20429",
      "b0603d38bae84a0bb84ef5f4275a69ed",
      "9bb6a1cc7e164543a431d02d3c75fad5",
      "e35b1e953ea34f6cbe8728aa7c6793a9",
      "d15df6d855534336b63111fb63cea708",
      "e8487f60cec24d59a5a972bcbf6c924b",
      "1823b66f520c4b00a3f938496143f8c6",
      "ecda85b192124b83bb840f209e6ce45d",
      "edfffd18aff240ff80ab905576c3c06f",
      "fcbbc2a952ba4b1b875c1ca9176dddba",
      "92f02bd2556f4f4ebba3fcef08d8ed98",
      "cb2ad93cf22a4a78a5abfd957bca79bd",
      "7cd960c05a8240ccb3405648fe402e00",
      "327ace9dccda4bf09d1d87e4f260840e",
      "fdf6c5ef7d6341518dea5f3c93da7e61",
      "3115ed017fc74f7e92cd5933a8087580",
      "a7b9c92cf4f3434388e2381791a07c61",
      "d71c152102254044b805fad611d0e8c0",
      "f4f3c25bb233456f9d50e5c3d5bd060f",
      "d6367037a2994f62b27f0162f257749b",
      "d1c6b23326ae43518d9aa575e3e8e98b",
      "8305b3285a654eae9649de24dff22521",
      "c42dc9e9585644d0a62068bacfd53ba9",
      "b596c809551f4b37a88c362b4da08444",
      "f6cd2c53132e40858123ec1748534d2d",
      "ca1a52051ed9436c90980a70c95a6473",
      "a4150b500cab4bf294ac7aaa82819f45",
      "cd0e7134432f4f62b92adb918576f775",
      "f649eca078ab4fc4ae62eba2b1b3691a",
      "2c41a7947ed0474a9280d896c2939ef2",
      "accab2b37e98457fb60607b1a044dbba",
      "d14e4397d99c4324824c086726cf5725",
      "52d194e42cc04508be0dde7ebc397239",
      "359cbb8df92840588813eb9b8c8391eb",
      "82b22f33140d4180b1fdf4eb7251518b",
      "133292b7ba4f4277aa68febd3c073d33",
      "67bf1c26ab0747cf94a9751a379ae069",
      "5029c8650c984ce1947f98b43d07b717",
      "f7b99eef368c4a89a8c14d5355939381",
      "c8da3c3270ca468181551f9e355d8849",
      "ed363a7f93b043049ec1536ff2145155",
      "2a3ba2928e6b452aa7746410b4d2fe31",
      "16404df04da44cfaaae38e4d9c3ca119"
     ]
    },
    "id": "5cceff10-6565-4195-8683-995d8252f23a",
    "outputId": "dac4f1c4-2b67-4fea-8d62-534bb962537d"
   },
   "outputs": [
    {
     "data": {
      "application/vnd.jupyter.widget-view+json": {
       "model_id": "b04febeb33a3415b8176c107aeb532d6",
       "version_major": 2,
       "version_minor": 0
      },
      "text/plain": [
       "  0%|          | 0/10804 [00:00<?, ?it/s]"
      ]
     },
     "metadata": {},
     "output_type": "display_data"
    },
    {
     "name": "stdout",
     "output_type": "stream",
     "text": [
      "train {'acc': 0.9325448476539224, 'f1': 0.9260189201425089}\n"
     ]
    },
    {
     "data": {
      "application/vnd.jupyter.widget-view+json": {
       "model_id": "35a0ae110a964b80908b3d1d081dddce",
       "version_major": 2,
       "version_minor": 0
      },
      "text/plain": [
       "  0%|          | 0/2701 [00:00<?, ?it/s]"
      ]
     },
     "metadata": {},
     "output_type": "display_data"
    },
    {
     "name": "stdout",
     "output_type": "stream",
     "text": [
      "valid {'acc': 0.9442336171788227, 'f1': 0.9391652510413211}\n"
     ]
    },
    {
     "data": {
      "application/vnd.jupyter.widget-view+json": {
       "model_id": "5d884af7639e41abb8911ecbcdf63bdc",
       "version_major": 2,
       "version_minor": 0
      },
      "text/plain": [
       "  0%|          | 0/10804 [00:00<?, ?it/s]"
      ]
     },
     "metadata": {},
     "output_type": "display_data"
    },
    {
     "name": "stdout",
     "output_type": "stream",
     "text": [
      "train {'acc': 0.9627363866183046, 'f1': 0.959066075476926}\n"
     ]
    },
    {
     "data": {
      "application/vnd.jupyter.widget-view+json": {
       "model_id": "92f02bd2556f4f4ebba3fcef08d8ed98",
       "version_major": 2,
       "version_minor": 0
      },
      "text/plain": [
       "  0%|          | 0/2701 [00:00<?, ?it/s]"
      ]
     },
     "metadata": {},
     "output_type": "display_data"
    },
    {
     "name": "stdout",
     "output_type": "stream",
     "text": [
      "valid {'acc': 0.9496598482043688, 'f1': 0.945407698642417}\n"
     ]
    },
    {
     "data": {
      "application/vnd.jupyter.widget-view+json": {
       "model_id": "8305b3285a654eae9649de24dff22521",
       "version_major": 2,
       "version_minor": 0
      },
      "text/plain": [
       "  0%|          | 0/10804 [00:00<?, ?it/s]"
      ]
     },
     "metadata": {},
     "output_type": "display_data"
    },
    {
     "name": "stdout",
     "output_type": "stream",
     "text": [
      "train {'acc': 0.980131664960113, 'f1': 0.9781621563825519}\n"
     ]
    },
    {
     "data": {
      "application/vnd.jupyter.widget-view+json": {
       "model_id": "52d194e42cc04508be0dde7ebc397239",
       "version_major": 2,
       "version_minor": 0
      },
      "text/plain": [
       "  0%|          | 0/2701 [00:00<?, ?it/s]"
      ]
     },
     "metadata": {},
     "output_type": "display_data"
    },
    {
     "name": "stdout",
     "output_type": "stream",
     "text": [
      "valid {'acc': 0.9489193817104776, 'f1': 0.9445447454298083}\n"
     ]
    }
   ],
   "source": [
    "num_epochs = 3\n",
    "\n",
    "save_path = '/content/drive/MyDrive/shared/topic/'\n",
    "\n",
    "device = get_available_device()\n",
    "pad_token_id = tokenizer.pad_token_id\n",
    "total_steps = len(train_loader) * num_epochs\n",
    "optimizer = torch.optim.AdamW(model.parameters(), lr=5e-5, eps=1e-8)\n",
    "scheduler = get_cosine_schedule_with_warmup(optimizer, 0, total_steps)\n",
    "\n",
    "for epoch in range(num_epochs):\n",
    "    \n",
    "    res = nn_epoch(\n",
    "        model, optimizer, scheduler, \n",
    "        train_loader, device, pad_token_id, train=True\n",
    "    )\n",
    "\n",
    "    with open(f'{save_path}/train_loss_{epoch+1:02}.npy', 'wb') as fd:\n",
    "        np.save(fd, np.array(res['loss_history'], dtype=np.float32))\n",
    "    \n",
    "    print('train', metrics_stat(res['targets'], res['preds']))\n",
    "    \n",
    "    res = nn_epoch(\n",
    "        model, optimizer, scheduler, \n",
    "        valid_loader, device, pad_token_id, train=False\n",
    "    )\n",
    "    \n",
    "    with open(f'{save_path}/valid_loss_{epoch+1:02}.npy', 'wb') as fd:\n",
    "        np.save(fd, np.array(res['loss_history'], dtype=np.float32))\n",
    "    \n",
    "    print('valid', metrics_stat(res['targets'], res['preds']))\n",
    "    torch.save(model.state_dict(), f'{save_path}/model_{epoch+1:02}.pt')"
   ]
  },
  {
   "cell_type": "markdown",
   "id": "53fcaca9-9763-4b14-a94d-a8e03ac19784",
   "metadata": {},
   "source": [
    "* *обучаем модель, сохраняем веса на каждой эпохе*"
   ]
  },
  {
   "cell_type": "code",
   "execution_count": 26,
   "id": "Rh5GZPwFwVu4",
   "metadata": {
    "colab": {
     "base_uri": "https://localhost:8080/"
    },
    "id": "Rh5GZPwFwVu4",
    "outputId": "18c08c8b-24d2-43e2-9fd5-4ecdf333c735"
   },
   "outputs": [
    {
     "data": {
      "text/plain": [
       "<All keys matched successfully>"
      ]
     },
     "execution_count": 26,
     "metadata": {},
     "output_type": "execute_result"
    }
   ],
   "source": [
    "path = f'{save_path}/model_02.pt'\n",
    "model.load_state_dict(torch.load(path))"
   ]
  },
  {
   "cell_type": "markdown",
   "id": "325337e4-c449-46c7-b1a0-913fa6411aab",
   "metadata": {},
   "source": [
    "* *на 3ей эпохе началось переобучение, нужно подбирать параметры*\n",
    "* *загружаем сохраненные веса (лучшая модель - после 2ой эпохи)*"
   ]
  },
  {
   "cell_type": "code",
   "execution_count": 27,
   "id": "9af0a3f0-939a-4143-9002-67a0c9479674",
   "metadata": {
    "colab": {
     "base_uri": "https://localhost:8080/",
     "height": 49,
     "referenced_widgets": [
      "62c159f485fb4fae9bcff149b8793eb1",
      "9d1284d31e914ed38746c4e87fb81e7b",
      "0c10ae2c3fd24900ae74ce29bb1d1faa",
      "aa8fa30c93f645bf8ad59e3f75874b2f",
      "fd1ab82c74734d76b56e4cb13797a285",
      "be9d131f0a4d4acfa0c6c61111015cea",
      "b5db8680fb63411fa484675402e99258",
      "cdad5be64ec1460fa6193cc48a68e3d7",
      "a193d167212a491c9e0c344223ee3b30",
      "a0e58d722ae04d429270259025cf23de",
      "9588dbc7a4fd468090f861e99c93395a"
     ]
    },
    "id": "9af0a3f0-939a-4143-9002-67a0c9479674",
    "outputId": "e6b2c132-d03e-4d9c-fd86-03cb54aa9efc"
   },
   "outputs": [
    {
     "data": {
      "application/vnd.jupyter.widget-view+json": {
       "model_id": "62c159f485fb4fae9bcff149b8793eb1",
       "version_major": 2,
       "version_minor": 0
      },
      "text/plain": [
       "  0%|          | 0/2701 [00:00<?, ?it/s]"
      ]
     },
     "metadata": {},
     "output_type": "display_data"
    }
   ],
   "source": [
    "res = nn_epoch(model, None, None, valid_loader, device, pad_token_id, train=False)"
   ]
  },
  {
   "cell_type": "markdown",
   "id": "c79d75f5-969f-4f73-88aa-7d1a477ff387",
   "metadata": {},
   "source": [
    "* *формируем предсказания загруженной моделью на валидационной части данных*"
   ]
  },
  {
   "cell_type": "code",
   "execution_count": 28,
   "id": "2349e81a-0dd2-4fa2-812b-bc3d7a868bfa",
   "metadata": {
    "colab": {
     "base_uri": "https://localhost:8080/"
    },
    "id": "2349e81a-0dd2-4fa2-812b-bc3d7a868bfa",
    "outputId": "e11db0fb-56c6-42ce-b717-33bde0e99ce8"
   },
   "outputs": [
    {
     "data": {
      "text/plain": [
       "0.9496598482043688"
      ]
     },
     "execution_count": 28,
     "metadata": {},
     "output_type": "execute_result"
    }
   ],
   "source": [
    "accuracy_score(res['targets'], res['preds'])"
   ]
  },
  {
   "cell_type": "code",
   "execution_count": 29,
   "id": "948fd3d6-92a7-4232-9ce0-5beb6cf8faa1",
   "metadata": {
    "colab": {
     "base_uri": "https://localhost:8080/"
    },
    "id": "948fd3d6-92a7-4232-9ce0-5beb6cf8faa1",
    "outputId": "2d047961-0029-439d-f049-27d036f723fd"
   },
   "outputs": [
    {
     "data": {
      "text/plain": [
       "0.945407698642417"
      ]
     },
     "execution_count": 29,
     "metadata": {},
     "output_type": "execute_result"
    }
   ],
   "source": [
    "f1_score(res['targets'], res['preds'], average='macro')"
   ]
  },
  {
   "cell_type": "code",
   "execution_count": 30,
   "id": "95d3a127-6c88-4413-9388-edea8296c82f",
   "metadata": {
    "colab": {
     "base_uri": "https://localhost:8080/"
    },
    "id": "95d3a127-6c88-4413-9388-edea8296c82f",
    "outputId": "32baeb90-94a5-4f4c-b9b0-5e8ef65aa55b"
   },
   "outputs": [
    {
     "name": "stdout",
     "output_type": "stream",
     "text": [
      "[[ 8151   191   283   231    87   119]\n",
      " [  125 10337   126    76    23    23]\n",
      " [  377   263 25731   395    91   396]\n",
      " [  261    72   327  9916     9   104]\n",
      " [   21     8    32     3 12779    10]\n",
      " [  267    46   234   112    39 15167]]\n"
     ]
    }
   ],
   "source": [
    "print(confusion_matrix(res['targets'], res['preds']))"
   ]
  },
  {
   "cell_type": "code",
   "execution_count": 31,
   "id": "51071697-78b4-4282-8f08-69b695a3b56f",
   "metadata": {
    "colab": {
     "base_uri": "https://localhost:8080/"
    },
    "id": "51071697-78b4-4282-8f08-69b695a3b56f",
    "outputId": "5d98b521-5768-48cd-a588-edf57da1ff19"
   },
   "outputs": [
    {
     "name": "stdout",
     "output_type": "stream",
     "text": [
      "              precision    recall  f1-score   support\n",
      "\n",
      "           0       0.89      0.90      0.89      9062\n",
      "           1       0.95      0.97      0.96     10710\n",
      "           2       0.96      0.94      0.95     27253\n",
      "           3       0.92      0.93      0.93     10689\n",
      "           4       0.98      0.99      0.99     12853\n",
      "           5       0.96      0.96      0.96     15865\n",
      "\n",
      "    accuracy                           0.95     86432\n",
      "   macro avg       0.94      0.95      0.95     86432\n",
      "weighted avg       0.95      0.95      0.95     86432\n",
      "\n"
     ]
    }
   ],
   "source": [
    "print(classification_report(res['targets'], res['preds']))"
   ]
  },
  {
   "cell_type": "code",
   "execution_count": 32,
   "id": "6a6b469c-fbd0-41f9-998c-542b1d5b3182",
   "metadata": {
    "colab": {
     "base_uri": "https://localhost:8080/"
    },
    "id": "6a6b469c-fbd0-41f9-998c-542b1d5b3182",
    "outputId": "02fb38c7-155e-4ba2-e183-bedb663b91dc"
   },
   "outputs": [
    {
     "data": {
      "text/plain": [
       "['Интернет и СМИ', 'Культура', 'Мир', 'Наука и техника', 'Спорт', 'Экономика']"
      ]
     },
     "execution_count": 32,
     "metadata": {},
     "output_type": "execute_result"
    }
   ],
   "source": [
    "list(load_json('data/labels.json').keys())"
   ]
  },
  {
   "cell_type": "markdown",
   "id": "f8013fab-b794-4bfd-a5e0-d82754e13ac4",
   "metadata": {},
   "source": [
    "* *сравнивать с предыдущими моделями не совсем честно, т.к. здесь другой сплит данных*\n",
    "* *нужно еще раз произвести валидацию этой модели с тем же сплитом, который использовался ранее*\n",
    "* *и тем не менее, судя по всему, эта модель будет лучшей в плане качества*\n",
    "* *веса модели занимают ~100Мб дискового пространства*"
   ]
  }
 ],
 "metadata": {
  "accelerator": "GPU",
  "colab": {
   "provenance": []
  },
  "gpuClass": "standard",
  "kernelspec": {
   "display_name": "dev",
   "language": "python",
   "name": "dev"
  },
  "language_info": {
   "codemirror_mode": {
    "name": "ipython",
    "version": 3
   },
   "file_extension": ".py",
   "mimetype": "text/x-python",
   "name": "python",
   "nbconvert_exporter": "python",
   "pygments_lexer": "ipython3",
   "version": "3.10.7"
  },
  "widgets": {
   "application/vnd.jupyter.widget-state+json": {
    "081b9d5de14245068a225fe30d1ec8ee": {
     "model_module": "@jupyter-widgets/controls",
     "model_module_version": "1.5.0",
     "model_name": "FloatProgressModel",
     "state": {
      "_dom_classes": [],
      "_model_module": "@jupyter-widgets/controls",
      "_model_module_version": "1.5.0",
      "_model_name": "FloatProgressModel",
      "_view_count": null,
      "_view_module": "@jupyter-widgets/controls",
      "_view_module_version": "1.5.0",
      "_view_name": "ProgressView",
      "bar_style": "success",
      "description": "",
      "description_tooltip": null,
      "layout": "IPY_MODEL_d018638484384e3fb48fc3c1fd967abf",
      "max": 432158,
      "min": 0,
      "orientation": "horizontal",
      "style": "IPY_MODEL_265f7cf73d4d43869d384b5608461612",
      "value": 432158
     }
    },
    "0c10ae2c3fd24900ae74ce29bb1d1faa": {
     "model_module": "@jupyter-widgets/controls",
     "model_module_version": "1.5.0",
     "model_name": "FloatProgressModel",
     "state": {
      "_dom_classes": [],
      "_model_module": "@jupyter-widgets/controls",
      "_model_module_version": "1.5.0",
      "_model_name": "FloatProgressModel",
      "_view_count": null,
      "_view_module": "@jupyter-widgets/controls",
      "_view_module_version": "1.5.0",
      "_view_name": "ProgressView",
      "bar_style": "success",
      "description": "",
      "description_tooltip": null,
      "layout": "IPY_MODEL_cdad5be64ec1460fa6193cc48a68e3d7",
      "max": 2701,
      "min": 0,
      "orientation": "horizontal",
      "style": "IPY_MODEL_a193d167212a491c9e0c344223ee3b30",
      "value": 2701
     }
    },
    "133292b7ba4f4277aa68febd3c073d33": {
     "model_module": "@jupyter-widgets/controls",
     "model_module_version": "1.5.0",
     "model_name": "HTMLModel",
     "state": {
      "_dom_classes": [],
      "_model_module": "@jupyter-widgets/controls",
      "_model_module_version": "1.5.0",
      "_model_name": "HTMLModel",
      "_view_count": null,
      "_view_module": "@jupyter-widgets/controls",
      "_view_module_version": "1.5.0",
      "_view_name": "HTMLView",
      "description": "",
      "description_tooltip": null,
      "layout": "IPY_MODEL_2a3ba2928e6b452aa7746410b4d2fe31",
      "placeholder": "​",
      "style": "IPY_MODEL_16404df04da44cfaaae38e4d9c3ca119",
      "value": " 2701/2701 [03:39&lt;00:00, 12.36it/s]"
     }
    },
    "162f85093b364243985a6aa6c4180b5e": {
     "model_module": "@jupyter-widgets/controls",
     "model_module_version": "1.5.0",
     "model_name": "HTMLModel",
     "state": {
      "_dom_classes": [],
      "_model_module": "@jupyter-widgets/controls",
      "_model_module_version": "1.5.0",
      "_model_name": "HTMLModel",
      "_view_count": null,
      "_view_module": "@jupyter-widgets/controls",
      "_view_module_version": "1.5.0",
      "_view_name": "HTMLView",
      "description": "",
      "description_tooltip": null,
      "layout": "IPY_MODEL_f81857d55a774eb0929a6f077ba52535",
      "placeholder": "​",
      "style": "IPY_MODEL_70d056753f4a4aa5a716d7f8ecb05bd6",
      "value": " 2701/2701 [03:39&lt;00:00, 12.20it/s]"
     }
    },
    "16404df04da44cfaaae38e4d9c3ca119": {
     "model_module": "@jupyter-widgets/controls",
     "model_module_version": "1.5.0",
     "model_name": "DescriptionStyleModel",
     "state": {
      "_model_module": "@jupyter-widgets/controls",
      "_model_module_version": "1.5.0",
      "_model_name": "DescriptionStyleModel",
      "_view_count": null,
      "_view_module": "@jupyter-widgets/base",
      "_view_module_version": "1.2.0",
      "_view_name": "StyleView",
      "description_width": ""
     }
    },
    "1823b66f520c4b00a3f938496143f8c6": {
     "model_module": "@jupyter-widgets/base",
     "model_module_version": "1.2.0",
     "model_name": "LayoutModel",
     "state": {
      "_model_module": "@jupyter-widgets/base",
      "_model_module_version": "1.2.0",
      "_model_name": "LayoutModel",
      "_view_count": null,
      "_view_module": "@jupyter-widgets/base",
      "_view_module_version": "1.2.0",
      "_view_name": "LayoutView",
      "align_content": null,
      "align_items": null,
      "align_self": null,
      "border": null,
      "bottom": null,
      "display": null,
      "flex": null,
      "flex_flow": null,
      "grid_area": null,
      "grid_auto_columns": null,
      "grid_auto_flow": null,
      "grid_auto_rows": null,
      "grid_column": null,
      "grid_gap": null,
      "grid_row": null,
      "grid_template_areas": null,
      "grid_template_columns": null,
      "grid_template_rows": null,
      "height": null,
      "justify_content": null,
      "justify_items": null,
      "left": null,
      "margin": null,
      "max_height": null,
      "max_width": null,
      "min_height": null,
      "min_width": null,
      "object_fit": null,
      "object_position": null,
      "order": null,
      "overflow": null,
      "overflow_x": null,
      "overflow_y": null,
      "padding": null,
      "right": null,
      "top": null,
      "visibility": null,
      "width": null
     }
    },
    "19cf766513a8470b83202d8c851cab2b": {
     "model_module": "@jupyter-widgets/controls",
     "model_module_version": "1.5.0",
     "model_name": "DescriptionStyleModel",
     "state": {
      "_model_module": "@jupyter-widgets/controls",
      "_model_module_version": "1.5.0",
      "_model_name": "DescriptionStyleModel",
      "_view_count": null,
      "_view_module": "@jupyter-widgets/base",
      "_view_module_version": "1.2.0",
      "_view_name": "StyleView",
      "description_width": ""
     }
    },
    "25b029b7236b45138ef7b802238999b2": {
     "model_module": "@jupyter-widgets/base",
     "model_module_version": "1.2.0",
     "model_name": "LayoutModel",
     "state": {
      "_model_module": "@jupyter-widgets/base",
      "_model_module_version": "1.2.0",
      "_model_name": "LayoutModel",
      "_view_count": null,
      "_view_module": "@jupyter-widgets/base",
      "_view_module_version": "1.2.0",
      "_view_name": "LayoutView",
      "align_content": null,
      "align_items": null,
      "align_self": null,
      "border": null,
      "bottom": null,
      "display": null,
      "flex": null,
      "flex_flow": null,
      "grid_area": null,
      "grid_auto_columns": null,
      "grid_auto_flow": null,
      "grid_auto_rows": null,
      "grid_column": null,
      "grid_gap": null,
      "grid_row": null,
      "grid_template_areas": null,
      "grid_template_columns": null,
      "grid_template_rows": null,
      "height": null,
      "justify_content": null,
      "justify_items": null,
      "left": null,
      "margin": null,
      "max_height": null,
      "max_width": null,
      "min_height": null,
      "min_width": null,
      "object_fit": null,
      "object_position": null,
      "order": null,
      "overflow": null,
      "overflow_x": null,
      "overflow_y": null,
      "padding": null,
      "right": null,
      "top": null,
      "visibility": null,
      "width": null
     }
    },
    "265f7cf73d4d43869d384b5608461612": {
     "model_module": "@jupyter-widgets/controls",
     "model_module_version": "1.5.0",
     "model_name": "ProgressStyleModel",
     "state": {
      "_model_module": "@jupyter-widgets/controls",
      "_model_module_version": "1.5.0",
      "_model_name": "ProgressStyleModel",
      "_view_count": null,
      "_view_module": "@jupyter-widgets/base",
      "_view_module_version": "1.2.0",
      "_view_name": "StyleView",
      "bar_color": null,
      "description_width": ""
     }
    },
    "28c49050244144c49c2a66c7723d3586": {
     "model_module": "@jupyter-widgets/controls",
     "model_module_version": "1.5.0",
     "model_name": "HTMLModel",
     "state": {
      "_dom_classes": [],
      "_model_module": "@jupyter-widgets/controls",
      "_model_module_version": "1.5.0",
      "_model_name": "HTMLModel",
      "_view_count": null,
      "_view_module": "@jupyter-widgets/controls",
      "_view_module_version": "1.5.0",
      "_view_name": "HTMLView",
      "description": "",
      "description_tooltip": null,
      "layout": "IPY_MODEL_c8e76087ebdd4d07a7e8d5f4435e231b",
      "placeholder": "​",
      "style": "IPY_MODEL_19cf766513a8470b83202d8c851cab2b",
      "value": " 432158/432158 [08:01&lt;00:00, 951.51it/s]"
     }
    },
    "2a3ba2928e6b452aa7746410b4d2fe31": {
     "model_module": "@jupyter-widgets/base",
     "model_module_version": "1.2.0",
     "model_name": "LayoutModel",
     "state": {
      "_model_module": "@jupyter-widgets/base",
      "_model_module_version": "1.2.0",
      "_model_name": "LayoutModel",
      "_view_count": null,
      "_view_module": "@jupyter-widgets/base",
      "_view_module_version": "1.2.0",
      "_view_name": "LayoutView",
      "align_content": null,
      "align_items": null,
      "align_self": null,
      "border": null,
      "bottom": null,
      "display": null,
      "flex": null,
      "flex_flow": null,
      "grid_area": null,
      "grid_auto_columns": null,
      "grid_auto_flow": null,
      "grid_auto_rows": null,
      "grid_column": null,
      "grid_gap": null,
      "grid_row": null,
      "grid_template_areas": null,
      "grid_template_columns": null,
      "grid_template_rows": null,
      "height": null,
      "justify_content": null,
      "justify_items": null,
      "left": null,
      "margin": null,
      "max_height": null,
      "max_width": null,
      "min_height": null,
      "min_width": null,
      "object_fit": null,
      "object_position": null,
      "order": null,
      "overflow": null,
      "overflow_x": null,
      "overflow_y": null,
      "padding": null,
      "right": null,
      "top": null,
      "visibility": null,
      "width": null
     }
    },
    "2c41a7947ed0474a9280d896c2939ef2": {
     "model_module": "@jupyter-widgets/controls",
     "model_module_version": "1.5.0",
     "model_name": "ProgressStyleModel",
     "state": {
      "_model_module": "@jupyter-widgets/controls",
      "_model_module_version": "1.5.0",
      "_model_name": "ProgressStyleModel",
      "_view_count": null,
      "_view_module": "@jupyter-widgets/base",
      "_view_module_version": "1.2.0",
      "_view_name": "StyleView",
      "bar_color": null,
      "description_width": ""
     }
    },
    "3115ed017fc74f7e92cd5933a8087580": {
     "model_module": "@jupyter-widgets/base",
     "model_module_version": "1.2.0",
     "model_name": "LayoutModel",
     "state": {
      "_model_module": "@jupyter-widgets/base",
      "_model_module_version": "1.2.0",
      "_model_name": "LayoutModel",
      "_view_count": null,
      "_view_module": "@jupyter-widgets/base",
      "_view_module_version": "1.2.0",
      "_view_name": "LayoutView",
      "align_content": null,
      "align_items": null,
      "align_self": null,
      "border": null,
      "bottom": null,
      "display": null,
      "flex": null,
      "flex_flow": null,
      "grid_area": null,
      "grid_auto_columns": null,
      "grid_auto_flow": null,
      "grid_auto_rows": null,
      "grid_column": null,
      "grid_gap": null,
      "grid_row": null,
      "grid_template_areas": null,
      "grid_template_columns": null,
      "grid_template_rows": null,
      "height": null,
      "justify_content": null,
      "justify_items": null,
      "left": null,
      "margin": null,
      "max_height": null,
      "max_width": null,
      "min_height": null,
      "min_width": null,
      "object_fit": null,
      "object_position": null,
      "order": null,
      "overflow": null,
      "overflow_x": null,
      "overflow_y": null,
      "padding": null,
      "right": null,
      "top": null,
      "visibility": null,
      "width": null
     }
    },
    "327ace9dccda4bf09d1d87e4f260840e": {
     "model_module": "@jupyter-widgets/controls",
     "model_module_version": "1.5.0",
     "model_name": "HTMLModel",
     "state": {
      "_dom_classes": [],
      "_model_module": "@jupyter-widgets/controls",
      "_model_module_version": "1.5.0",
      "_model_name": "HTMLModel",
      "_view_count": null,
      "_view_module": "@jupyter-widgets/controls",
      "_view_module_version": "1.5.0",
      "_view_name": "HTMLView",
      "description": "",
      "description_tooltip": null,
      "layout": "IPY_MODEL_d6367037a2994f62b27f0162f257749b",
      "placeholder": "​",
      "style": "IPY_MODEL_d1c6b23326ae43518d9aa575e3e8e98b",
      "value": " 2701/2701 [03:39&lt;00:00, 12.27it/s]"
     }
    },
    "359cbb8df92840588813eb9b8c8391eb": {
     "model_module": "@jupyter-widgets/controls",
     "model_module_version": "1.5.0",
     "model_name": "HTMLModel",
     "state": {
      "_dom_classes": [],
      "_model_module": "@jupyter-widgets/controls",
      "_model_module_version": "1.5.0",
      "_model_name": "HTMLModel",
      "_view_count": null,
      "_view_module": "@jupyter-widgets/controls",
      "_view_module_version": "1.5.0",
      "_view_name": "HTMLView",
      "description": "",
      "description_tooltip": null,
      "layout": "IPY_MODEL_5029c8650c984ce1947f98b43d07b717",
      "placeholder": "​",
      "style": "IPY_MODEL_f7b99eef368c4a89a8c14d5355939381",
      "value": "loss: 0.3127: 100%"
     }
    },
    "35a0ae110a964b80908b3d1d081dddce": {
     "model_module": "@jupyter-widgets/controls",
     "model_module_version": "1.5.0",
     "model_name": "HBoxModel",
     "state": {
      "_dom_classes": [],
      "_model_module": "@jupyter-widgets/controls",
      "_model_module_version": "1.5.0",
      "_model_name": "HBoxModel",
      "_view_count": null,
      "_view_module": "@jupyter-widgets/controls",
      "_view_module_version": "1.5.0",
      "_view_name": "HBoxView",
      "box_style": "",
      "children": [
       "IPY_MODEL_36854c15411c4220bc1aeeca1905b183",
       "IPY_MODEL_371d449f3e104693affe4c84a799678d",
       "IPY_MODEL_162f85093b364243985a6aa6c4180b5e"
      ],
      "layout": "IPY_MODEL_d77a3b83ed784f23859e14e742653e55"
     }
    },
    "36854c15411c4220bc1aeeca1905b183": {
     "model_module": "@jupyter-widgets/controls",
     "model_module_version": "1.5.0",
     "model_name": "HTMLModel",
     "state": {
      "_dom_classes": [],
      "_model_module": "@jupyter-widgets/controls",
      "_model_module_version": "1.5.0",
      "_model_name": "HTMLModel",
      "_view_count": null,
      "_view_module": "@jupyter-widgets/controls",
      "_view_module_version": "1.5.0",
      "_view_name": "HTMLView",
      "description": "",
      "description_tooltip": null,
      "layout": "IPY_MODEL_61b71cab1fd04040a72e0f63e9741dcc",
      "placeholder": "​",
      "style": "IPY_MODEL_f177b5cf4c4e4059ba4b9e8113dc050f",
      "value": "loss: 0.2458: 100%"
     }
    },
    "371d449f3e104693affe4c84a799678d": {
     "model_module": "@jupyter-widgets/controls",
     "model_module_version": "1.5.0",
     "model_name": "FloatProgressModel",
     "state": {
      "_dom_classes": [],
      "_model_module": "@jupyter-widgets/controls",
      "_model_module_version": "1.5.0",
      "_model_name": "FloatProgressModel",
      "_view_count": null,
      "_view_module": "@jupyter-widgets/controls",
      "_view_module_version": "1.5.0",
      "_view_name": "ProgressView",
      "bar_style": "success",
      "description": "",
      "description_tooltip": null,
      "layout": "IPY_MODEL_6b139edf3ea54484a9754e843d0fd1f2",
      "max": 2701,
      "min": 0,
      "orientation": "horizontal",
      "style": "IPY_MODEL_4f793def26564735b2aed120c9284b49",
      "value": 2701
     }
    },
    "4efe67493d084b939392564e66984431": {
     "model_module": "@jupyter-widgets/controls",
     "model_module_version": "1.5.0",
     "model_name": "FloatProgressModel",
     "state": {
      "_dom_classes": [],
      "_model_module": "@jupyter-widgets/controls",
      "_model_module_version": "1.5.0",
      "_model_name": "FloatProgressModel",
      "_view_count": null,
      "_view_module": "@jupyter-widgets/controls",
      "_view_module_version": "1.5.0",
      "_view_name": "ProgressView",
      "bar_style": "success",
      "description": "",
      "description_tooltip": null,
      "layout": "IPY_MODEL_25b029b7236b45138ef7b802238999b2",
      "max": 10804,
      "min": 0,
      "orientation": "horizontal",
      "style": "IPY_MODEL_8dc1fc84a8b04761a3ba7ac53b7b210f",
      "value": 10804
     }
    },
    "4f793def26564735b2aed120c9284b49": {
     "model_module": "@jupyter-widgets/controls",
     "model_module_version": "1.5.0",
     "model_name": "ProgressStyleModel",
     "state": {
      "_model_module": "@jupyter-widgets/controls",
      "_model_module_version": "1.5.0",
      "_model_name": "ProgressStyleModel",
      "_view_count": null,
      "_view_module": "@jupyter-widgets/base",
      "_view_module_version": "1.2.0",
      "_view_name": "StyleView",
      "bar_color": null,
      "description_width": ""
     }
    },
    "5029c8650c984ce1947f98b43d07b717": {
     "model_module": "@jupyter-widgets/base",
     "model_module_version": "1.2.0",
     "model_name": "LayoutModel",
     "state": {
      "_model_module": "@jupyter-widgets/base",
      "_model_module_version": "1.2.0",
      "_model_name": "LayoutModel",
      "_view_count": null,
      "_view_module": "@jupyter-widgets/base",
      "_view_module_version": "1.2.0",
      "_view_name": "LayoutView",
      "align_content": null,
      "align_items": null,
      "align_self": null,
      "border": null,
      "bottom": null,
      "display": null,
      "flex": null,
      "flex_flow": null,
      "grid_area": null,
      "grid_auto_columns": null,
      "grid_auto_flow": null,
      "grid_auto_rows": null,
      "grid_column": null,
      "grid_gap": null,
      "grid_row": null,
      "grid_template_areas": null,
      "grid_template_columns": null,
      "grid_template_rows": null,
      "height": null,
      "justify_content": null,
      "justify_items": null,
      "left": null,
      "margin": null,
      "max_height": null,
      "max_width": null,
      "min_height": null,
      "min_width": null,
      "object_fit": null,
      "object_position": null,
      "order": null,
      "overflow": null,
      "overflow_x": null,
      "overflow_y": null,
      "padding": null,
      "right": null,
      "top": null,
      "visibility": null,
      "width": null
     }
    },
    "52d194e42cc04508be0dde7ebc397239": {
     "model_module": "@jupyter-widgets/controls",
     "model_module_version": "1.5.0",
     "model_name": "HBoxModel",
     "state": {
      "_dom_classes": [],
      "_model_module": "@jupyter-widgets/controls",
      "_model_module_version": "1.5.0",
      "_model_name": "HBoxModel",
      "_view_count": null,
      "_view_module": "@jupyter-widgets/controls",
      "_view_module_version": "1.5.0",
      "_view_name": "HBoxView",
      "box_style": "",
      "children": [
       "IPY_MODEL_359cbb8df92840588813eb9b8c8391eb",
       "IPY_MODEL_82b22f33140d4180b1fdf4eb7251518b",
       "IPY_MODEL_133292b7ba4f4277aa68febd3c073d33"
      ],
      "layout": "IPY_MODEL_67bf1c26ab0747cf94a9751a379ae069"
     }
    },
    "53262d9c8c54474b874bfbb9039c6eee": {
     "model_module": "@jupyter-widgets/controls",
     "model_module_version": "1.5.0",
     "model_name": "DescriptionStyleModel",
     "state": {
      "_model_module": "@jupyter-widgets/controls",
      "_model_module_version": "1.5.0",
      "_model_name": "DescriptionStyleModel",
      "_view_count": null,
      "_view_module": "@jupyter-widgets/base",
      "_view_module_version": "1.2.0",
      "_view_name": "StyleView",
      "description_width": ""
     }
    },
    "5b588fc7fc30466faccf3f37468cbdea": {
     "model_module": "@jupyter-widgets/base",
     "model_module_version": "1.2.0",
     "model_name": "LayoutModel",
     "state": {
      "_model_module": "@jupyter-widgets/base",
      "_model_module_version": "1.2.0",
      "_model_name": "LayoutModel",
      "_view_count": null,
      "_view_module": "@jupyter-widgets/base",
      "_view_module_version": "1.2.0",
      "_view_name": "LayoutView",
      "align_content": null,
      "align_items": null,
      "align_self": null,
      "border": null,
      "bottom": null,
      "display": null,
      "flex": null,
      "flex_flow": null,
      "grid_area": null,
      "grid_auto_columns": null,
      "grid_auto_flow": null,
      "grid_auto_rows": null,
      "grid_column": null,
      "grid_gap": null,
      "grid_row": null,
      "grid_template_areas": null,
      "grid_template_columns": null,
      "grid_template_rows": null,
      "height": null,
      "justify_content": null,
      "justify_items": null,
      "left": null,
      "margin": null,
      "max_height": null,
      "max_width": null,
      "min_height": null,
      "min_width": null,
      "object_fit": null,
      "object_position": null,
      "order": null,
      "overflow": null,
      "overflow_x": null,
      "overflow_y": null,
      "padding": null,
      "right": null,
      "top": null,
      "visibility": null,
      "width": null
     }
    },
    "5d884af7639e41abb8911ecbcdf63bdc": {
     "model_module": "@jupyter-widgets/controls",
     "model_module_version": "1.5.0",
     "model_name": "HBoxModel",
     "state": {
      "_dom_classes": [],
      "_model_module": "@jupyter-widgets/controls",
      "_model_module_version": "1.5.0",
      "_model_name": "HBoxModel",
      "_view_count": null,
      "_view_module": "@jupyter-widgets/controls",
      "_view_module_version": "1.5.0",
      "_view_name": "HBoxView",
      "box_style": "",
      "children": [
       "IPY_MODEL_a6b803689fa342b58e52c0d1fec20429",
       "IPY_MODEL_b0603d38bae84a0bb84ef5f4275a69ed",
       "IPY_MODEL_9bb6a1cc7e164543a431d02d3c75fad5"
      ],
      "layout": "IPY_MODEL_e35b1e953ea34f6cbe8728aa7c6793a9"
     }
    },
    "61b71cab1fd04040a72e0f63e9741dcc": {
     "model_module": "@jupyter-widgets/base",
     "model_module_version": "1.2.0",
     "model_name": "LayoutModel",
     "state": {
      "_model_module": "@jupyter-widgets/base",
      "_model_module_version": "1.2.0",
      "_model_name": "LayoutModel",
      "_view_count": null,
      "_view_module": "@jupyter-widgets/base",
      "_view_module_version": "1.2.0",
      "_view_name": "LayoutView",
      "align_content": null,
      "align_items": null,
      "align_self": null,
      "border": null,
      "bottom": null,
      "display": null,
      "flex": null,
      "flex_flow": null,
      "grid_area": null,
      "grid_auto_columns": null,
      "grid_auto_flow": null,
      "grid_auto_rows": null,
      "grid_column": null,
      "grid_gap": null,
      "grid_row": null,
      "grid_template_areas": null,
      "grid_template_columns": null,
      "grid_template_rows": null,
      "height": null,
      "justify_content": null,
      "justify_items": null,
      "left": null,
      "margin": null,
      "max_height": null,
      "max_width": null,
      "min_height": null,
      "min_width": null,
      "object_fit": null,
      "object_position": null,
      "order": null,
      "overflow": null,
      "overflow_x": null,
      "overflow_y": null,
      "padding": null,
      "right": null,
      "top": null,
      "visibility": null,
      "width": null
     }
    },
    "62c159f485fb4fae9bcff149b8793eb1": {
     "model_module": "@jupyter-widgets/controls",
     "model_module_version": "1.5.0",
     "model_name": "HBoxModel",
     "state": {
      "_dom_classes": [],
      "_model_module": "@jupyter-widgets/controls",
      "_model_module_version": "1.5.0",
      "_model_name": "HBoxModel",
      "_view_count": null,
      "_view_module": "@jupyter-widgets/controls",
      "_view_module_version": "1.5.0",
      "_view_name": "HBoxView",
      "box_style": "",
      "children": [
       "IPY_MODEL_9d1284d31e914ed38746c4e87fb81e7b",
       "IPY_MODEL_0c10ae2c3fd24900ae74ce29bb1d1faa",
       "IPY_MODEL_aa8fa30c93f645bf8ad59e3f75874b2f"
      ],
      "layout": "IPY_MODEL_fd1ab82c74734d76b56e4cb13797a285"
     }
    },
    "67bf1c26ab0747cf94a9751a379ae069": {
     "model_module": "@jupyter-widgets/base",
     "model_module_version": "1.2.0",
     "model_name": "LayoutModel",
     "state": {
      "_model_module": "@jupyter-widgets/base",
      "_model_module_version": "1.2.0",
      "_model_name": "LayoutModel",
      "_view_count": null,
      "_view_module": "@jupyter-widgets/base",
      "_view_module_version": "1.2.0",
      "_view_name": "LayoutView",
      "align_content": null,
      "align_items": null,
      "align_self": null,
      "border": null,
      "bottom": null,
      "display": null,
      "flex": null,
      "flex_flow": null,
      "grid_area": null,
      "grid_auto_columns": null,
      "grid_auto_flow": null,
      "grid_auto_rows": null,
      "grid_column": null,
      "grid_gap": null,
      "grid_row": null,
      "grid_template_areas": null,
      "grid_template_columns": null,
      "grid_template_rows": null,
      "height": null,
      "justify_content": null,
      "justify_items": null,
      "left": null,
      "margin": null,
      "max_height": null,
      "max_width": null,
      "min_height": null,
      "min_width": null,
      "object_fit": null,
      "object_position": null,
      "order": null,
      "overflow": null,
      "overflow_x": null,
      "overflow_y": null,
      "padding": null,
      "right": null,
      "top": null,
      "visibility": null,
      "width": null
     }
    },
    "6b139edf3ea54484a9754e843d0fd1f2": {
     "model_module": "@jupyter-widgets/base",
     "model_module_version": "1.2.0",
     "model_name": "LayoutModel",
     "state": {
      "_model_module": "@jupyter-widgets/base",
      "_model_module_version": "1.2.0",
      "_model_name": "LayoutModel",
      "_view_count": null,
      "_view_module": "@jupyter-widgets/base",
      "_view_module_version": "1.2.0",
      "_view_name": "LayoutView",
      "align_content": null,
      "align_items": null,
      "align_self": null,
      "border": null,
      "bottom": null,
      "display": null,
      "flex": null,
      "flex_flow": null,
      "grid_area": null,
      "grid_auto_columns": null,
      "grid_auto_flow": null,
      "grid_auto_rows": null,
      "grid_column": null,
      "grid_gap": null,
      "grid_row": null,
      "grid_template_areas": null,
      "grid_template_columns": null,
      "grid_template_rows": null,
      "height": null,
      "justify_content": null,
      "justify_items": null,
      "left": null,
      "margin": null,
      "max_height": null,
      "max_width": null,
      "min_height": null,
      "min_width": null,
      "object_fit": null,
      "object_position": null,
      "order": null,
      "overflow": null,
      "overflow_x": null,
      "overflow_y": null,
      "padding": null,
      "right": null,
      "top": null,
      "visibility": null,
      "width": null
     }
    },
    "6f4b60a30a01496e9e659a46c076b88b": {
     "model_module": "@jupyter-widgets/controls",
     "model_module_version": "1.5.0",
     "model_name": "HTMLModel",
     "state": {
      "_dom_classes": [],
      "_model_module": "@jupyter-widgets/controls",
      "_model_module_version": "1.5.0",
      "_model_name": "HTMLModel",
      "_view_count": null,
      "_view_module": "@jupyter-widgets/controls",
      "_view_module_version": "1.5.0",
      "_view_name": "HTMLView",
      "description": "",
      "description_tooltip": null,
      "layout": "IPY_MODEL_99f75396ea884edcb1ef21156dffe7f2",
      "placeholder": "​",
      "style": "IPY_MODEL_53262d9c8c54474b874bfbb9039c6eee",
      "value": "100%"
     }
    },
    "70d056753f4a4aa5a716d7f8ecb05bd6": {
     "model_module": "@jupyter-widgets/controls",
     "model_module_version": "1.5.0",
     "model_name": "DescriptionStyleModel",
     "state": {
      "_model_module": "@jupyter-widgets/controls",
      "_model_module_version": "1.5.0",
      "_model_name": "DescriptionStyleModel",
      "_view_count": null,
      "_view_module": "@jupyter-widgets/base",
      "_view_module_version": "1.2.0",
      "_view_name": "StyleView",
      "description_width": ""
     }
    },
    "7aeceb1a8a9a4836b59cfda0f634391b": {
     "model_module": "@jupyter-widgets/controls",
     "model_module_version": "1.5.0",
     "model_name": "DescriptionStyleModel",
     "state": {
      "_model_module": "@jupyter-widgets/controls",
      "_model_module_version": "1.5.0",
      "_model_name": "DescriptionStyleModel",
      "_view_count": null,
      "_view_module": "@jupyter-widgets/base",
      "_view_module_version": "1.2.0",
      "_view_name": "StyleView",
      "description_width": ""
     }
    },
    "7cd960c05a8240ccb3405648fe402e00": {
     "model_module": "@jupyter-widgets/controls",
     "model_module_version": "1.5.0",
     "model_name": "FloatProgressModel",
     "state": {
      "_dom_classes": [],
      "_model_module": "@jupyter-widgets/controls",
      "_model_module_version": "1.5.0",
      "_model_name": "FloatProgressModel",
      "_view_count": null,
      "_view_module": "@jupyter-widgets/controls",
      "_view_module_version": "1.5.0",
      "_view_name": "ProgressView",
      "bar_style": "success",
      "description": "",
      "description_tooltip": null,
      "layout": "IPY_MODEL_d71c152102254044b805fad611d0e8c0",
      "max": 2701,
      "min": 0,
      "orientation": "horizontal",
      "style": "IPY_MODEL_f4f3c25bb233456f9d50e5c3d5bd060f",
      "value": 2701
     }
    },
    "82b22f33140d4180b1fdf4eb7251518b": {
     "model_module": "@jupyter-widgets/controls",
     "model_module_version": "1.5.0",
     "model_name": "FloatProgressModel",
     "state": {
      "_dom_classes": [],
      "_model_module": "@jupyter-widgets/controls",
      "_model_module_version": "1.5.0",
      "_model_name": "FloatProgressModel",
      "_view_count": null,
      "_view_module": "@jupyter-widgets/controls",
      "_view_module_version": "1.5.0",
      "_view_name": "ProgressView",
      "bar_style": "success",
      "description": "",
      "description_tooltip": null,
      "layout": "IPY_MODEL_c8da3c3270ca468181551f9e355d8849",
      "max": 2701,
      "min": 0,
      "orientation": "horizontal",
      "style": "IPY_MODEL_ed363a7f93b043049ec1536ff2145155",
      "value": 2701
     }
    },
    "8305b3285a654eae9649de24dff22521": {
     "model_module": "@jupyter-widgets/controls",
     "model_module_version": "1.5.0",
     "model_name": "HBoxModel",
     "state": {
      "_dom_classes": [],
      "_model_module": "@jupyter-widgets/controls",
      "_model_module_version": "1.5.0",
      "_model_name": "HBoxModel",
      "_view_count": null,
      "_view_module": "@jupyter-widgets/controls",
      "_view_module_version": "1.5.0",
      "_view_name": "HBoxView",
      "box_style": "",
      "children": [
       "IPY_MODEL_c42dc9e9585644d0a62068bacfd53ba9",
       "IPY_MODEL_b596c809551f4b37a88c362b4da08444",
       "IPY_MODEL_f6cd2c53132e40858123ec1748534d2d"
      ],
      "layout": "IPY_MODEL_ca1a52051ed9436c90980a70c95a6473"
     }
    },
    "8dc1fc84a8b04761a3ba7ac53b7b210f": {
     "model_module": "@jupyter-widgets/controls",
     "model_module_version": "1.5.0",
     "model_name": "ProgressStyleModel",
     "state": {
      "_model_module": "@jupyter-widgets/controls",
      "_model_module_version": "1.5.0",
      "_model_name": "ProgressStyleModel",
      "_view_count": null,
      "_view_module": "@jupyter-widgets/base",
      "_view_module_version": "1.2.0",
      "_view_name": "StyleView",
      "bar_color": null,
      "description_width": ""
     }
    },
    "92f02bd2556f4f4ebba3fcef08d8ed98": {
     "model_module": "@jupyter-widgets/controls",
     "model_module_version": "1.5.0",
     "model_name": "HBoxModel",
     "state": {
      "_dom_classes": [],
      "_model_module": "@jupyter-widgets/controls",
      "_model_module_version": "1.5.0",
      "_model_name": "HBoxModel",
      "_view_count": null,
      "_view_module": "@jupyter-widgets/controls",
      "_view_module_version": "1.5.0",
      "_view_name": "HBoxView",
      "box_style": "",
      "children": [
       "IPY_MODEL_cb2ad93cf22a4a78a5abfd957bca79bd",
       "IPY_MODEL_7cd960c05a8240ccb3405648fe402e00",
       "IPY_MODEL_327ace9dccda4bf09d1d87e4f260840e"
      ],
      "layout": "IPY_MODEL_fdf6c5ef7d6341518dea5f3c93da7e61"
     }
    },
    "9588dbc7a4fd468090f861e99c93395a": {
     "model_module": "@jupyter-widgets/controls",
     "model_module_version": "1.5.0",
     "model_name": "DescriptionStyleModel",
     "state": {
      "_model_module": "@jupyter-widgets/controls",
      "_model_module_version": "1.5.0",
      "_model_name": "DescriptionStyleModel",
      "_view_count": null,
      "_view_module": "@jupyter-widgets/base",
      "_view_module_version": "1.2.0",
      "_view_name": "StyleView",
      "description_width": ""
     }
    },
    "99f75396ea884edcb1ef21156dffe7f2": {
     "model_module": "@jupyter-widgets/base",
     "model_module_version": "1.2.0",
     "model_name": "LayoutModel",
     "state": {
      "_model_module": "@jupyter-widgets/base",
      "_model_module_version": "1.2.0",
      "_model_name": "LayoutModel",
      "_view_count": null,
      "_view_module": "@jupyter-widgets/base",
      "_view_module_version": "1.2.0",
      "_view_name": "LayoutView",
      "align_content": null,
      "align_items": null,
      "align_self": null,
      "border": null,
      "bottom": null,
      "display": null,
      "flex": null,
      "flex_flow": null,
      "grid_area": null,
      "grid_auto_columns": null,
      "grid_auto_flow": null,
      "grid_auto_rows": null,
      "grid_column": null,
      "grid_gap": null,
      "grid_row": null,
      "grid_template_areas": null,
      "grid_template_columns": null,
      "grid_template_rows": null,
      "height": null,
      "justify_content": null,
      "justify_items": null,
      "left": null,
      "margin": null,
      "max_height": null,
      "max_width": null,
      "min_height": null,
      "min_width": null,
      "object_fit": null,
      "object_position": null,
      "order": null,
      "overflow": null,
      "overflow_x": null,
      "overflow_y": null,
      "padding": null,
      "right": null,
      "top": null,
      "visibility": null,
      "width": null
     }
    },
    "9bb6a1cc7e164543a431d02d3c75fad5": {
     "model_module": "@jupyter-widgets/controls",
     "model_module_version": "1.5.0",
     "model_name": "HTMLModel",
     "state": {
      "_dom_classes": [],
      "_model_module": "@jupyter-widgets/controls",
      "_model_module_version": "1.5.0",
      "_model_name": "HTMLModel",
      "_view_count": null,
      "_view_module": "@jupyter-widgets/controls",
      "_view_module_version": "1.5.0",
      "_view_name": "HTMLView",
      "description": "",
      "description_tooltip": null,
      "layout": "IPY_MODEL_edfffd18aff240ff80ab905576c3c06f",
      "placeholder": "​",
      "style": "IPY_MODEL_fcbbc2a952ba4b1b875c1ca9176dddba",
      "value": " 10804/10804 [43:09&lt;00:00,  4.08it/s]"
     }
    },
    "9d1284d31e914ed38746c4e87fb81e7b": {
     "model_module": "@jupyter-widgets/controls",
     "model_module_version": "1.5.0",
     "model_name": "HTMLModel",
     "state": {
      "_dom_classes": [],
      "_model_module": "@jupyter-widgets/controls",
      "_model_module_version": "1.5.0",
      "_model_name": "HTMLModel",
      "_view_count": null,
      "_view_module": "@jupyter-widgets/controls",
      "_view_module_version": "1.5.0",
      "_view_name": "HTMLView",
      "description": "",
      "description_tooltip": null,
      "layout": "IPY_MODEL_be9d131f0a4d4acfa0c6c61111015cea",
      "placeholder": "​",
      "style": "IPY_MODEL_b5db8680fb63411fa484675402e99258",
      "value": "loss: 0.2543: 100%"
     }
    },
    "a0e58d722ae04d429270259025cf23de": {
     "model_module": "@jupyter-widgets/base",
     "model_module_version": "1.2.0",
     "model_name": "LayoutModel",
     "state": {
      "_model_module": "@jupyter-widgets/base",
      "_model_module_version": "1.2.0",
      "_model_name": "LayoutModel",
      "_view_count": null,
      "_view_module": "@jupyter-widgets/base",
      "_view_module_version": "1.2.0",
      "_view_name": "LayoutView",
      "align_content": null,
      "align_items": null,
      "align_self": null,
      "border": null,
      "bottom": null,
      "display": null,
      "flex": null,
      "flex_flow": null,
      "grid_area": null,
      "grid_auto_columns": null,
      "grid_auto_flow": null,
      "grid_auto_rows": null,
      "grid_column": null,
      "grid_gap": null,
      "grid_row": null,
      "grid_template_areas": null,
      "grid_template_columns": null,
      "grid_template_rows": null,
      "height": null,
      "justify_content": null,
      "justify_items": null,
      "left": null,
      "margin": null,
      "max_height": null,
      "max_width": null,
      "min_height": null,
      "min_width": null,
      "object_fit": null,
      "object_position": null,
      "order": null,
      "overflow": null,
      "overflow_x": null,
      "overflow_y": null,
      "padding": null,
      "right": null,
      "top": null,
      "visibility": null,
      "width": null
     }
    },
    "a193d167212a491c9e0c344223ee3b30": {
     "model_module": "@jupyter-widgets/controls",
     "model_module_version": "1.5.0",
     "model_name": "ProgressStyleModel",
     "state": {
      "_model_module": "@jupyter-widgets/controls",
      "_model_module_version": "1.5.0",
      "_model_name": "ProgressStyleModel",
      "_view_count": null,
      "_view_module": "@jupyter-widgets/base",
      "_view_module_version": "1.2.0",
      "_view_name": "StyleView",
      "bar_color": null,
      "description_width": ""
     }
    },
    "a3d1cae19cab4ca7b9730a47abd69184": {
     "model_module": "@jupyter-widgets/controls",
     "model_module_version": "1.5.0",
     "model_name": "HTMLModel",
     "state": {
      "_dom_classes": [],
      "_model_module": "@jupyter-widgets/controls",
      "_model_module_version": "1.5.0",
      "_model_name": "HTMLModel",
      "_view_count": null,
      "_view_module": "@jupyter-widgets/controls",
      "_view_module_version": "1.5.0",
      "_view_name": "HTMLView",
      "description": "",
      "description_tooltip": null,
      "layout": "IPY_MODEL_5b588fc7fc30466faccf3f37468cbdea",
      "placeholder": "​",
      "style": "IPY_MODEL_7aeceb1a8a9a4836b59cfda0f634391b",
      "value": "loss: 0.09944: 100%"
     }
    },
    "a4150b500cab4bf294ac7aaa82819f45": {
     "model_module": "@jupyter-widgets/base",
     "model_module_version": "1.2.0",
     "model_name": "LayoutModel",
     "state": {
      "_model_module": "@jupyter-widgets/base",
      "_model_module_version": "1.2.0",
      "_model_name": "LayoutModel",
      "_view_count": null,
      "_view_module": "@jupyter-widgets/base",
      "_view_module_version": "1.2.0",
      "_view_name": "LayoutView",
      "align_content": null,
      "align_items": null,
      "align_self": null,
      "border": null,
      "bottom": null,
      "display": null,
      "flex": null,
      "flex_flow": null,
      "grid_area": null,
      "grid_auto_columns": null,
      "grid_auto_flow": null,
      "grid_auto_rows": null,
      "grid_column": null,
      "grid_gap": null,
      "grid_row": null,
      "grid_template_areas": null,
      "grid_template_columns": null,
      "grid_template_rows": null,
      "height": null,
      "justify_content": null,
      "justify_items": null,
      "left": null,
      "margin": null,
      "max_height": null,
      "max_width": null,
      "min_height": null,
      "min_width": null,
      "object_fit": null,
      "object_position": null,
      "order": null,
      "overflow": null,
      "overflow_x": null,
      "overflow_y": null,
      "padding": null,
      "right": null,
      "top": null,
      "visibility": null,
      "width": null
     }
    },
    "a58e1fb72cd746e98440584d5ce307bb": {
     "model_module": "@jupyter-widgets/controls",
     "model_module_version": "1.5.0",
     "model_name": "HBoxModel",
     "state": {
      "_dom_classes": [],
      "_model_module": "@jupyter-widgets/controls",
      "_model_module_version": "1.5.0",
      "_model_name": "HBoxModel",
      "_view_count": null,
      "_view_module": "@jupyter-widgets/controls",
      "_view_module_version": "1.5.0",
      "_view_name": "HBoxView",
      "box_style": "",
      "children": [
       "IPY_MODEL_6f4b60a30a01496e9e659a46c076b88b",
       "IPY_MODEL_081b9d5de14245068a225fe30d1ec8ee",
       "IPY_MODEL_28c49050244144c49c2a66c7723d3586"
      ],
      "layout": "IPY_MODEL_dd28f9e553184164befb8a1080616c0a"
     }
    },
    "a6b803689fa342b58e52c0d1fec20429": {
     "model_module": "@jupyter-widgets/controls",
     "model_module_version": "1.5.0",
     "model_name": "HTMLModel",
     "state": {
      "_dom_classes": [],
      "_model_module": "@jupyter-widgets/controls",
      "_model_module_version": "1.5.0",
      "_model_name": "HTMLModel",
      "_view_count": null,
      "_view_module": "@jupyter-widgets/controls",
      "_view_module_version": "1.5.0",
      "_view_name": "HTMLView",
      "description": "",
      "description_tooltip": null,
      "layout": "IPY_MODEL_d15df6d855534336b63111fb63cea708",
      "placeholder": "​",
      "style": "IPY_MODEL_e8487f60cec24d59a5a972bcbf6c924b",
      "value": "loss: 0.1229: 100%"
     }
    },
    "a7b9c92cf4f3434388e2381791a07c61": {
     "model_module": "@jupyter-widgets/controls",
     "model_module_version": "1.5.0",
     "model_name": "DescriptionStyleModel",
     "state": {
      "_model_module": "@jupyter-widgets/controls",
      "_model_module_version": "1.5.0",
      "_model_name": "DescriptionStyleModel",
      "_view_count": null,
      "_view_module": "@jupyter-widgets/base",
      "_view_module_version": "1.2.0",
      "_view_name": "StyleView",
      "description_width": ""
     }
    },
    "aa8fa30c93f645bf8ad59e3f75874b2f": {
     "model_module": "@jupyter-widgets/controls",
     "model_module_version": "1.5.0",
     "model_name": "HTMLModel",
     "state": {
      "_dom_classes": [],
      "_model_module": "@jupyter-widgets/controls",
      "_model_module_version": "1.5.0",
      "_model_name": "HTMLModel",
      "_view_count": null,
      "_view_module": "@jupyter-widgets/controls",
      "_view_module_version": "1.5.0",
      "_view_name": "HTMLView",
      "description": "",
      "description_tooltip": null,
      "layout": "IPY_MODEL_a0e58d722ae04d429270259025cf23de",
      "placeholder": "​",
      "style": "IPY_MODEL_9588dbc7a4fd468090f861e99c93395a",
      "value": " 2701/2701 [03:38&lt;00:00, 12.34it/s]"
     }
    },
    "accab2b37e98457fb60607b1a044dbba": {
     "model_module": "@jupyter-widgets/base",
     "model_module_version": "1.2.0",
     "model_name": "LayoutModel",
     "state": {
      "_model_module": "@jupyter-widgets/base",
      "_model_module_version": "1.2.0",
      "_model_name": "LayoutModel",
      "_view_count": null,
      "_view_module": "@jupyter-widgets/base",
      "_view_module_version": "1.2.0",
      "_view_name": "LayoutView",
      "align_content": null,
      "align_items": null,
      "align_self": null,
      "border": null,
      "bottom": null,
      "display": null,
      "flex": null,
      "flex_flow": null,
      "grid_area": null,
      "grid_auto_columns": null,
      "grid_auto_flow": null,
      "grid_auto_rows": null,
      "grid_column": null,
      "grid_gap": null,
      "grid_row": null,
      "grid_template_areas": null,
      "grid_template_columns": null,
      "grid_template_rows": null,
      "height": null,
      "justify_content": null,
      "justify_items": null,
      "left": null,
      "margin": null,
      "max_height": null,
      "max_width": null,
      "min_height": null,
      "min_width": null,
      "object_fit": null,
      "object_position": null,
      "order": null,
      "overflow": null,
      "overflow_x": null,
      "overflow_y": null,
      "padding": null,
      "right": null,
      "top": null,
      "visibility": null,
      "width": null
     }
    },
    "b04febeb33a3415b8176c107aeb532d6": {
     "model_module": "@jupyter-widgets/controls",
     "model_module_version": "1.5.0",
     "model_name": "HBoxModel",
     "state": {
      "_dom_classes": [],
      "_model_module": "@jupyter-widgets/controls",
      "_model_module_version": "1.5.0",
      "_model_name": "HBoxModel",
      "_view_count": null,
      "_view_module": "@jupyter-widgets/controls",
      "_view_module_version": "1.5.0",
      "_view_name": "HBoxView",
      "box_style": "",
      "children": [
       "IPY_MODEL_a3d1cae19cab4ca7b9730a47abd69184",
       "IPY_MODEL_4efe67493d084b939392564e66984431",
       "IPY_MODEL_efe45eac25364b3c8b14bc4d791caca7"
      ],
      "layout": "IPY_MODEL_c8deb924605c4853bddd472db4fed871"
     }
    },
    "b0603d38bae84a0bb84ef5f4275a69ed": {
     "model_module": "@jupyter-widgets/controls",
     "model_module_version": "1.5.0",
     "model_name": "FloatProgressModel",
     "state": {
      "_dom_classes": [],
      "_model_module": "@jupyter-widgets/controls",
      "_model_module_version": "1.5.0",
      "_model_name": "FloatProgressModel",
      "_view_count": null,
      "_view_module": "@jupyter-widgets/controls",
      "_view_module_version": "1.5.0",
      "_view_name": "ProgressView",
      "bar_style": "success",
      "description": "",
      "description_tooltip": null,
      "layout": "IPY_MODEL_1823b66f520c4b00a3f938496143f8c6",
      "max": 10804,
      "min": 0,
      "orientation": "horizontal",
      "style": "IPY_MODEL_ecda85b192124b83bb840f209e6ce45d",
      "value": 10804
     }
    },
    "b596c809551f4b37a88c362b4da08444": {
     "model_module": "@jupyter-widgets/controls",
     "model_module_version": "1.5.0",
     "model_name": "FloatProgressModel",
     "state": {
      "_dom_classes": [],
      "_model_module": "@jupyter-widgets/controls",
      "_model_module_version": "1.5.0",
      "_model_name": "FloatProgressModel",
      "_view_count": null,
      "_view_module": "@jupyter-widgets/controls",
      "_view_module_version": "1.5.0",
      "_view_name": "ProgressView",
      "bar_style": "success",
      "description": "",
      "description_tooltip": null,
      "layout": "IPY_MODEL_f649eca078ab4fc4ae62eba2b1b3691a",
      "max": 10804,
      "min": 0,
      "orientation": "horizontal",
      "style": "IPY_MODEL_2c41a7947ed0474a9280d896c2939ef2",
      "value": 10804
     }
    },
    "b5db8680fb63411fa484675402e99258": {
     "model_module": "@jupyter-widgets/controls",
     "model_module_version": "1.5.0",
     "model_name": "DescriptionStyleModel",
     "state": {
      "_model_module": "@jupyter-widgets/controls",
      "_model_module_version": "1.5.0",
      "_model_name": "DescriptionStyleModel",
      "_view_count": null,
      "_view_module": "@jupyter-widgets/base",
      "_view_module_version": "1.2.0",
      "_view_name": "StyleView",
      "description_width": ""
     }
    },
    "be9d131f0a4d4acfa0c6c61111015cea": {
     "model_module": "@jupyter-widgets/base",
     "model_module_version": "1.2.0",
     "model_name": "LayoutModel",
     "state": {
      "_model_module": "@jupyter-widgets/base",
      "_model_module_version": "1.2.0",
      "_model_name": "LayoutModel",
      "_view_count": null,
      "_view_module": "@jupyter-widgets/base",
      "_view_module_version": "1.2.0",
      "_view_name": "LayoutView",
      "align_content": null,
      "align_items": null,
      "align_self": null,
      "border": null,
      "bottom": null,
      "display": null,
      "flex": null,
      "flex_flow": null,
      "grid_area": null,
      "grid_auto_columns": null,
      "grid_auto_flow": null,
      "grid_auto_rows": null,
      "grid_column": null,
      "grid_gap": null,
      "grid_row": null,
      "grid_template_areas": null,
      "grid_template_columns": null,
      "grid_template_rows": null,
      "height": null,
      "justify_content": null,
      "justify_items": null,
      "left": null,
      "margin": null,
      "max_height": null,
      "max_width": null,
      "min_height": null,
      "min_width": null,
      "object_fit": null,
      "object_position": null,
      "order": null,
      "overflow": null,
      "overflow_x": null,
      "overflow_y": null,
      "padding": null,
      "right": null,
      "top": null,
      "visibility": null,
      "width": null
     }
    },
    "c42dc9e9585644d0a62068bacfd53ba9": {
     "model_module": "@jupyter-widgets/controls",
     "model_module_version": "1.5.0",
     "model_name": "HTMLModel",
     "state": {
      "_dom_classes": [],
      "_model_module": "@jupyter-widgets/controls",
      "_model_module_version": "1.5.0",
      "_model_name": "HTMLModel",
      "_view_count": null,
      "_view_module": "@jupyter-widgets/controls",
      "_view_module_version": "1.5.0",
      "_view_name": "HTMLView",
      "description": "",
      "description_tooltip": null,
      "layout": "IPY_MODEL_a4150b500cab4bf294ac7aaa82819f45",
      "placeholder": "​",
      "style": "IPY_MODEL_cd0e7134432f4f62b92adb918576f775",
      "value": "loss: 0.04752: 100%"
     }
    },
    "c8da3c3270ca468181551f9e355d8849": {
     "model_module": "@jupyter-widgets/base",
     "model_module_version": "1.2.0",
     "model_name": "LayoutModel",
     "state": {
      "_model_module": "@jupyter-widgets/base",
      "_model_module_version": "1.2.0",
      "_model_name": "LayoutModel",
      "_view_count": null,
      "_view_module": "@jupyter-widgets/base",
      "_view_module_version": "1.2.0",
      "_view_name": "LayoutView",
      "align_content": null,
      "align_items": null,
      "align_self": null,
      "border": null,
      "bottom": null,
      "display": null,
      "flex": null,
      "flex_flow": null,
      "grid_area": null,
      "grid_auto_columns": null,
      "grid_auto_flow": null,
      "grid_auto_rows": null,
      "grid_column": null,
      "grid_gap": null,
      "grid_row": null,
      "grid_template_areas": null,
      "grid_template_columns": null,
      "grid_template_rows": null,
      "height": null,
      "justify_content": null,
      "justify_items": null,
      "left": null,
      "margin": null,
      "max_height": null,
      "max_width": null,
      "min_height": null,
      "min_width": null,
      "object_fit": null,
      "object_position": null,
      "order": null,
      "overflow": null,
      "overflow_x": null,
      "overflow_y": null,
      "padding": null,
      "right": null,
      "top": null,
      "visibility": null,
      "width": null
     }
    },
    "c8deb924605c4853bddd472db4fed871": {
     "model_module": "@jupyter-widgets/base",
     "model_module_version": "1.2.0",
     "model_name": "LayoutModel",
     "state": {
      "_model_module": "@jupyter-widgets/base",
      "_model_module_version": "1.2.0",
      "_model_name": "LayoutModel",
      "_view_count": null,
      "_view_module": "@jupyter-widgets/base",
      "_view_module_version": "1.2.0",
      "_view_name": "LayoutView",
      "align_content": null,
      "align_items": null,
      "align_self": null,
      "border": null,
      "bottom": null,
      "display": null,
      "flex": null,
      "flex_flow": null,
      "grid_area": null,
      "grid_auto_columns": null,
      "grid_auto_flow": null,
      "grid_auto_rows": null,
      "grid_column": null,
      "grid_gap": null,
      "grid_row": null,
      "grid_template_areas": null,
      "grid_template_columns": null,
      "grid_template_rows": null,
      "height": null,
      "justify_content": null,
      "justify_items": null,
      "left": null,
      "margin": null,
      "max_height": null,
      "max_width": null,
      "min_height": null,
      "min_width": null,
      "object_fit": null,
      "object_position": null,
      "order": null,
      "overflow": null,
      "overflow_x": null,
      "overflow_y": null,
      "padding": null,
      "right": null,
      "top": null,
      "visibility": null,
      "width": null
     }
    },
    "c8e76087ebdd4d07a7e8d5f4435e231b": {
     "model_module": "@jupyter-widgets/base",
     "model_module_version": "1.2.0",
     "model_name": "LayoutModel",
     "state": {
      "_model_module": "@jupyter-widgets/base",
      "_model_module_version": "1.2.0",
      "_model_name": "LayoutModel",
      "_view_count": null,
      "_view_module": "@jupyter-widgets/base",
      "_view_module_version": "1.2.0",
      "_view_name": "LayoutView",
      "align_content": null,
      "align_items": null,
      "align_self": null,
      "border": null,
      "bottom": null,
      "display": null,
      "flex": null,
      "flex_flow": null,
      "grid_area": null,
      "grid_auto_columns": null,
      "grid_auto_flow": null,
      "grid_auto_rows": null,
      "grid_column": null,
      "grid_gap": null,
      "grid_row": null,
      "grid_template_areas": null,
      "grid_template_columns": null,
      "grid_template_rows": null,
      "height": null,
      "justify_content": null,
      "justify_items": null,
      "left": null,
      "margin": null,
      "max_height": null,
      "max_width": null,
      "min_height": null,
      "min_width": null,
      "object_fit": null,
      "object_position": null,
      "order": null,
      "overflow": null,
      "overflow_x": null,
      "overflow_y": null,
      "padding": null,
      "right": null,
      "top": null,
      "visibility": null,
      "width": null
     }
    },
    "ca1a52051ed9436c90980a70c95a6473": {
     "model_module": "@jupyter-widgets/base",
     "model_module_version": "1.2.0",
     "model_name": "LayoutModel",
     "state": {
      "_model_module": "@jupyter-widgets/base",
      "_model_module_version": "1.2.0",
      "_model_name": "LayoutModel",
      "_view_count": null,
      "_view_module": "@jupyter-widgets/base",
      "_view_module_version": "1.2.0",
      "_view_name": "LayoutView",
      "align_content": null,
      "align_items": null,
      "align_self": null,
      "border": null,
      "bottom": null,
      "display": null,
      "flex": null,
      "flex_flow": null,
      "grid_area": null,
      "grid_auto_columns": null,
      "grid_auto_flow": null,
      "grid_auto_rows": null,
      "grid_column": null,
      "grid_gap": null,
      "grid_row": null,
      "grid_template_areas": null,
      "grid_template_columns": null,
      "grid_template_rows": null,
      "height": null,
      "justify_content": null,
      "justify_items": null,
      "left": null,
      "margin": null,
      "max_height": null,
      "max_width": null,
      "min_height": null,
      "min_width": null,
      "object_fit": null,
      "object_position": null,
      "order": null,
      "overflow": null,
      "overflow_x": null,
      "overflow_y": null,
      "padding": null,
      "right": null,
      "top": null,
      "visibility": null,
      "width": null
     }
    },
    "cb2ad93cf22a4a78a5abfd957bca79bd": {
     "model_module": "@jupyter-widgets/controls",
     "model_module_version": "1.5.0",
     "model_name": "HTMLModel",
     "state": {
      "_dom_classes": [],
      "_model_module": "@jupyter-widgets/controls",
      "_model_module_version": "1.5.0",
      "_model_name": "HTMLModel",
      "_view_count": null,
      "_view_module": "@jupyter-widgets/controls",
      "_view_module_version": "1.5.0",
      "_view_name": "HTMLView",
      "description": "",
      "description_tooltip": null,
      "layout": "IPY_MODEL_3115ed017fc74f7e92cd5933a8087580",
      "placeholder": "​",
      "style": "IPY_MODEL_a7b9c92cf4f3434388e2381791a07c61",
      "value": "loss: 0.2543: 100%"
     }
    },
    "cd0e7134432f4f62b92adb918576f775": {
     "model_module": "@jupyter-widgets/controls",
     "model_module_version": "1.5.0",
     "model_name": "DescriptionStyleModel",
     "state": {
      "_model_module": "@jupyter-widgets/controls",
      "_model_module_version": "1.5.0",
      "_model_name": "DescriptionStyleModel",
      "_view_count": null,
      "_view_module": "@jupyter-widgets/base",
      "_view_module_version": "1.2.0",
      "_view_name": "StyleView",
      "description_width": ""
     }
    },
    "cdad5be64ec1460fa6193cc48a68e3d7": {
     "model_module": "@jupyter-widgets/base",
     "model_module_version": "1.2.0",
     "model_name": "LayoutModel",
     "state": {
      "_model_module": "@jupyter-widgets/base",
      "_model_module_version": "1.2.0",
      "_model_name": "LayoutModel",
      "_view_count": null,
      "_view_module": "@jupyter-widgets/base",
      "_view_module_version": "1.2.0",
      "_view_name": "LayoutView",
      "align_content": null,
      "align_items": null,
      "align_self": null,
      "border": null,
      "bottom": null,
      "display": null,
      "flex": null,
      "flex_flow": null,
      "grid_area": null,
      "grid_auto_columns": null,
      "grid_auto_flow": null,
      "grid_auto_rows": null,
      "grid_column": null,
      "grid_gap": null,
      "grid_row": null,
      "grid_template_areas": null,
      "grid_template_columns": null,
      "grid_template_rows": null,
      "height": null,
      "justify_content": null,
      "justify_items": null,
      "left": null,
      "margin": null,
      "max_height": null,
      "max_width": null,
      "min_height": null,
      "min_width": null,
      "object_fit": null,
      "object_position": null,
      "order": null,
      "overflow": null,
      "overflow_x": null,
      "overflow_y": null,
      "padding": null,
      "right": null,
      "top": null,
      "visibility": null,
      "width": null
     }
    },
    "d018638484384e3fb48fc3c1fd967abf": {
     "model_module": "@jupyter-widgets/base",
     "model_module_version": "1.2.0",
     "model_name": "LayoutModel",
     "state": {
      "_model_module": "@jupyter-widgets/base",
      "_model_module_version": "1.2.0",
      "_model_name": "LayoutModel",
      "_view_count": null,
      "_view_module": "@jupyter-widgets/base",
      "_view_module_version": "1.2.0",
      "_view_name": "LayoutView",
      "align_content": null,
      "align_items": null,
      "align_self": null,
      "border": null,
      "bottom": null,
      "display": null,
      "flex": null,
      "flex_flow": null,
      "grid_area": null,
      "grid_auto_columns": null,
      "grid_auto_flow": null,
      "grid_auto_rows": null,
      "grid_column": null,
      "grid_gap": null,
      "grid_row": null,
      "grid_template_areas": null,
      "grid_template_columns": null,
      "grid_template_rows": null,
      "height": null,
      "justify_content": null,
      "justify_items": null,
      "left": null,
      "margin": null,
      "max_height": null,
      "max_width": null,
      "min_height": null,
      "min_width": null,
      "object_fit": null,
      "object_position": null,
      "order": null,
      "overflow": null,
      "overflow_x": null,
      "overflow_y": null,
      "padding": null,
      "right": null,
      "top": null,
      "visibility": null,
      "width": null
     }
    },
    "d14e4397d99c4324824c086726cf5725": {
     "model_module": "@jupyter-widgets/controls",
     "model_module_version": "1.5.0",
     "model_name": "DescriptionStyleModel",
     "state": {
      "_model_module": "@jupyter-widgets/controls",
      "_model_module_version": "1.5.0",
      "_model_name": "DescriptionStyleModel",
      "_view_count": null,
      "_view_module": "@jupyter-widgets/base",
      "_view_module_version": "1.2.0",
      "_view_name": "StyleView",
      "description_width": ""
     }
    },
    "d15df6d855534336b63111fb63cea708": {
     "model_module": "@jupyter-widgets/base",
     "model_module_version": "1.2.0",
     "model_name": "LayoutModel",
     "state": {
      "_model_module": "@jupyter-widgets/base",
      "_model_module_version": "1.2.0",
      "_model_name": "LayoutModel",
      "_view_count": null,
      "_view_module": "@jupyter-widgets/base",
      "_view_module_version": "1.2.0",
      "_view_name": "LayoutView",
      "align_content": null,
      "align_items": null,
      "align_self": null,
      "border": null,
      "bottom": null,
      "display": null,
      "flex": null,
      "flex_flow": null,
      "grid_area": null,
      "grid_auto_columns": null,
      "grid_auto_flow": null,
      "grid_auto_rows": null,
      "grid_column": null,
      "grid_gap": null,
      "grid_row": null,
      "grid_template_areas": null,
      "grid_template_columns": null,
      "grid_template_rows": null,
      "height": null,
      "justify_content": null,
      "justify_items": null,
      "left": null,
      "margin": null,
      "max_height": null,
      "max_width": null,
      "min_height": null,
      "min_width": null,
      "object_fit": null,
      "object_position": null,
      "order": null,
      "overflow": null,
      "overflow_x": null,
      "overflow_y": null,
      "padding": null,
      "right": null,
      "top": null,
      "visibility": null,
      "width": null
     }
    },
    "d1c6b23326ae43518d9aa575e3e8e98b": {
     "model_module": "@jupyter-widgets/controls",
     "model_module_version": "1.5.0",
     "model_name": "DescriptionStyleModel",
     "state": {
      "_model_module": "@jupyter-widgets/controls",
      "_model_module_version": "1.5.0",
      "_model_name": "DescriptionStyleModel",
      "_view_count": null,
      "_view_module": "@jupyter-widgets/base",
      "_view_module_version": "1.2.0",
      "_view_name": "StyleView",
      "description_width": ""
     }
    },
    "d5a5caf522044647b3bdba2078b053bf": {
     "model_module": "@jupyter-widgets/controls",
     "model_module_version": "1.5.0",
     "model_name": "DescriptionStyleModel",
     "state": {
      "_model_module": "@jupyter-widgets/controls",
      "_model_module_version": "1.5.0",
      "_model_name": "DescriptionStyleModel",
      "_view_count": null,
      "_view_module": "@jupyter-widgets/base",
      "_view_module_version": "1.2.0",
      "_view_name": "StyleView",
      "description_width": ""
     }
    },
    "d6367037a2994f62b27f0162f257749b": {
     "model_module": "@jupyter-widgets/base",
     "model_module_version": "1.2.0",
     "model_name": "LayoutModel",
     "state": {
      "_model_module": "@jupyter-widgets/base",
      "_model_module_version": "1.2.0",
      "_model_name": "LayoutModel",
      "_view_count": null,
      "_view_module": "@jupyter-widgets/base",
      "_view_module_version": "1.2.0",
      "_view_name": "LayoutView",
      "align_content": null,
      "align_items": null,
      "align_self": null,
      "border": null,
      "bottom": null,
      "display": null,
      "flex": null,
      "flex_flow": null,
      "grid_area": null,
      "grid_auto_columns": null,
      "grid_auto_flow": null,
      "grid_auto_rows": null,
      "grid_column": null,
      "grid_gap": null,
      "grid_row": null,
      "grid_template_areas": null,
      "grid_template_columns": null,
      "grid_template_rows": null,
      "height": null,
      "justify_content": null,
      "justify_items": null,
      "left": null,
      "margin": null,
      "max_height": null,
      "max_width": null,
      "min_height": null,
      "min_width": null,
      "object_fit": null,
      "object_position": null,
      "order": null,
      "overflow": null,
      "overflow_x": null,
      "overflow_y": null,
      "padding": null,
      "right": null,
      "top": null,
      "visibility": null,
      "width": null
     }
    },
    "d71c152102254044b805fad611d0e8c0": {
     "model_module": "@jupyter-widgets/base",
     "model_module_version": "1.2.0",
     "model_name": "LayoutModel",
     "state": {
      "_model_module": "@jupyter-widgets/base",
      "_model_module_version": "1.2.0",
      "_model_name": "LayoutModel",
      "_view_count": null,
      "_view_module": "@jupyter-widgets/base",
      "_view_module_version": "1.2.0",
      "_view_name": "LayoutView",
      "align_content": null,
      "align_items": null,
      "align_self": null,
      "border": null,
      "bottom": null,
      "display": null,
      "flex": null,
      "flex_flow": null,
      "grid_area": null,
      "grid_auto_columns": null,
      "grid_auto_flow": null,
      "grid_auto_rows": null,
      "grid_column": null,
      "grid_gap": null,
      "grid_row": null,
      "grid_template_areas": null,
      "grid_template_columns": null,
      "grid_template_rows": null,
      "height": null,
      "justify_content": null,
      "justify_items": null,
      "left": null,
      "margin": null,
      "max_height": null,
      "max_width": null,
      "min_height": null,
      "min_width": null,
      "object_fit": null,
      "object_position": null,
      "order": null,
      "overflow": null,
      "overflow_x": null,
      "overflow_y": null,
      "padding": null,
      "right": null,
      "top": null,
      "visibility": null,
      "width": null
     }
    },
    "d77a3b83ed784f23859e14e742653e55": {
     "model_module": "@jupyter-widgets/base",
     "model_module_version": "1.2.0",
     "model_name": "LayoutModel",
     "state": {
      "_model_module": "@jupyter-widgets/base",
      "_model_module_version": "1.2.0",
      "_model_name": "LayoutModel",
      "_view_count": null,
      "_view_module": "@jupyter-widgets/base",
      "_view_module_version": "1.2.0",
      "_view_name": "LayoutView",
      "align_content": null,
      "align_items": null,
      "align_self": null,
      "border": null,
      "bottom": null,
      "display": null,
      "flex": null,
      "flex_flow": null,
      "grid_area": null,
      "grid_auto_columns": null,
      "grid_auto_flow": null,
      "grid_auto_rows": null,
      "grid_column": null,
      "grid_gap": null,
      "grid_row": null,
      "grid_template_areas": null,
      "grid_template_columns": null,
      "grid_template_rows": null,
      "height": null,
      "justify_content": null,
      "justify_items": null,
      "left": null,
      "margin": null,
      "max_height": null,
      "max_width": null,
      "min_height": null,
      "min_width": null,
      "object_fit": null,
      "object_position": null,
      "order": null,
      "overflow": null,
      "overflow_x": null,
      "overflow_y": null,
      "padding": null,
      "right": null,
      "top": null,
      "visibility": null,
      "width": null
     }
    },
    "dd28f9e553184164befb8a1080616c0a": {
     "model_module": "@jupyter-widgets/base",
     "model_module_version": "1.2.0",
     "model_name": "LayoutModel",
     "state": {
      "_model_module": "@jupyter-widgets/base",
      "_model_module_version": "1.2.0",
      "_model_name": "LayoutModel",
      "_view_count": null,
      "_view_module": "@jupyter-widgets/base",
      "_view_module_version": "1.2.0",
      "_view_name": "LayoutView",
      "align_content": null,
      "align_items": null,
      "align_self": null,
      "border": null,
      "bottom": null,
      "display": null,
      "flex": null,
      "flex_flow": null,
      "grid_area": null,
      "grid_auto_columns": null,
      "grid_auto_flow": null,
      "grid_auto_rows": null,
      "grid_column": null,
      "grid_gap": null,
      "grid_row": null,
      "grid_template_areas": null,
      "grid_template_columns": null,
      "grid_template_rows": null,
      "height": null,
      "justify_content": null,
      "justify_items": null,
      "left": null,
      "margin": null,
      "max_height": null,
      "max_width": null,
      "min_height": null,
      "min_width": null,
      "object_fit": null,
      "object_position": null,
      "order": null,
      "overflow": null,
      "overflow_x": null,
      "overflow_y": null,
      "padding": null,
      "right": null,
      "top": null,
      "visibility": null,
      "width": null
     }
    },
    "e2bcf574c2184983a9e4720e671dabd9": {
     "model_module": "@jupyter-widgets/base",
     "model_module_version": "1.2.0",
     "model_name": "LayoutModel",
     "state": {
      "_model_module": "@jupyter-widgets/base",
      "_model_module_version": "1.2.0",
      "_model_name": "LayoutModel",
      "_view_count": null,
      "_view_module": "@jupyter-widgets/base",
      "_view_module_version": "1.2.0",
      "_view_name": "LayoutView",
      "align_content": null,
      "align_items": null,
      "align_self": null,
      "border": null,
      "bottom": null,
      "display": null,
      "flex": null,
      "flex_flow": null,
      "grid_area": null,
      "grid_auto_columns": null,
      "grid_auto_flow": null,
      "grid_auto_rows": null,
      "grid_column": null,
      "grid_gap": null,
      "grid_row": null,
      "grid_template_areas": null,
      "grid_template_columns": null,
      "grid_template_rows": null,
      "height": null,
      "justify_content": null,
      "justify_items": null,
      "left": null,
      "margin": null,
      "max_height": null,
      "max_width": null,
      "min_height": null,
      "min_width": null,
      "object_fit": null,
      "object_position": null,
      "order": null,
      "overflow": null,
      "overflow_x": null,
      "overflow_y": null,
      "padding": null,
      "right": null,
      "top": null,
      "visibility": null,
      "width": null
     }
    },
    "e35b1e953ea34f6cbe8728aa7c6793a9": {
     "model_module": "@jupyter-widgets/base",
     "model_module_version": "1.2.0",
     "model_name": "LayoutModel",
     "state": {
      "_model_module": "@jupyter-widgets/base",
      "_model_module_version": "1.2.0",
      "_model_name": "LayoutModel",
      "_view_count": null,
      "_view_module": "@jupyter-widgets/base",
      "_view_module_version": "1.2.0",
      "_view_name": "LayoutView",
      "align_content": null,
      "align_items": null,
      "align_self": null,
      "border": null,
      "bottom": null,
      "display": null,
      "flex": null,
      "flex_flow": null,
      "grid_area": null,
      "grid_auto_columns": null,
      "grid_auto_flow": null,
      "grid_auto_rows": null,
      "grid_column": null,
      "grid_gap": null,
      "grid_row": null,
      "grid_template_areas": null,
      "grid_template_columns": null,
      "grid_template_rows": null,
      "height": null,
      "justify_content": null,
      "justify_items": null,
      "left": null,
      "margin": null,
      "max_height": null,
      "max_width": null,
      "min_height": null,
      "min_width": null,
      "object_fit": null,
      "object_position": null,
      "order": null,
      "overflow": null,
      "overflow_x": null,
      "overflow_y": null,
      "padding": null,
      "right": null,
      "top": null,
      "visibility": null,
      "width": null
     }
    },
    "e8487f60cec24d59a5a972bcbf6c924b": {
     "model_module": "@jupyter-widgets/controls",
     "model_module_version": "1.5.0",
     "model_name": "DescriptionStyleModel",
     "state": {
      "_model_module": "@jupyter-widgets/controls",
      "_model_module_version": "1.5.0",
      "_model_name": "DescriptionStyleModel",
      "_view_count": null,
      "_view_module": "@jupyter-widgets/base",
      "_view_module_version": "1.2.0",
      "_view_name": "StyleView",
      "description_width": ""
     }
    },
    "ecda85b192124b83bb840f209e6ce45d": {
     "model_module": "@jupyter-widgets/controls",
     "model_module_version": "1.5.0",
     "model_name": "ProgressStyleModel",
     "state": {
      "_model_module": "@jupyter-widgets/controls",
      "_model_module_version": "1.5.0",
      "_model_name": "ProgressStyleModel",
      "_view_count": null,
      "_view_module": "@jupyter-widgets/base",
      "_view_module_version": "1.2.0",
      "_view_name": "StyleView",
      "bar_color": null,
      "description_width": ""
     }
    },
    "ed363a7f93b043049ec1536ff2145155": {
     "model_module": "@jupyter-widgets/controls",
     "model_module_version": "1.5.0",
     "model_name": "ProgressStyleModel",
     "state": {
      "_model_module": "@jupyter-widgets/controls",
      "_model_module_version": "1.5.0",
      "_model_name": "ProgressStyleModel",
      "_view_count": null,
      "_view_module": "@jupyter-widgets/base",
      "_view_module_version": "1.2.0",
      "_view_name": "StyleView",
      "bar_color": null,
      "description_width": ""
     }
    },
    "edfffd18aff240ff80ab905576c3c06f": {
     "model_module": "@jupyter-widgets/base",
     "model_module_version": "1.2.0",
     "model_name": "LayoutModel",
     "state": {
      "_model_module": "@jupyter-widgets/base",
      "_model_module_version": "1.2.0",
      "_model_name": "LayoutModel",
      "_view_count": null,
      "_view_module": "@jupyter-widgets/base",
      "_view_module_version": "1.2.0",
      "_view_name": "LayoutView",
      "align_content": null,
      "align_items": null,
      "align_self": null,
      "border": null,
      "bottom": null,
      "display": null,
      "flex": null,
      "flex_flow": null,
      "grid_area": null,
      "grid_auto_columns": null,
      "grid_auto_flow": null,
      "grid_auto_rows": null,
      "grid_column": null,
      "grid_gap": null,
      "grid_row": null,
      "grid_template_areas": null,
      "grid_template_columns": null,
      "grid_template_rows": null,
      "height": null,
      "justify_content": null,
      "justify_items": null,
      "left": null,
      "margin": null,
      "max_height": null,
      "max_width": null,
      "min_height": null,
      "min_width": null,
      "object_fit": null,
      "object_position": null,
      "order": null,
      "overflow": null,
      "overflow_x": null,
      "overflow_y": null,
      "padding": null,
      "right": null,
      "top": null,
      "visibility": null,
      "width": null
     }
    },
    "efe45eac25364b3c8b14bc4d791caca7": {
     "model_module": "@jupyter-widgets/controls",
     "model_module_version": "1.5.0",
     "model_name": "HTMLModel",
     "state": {
      "_dom_classes": [],
      "_model_module": "@jupyter-widgets/controls",
      "_model_module_version": "1.5.0",
      "_model_name": "HTMLModel",
      "_view_count": null,
      "_view_module": "@jupyter-widgets/controls",
      "_view_module_version": "1.5.0",
      "_view_name": "HTMLView",
      "description": "",
      "description_tooltip": null,
      "layout": "IPY_MODEL_e2bcf574c2184983a9e4720e671dabd9",
      "placeholder": "​",
      "style": "IPY_MODEL_d5a5caf522044647b3bdba2078b053bf",
      "value": " 10804/10804 [43:07&lt;00:00,  4.13it/s]"
     }
    },
    "f177b5cf4c4e4059ba4b9e8113dc050f": {
     "model_module": "@jupyter-widgets/controls",
     "model_module_version": "1.5.0",
     "model_name": "DescriptionStyleModel",
     "state": {
      "_model_module": "@jupyter-widgets/controls",
      "_model_module_version": "1.5.0",
      "_model_name": "DescriptionStyleModel",
      "_view_count": null,
      "_view_module": "@jupyter-widgets/base",
      "_view_module_version": "1.2.0",
      "_view_name": "StyleView",
      "description_width": ""
     }
    },
    "f4f3c25bb233456f9d50e5c3d5bd060f": {
     "model_module": "@jupyter-widgets/controls",
     "model_module_version": "1.5.0",
     "model_name": "ProgressStyleModel",
     "state": {
      "_model_module": "@jupyter-widgets/controls",
      "_model_module_version": "1.5.0",
      "_model_name": "ProgressStyleModel",
      "_view_count": null,
      "_view_module": "@jupyter-widgets/base",
      "_view_module_version": "1.2.0",
      "_view_name": "StyleView",
      "bar_color": null,
      "description_width": ""
     }
    },
    "f649eca078ab4fc4ae62eba2b1b3691a": {
     "model_module": "@jupyter-widgets/base",
     "model_module_version": "1.2.0",
     "model_name": "LayoutModel",
     "state": {
      "_model_module": "@jupyter-widgets/base",
      "_model_module_version": "1.2.0",
      "_model_name": "LayoutModel",
      "_view_count": null,
      "_view_module": "@jupyter-widgets/base",
      "_view_module_version": "1.2.0",
      "_view_name": "LayoutView",
      "align_content": null,
      "align_items": null,
      "align_self": null,
      "border": null,
      "bottom": null,
      "display": null,
      "flex": null,
      "flex_flow": null,
      "grid_area": null,
      "grid_auto_columns": null,
      "grid_auto_flow": null,
      "grid_auto_rows": null,
      "grid_column": null,
      "grid_gap": null,
      "grid_row": null,
      "grid_template_areas": null,
      "grid_template_columns": null,
      "grid_template_rows": null,
      "height": null,
      "justify_content": null,
      "justify_items": null,
      "left": null,
      "margin": null,
      "max_height": null,
      "max_width": null,
      "min_height": null,
      "min_width": null,
      "object_fit": null,
      "object_position": null,
      "order": null,
      "overflow": null,
      "overflow_x": null,
      "overflow_y": null,
      "padding": null,
      "right": null,
      "top": null,
      "visibility": null,
      "width": null
     }
    },
    "f6cd2c53132e40858123ec1748534d2d": {
     "model_module": "@jupyter-widgets/controls",
     "model_module_version": "1.5.0",
     "model_name": "HTMLModel",
     "state": {
      "_dom_classes": [],
      "_model_module": "@jupyter-widgets/controls",
      "_model_module_version": "1.5.0",
      "_model_name": "HTMLModel",
      "_view_count": null,
      "_view_module": "@jupyter-widgets/controls",
      "_view_module_version": "1.5.0",
      "_view_name": "HTMLView",
      "description": "",
      "description_tooltip": null,
      "layout": "IPY_MODEL_accab2b37e98457fb60607b1a044dbba",
      "placeholder": "​",
      "style": "IPY_MODEL_d14e4397d99c4324824c086726cf5725",
      "value": " 10804/10804 [43:08&lt;00:00,  4.07it/s]"
     }
    },
    "f7b99eef368c4a89a8c14d5355939381": {
     "model_module": "@jupyter-widgets/controls",
     "model_module_version": "1.5.0",
     "model_name": "DescriptionStyleModel",
     "state": {
      "_model_module": "@jupyter-widgets/controls",
      "_model_module_version": "1.5.0",
      "_model_name": "DescriptionStyleModel",
      "_view_count": null,
      "_view_module": "@jupyter-widgets/base",
      "_view_module_version": "1.2.0",
      "_view_name": "StyleView",
      "description_width": ""
     }
    },
    "f81857d55a774eb0929a6f077ba52535": {
     "model_module": "@jupyter-widgets/base",
     "model_module_version": "1.2.0",
     "model_name": "LayoutModel",
     "state": {
      "_model_module": "@jupyter-widgets/base",
      "_model_module_version": "1.2.0",
      "_model_name": "LayoutModel",
      "_view_count": null,
      "_view_module": "@jupyter-widgets/base",
      "_view_module_version": "1.2.0",
      "_view_name": "LayoutView",
      "align_content": null,
      "align_items": null,
      "align_self": null,
      "border": null,
      "bottom": null,
      "display": null,
      "flex": null,
      "flex_flow": null,
      "grid_area": null,
      "grid_auto_columns": null,
      "grid_auto_flow": null,
      "grid_auto_rows": null,
      "grid_column": null,
      "grid_gap": null,
      "grid_row": null,
      "grid_template_areas": null,
      "grid_template_columns": null,
      "grid_template_rows": null,
      "height": null,
      "justify_content": null,
      "justify_items": null,
      "left": null,
      "margin": null,
      "max_height": null,
      "max_width": null,
      "min_height": null,
      "min_width": null,
      "object_fit": null,
      "object_position": null,
      "order": null,
      "overflow": null,
      "overflow_x": null,
      "overflow_y": null,
      "padding": null,
      "right": null,
      "top": null,
      "visibility": null,
      "width": null
     }
    },
    "fcbbc2a952ba4b1b875c1ca9176dddba": {
     "model_module": "@jupyter-widgets/controls",
     "model_module_version": "1.5.0",
     "model_name": "DescriptionStyleModel",
     "state": {
      "_model_module": "@jupyter-widgets/controls",
      "_model_module_version": "1.5.0",
      "_model_name": "DescriptionStyleModel",
      "_view_count": null,
      "_view_module": "@jupyter-widgets/base",
      "_view_module_version": "1.2.0",
      "_view_name": "StyleView",
      "description_width": ""
     }
    },
    "fd1ab82c74734d76b56e4cb13797a285": {
     "model_module": "@jupyter-widgets/base",
     "model_module_version": "1.2.0",
     "model_name": "LayoutModel",
     "state": {
      "_model_module": "@jupyter-widgets/base",
      "_model_module_version": "1.2.0",
      "_model_name": "LayoutModel",
      "_view_count": null,
      "_view_module": "@jupyter-widgets/base",
      "_view_module_version": "1.2.0",
      "_view_name": "LayoutView",
      "align_content": null,
      "align_items": null,
      "align_self": null,
      "border": null,
      "bottom": null,
      "display": null,
      "flex": null,
      "flex_flow": null,
      "grid_area": null,
      "grid_auto_columns": null,
      "grid_auto_flow": null,
      "grid_auto_rows": null,
      "grid_column": null,
      "grid_gap": null,
      "grid_row": null,
      "grid_template_areas": null,
      "grid_template_columns": null,
      "grid_template_rows": null,
      "height": null,
      "justify_content": null,
      "justify_items": null,
      "left": null,
      "margin": null,
      "max_height": null,
      "max_width": null,
      "min_height": null,
      "min_width": null,
      "object_fit": null,
      "object_position": null,
      "order": null,
      "overflow": null,
      "overflow_x": null,
      "overflow_y": null,
      "padding": null,
      "right": null,
      "top": null,
      "visibility": null,
      "width": null
     }
    },
    "fdf6c5ef7d6341518dea5f3c93da7e61": {
     "model_module": "@jupyter-widgets/base",
     "model_module_version": "1.2.0",
     "model_name": "LayoutModel",
     "state": {
      "_model_module": "@jupyter-widgets/base",
      "_model_module_version": "1.2.0",
      "_model_name": "LayoutModel",
      "_view_count": null,
      "_view_module": "@jupyter-widgets/base",
      "_view_module_version": "1.2.0",
      "_view_name": "LayoutView",
      "align_content": null,
      "align_items": null,
      "align_self": null,
      "border": null,
      "bottom": null,
      "display": null,
      "flex": null,
      "flex_flow": null,
      "grid_area": null,
      "grid_auto_columns": null,
      "grid_auto_flow": null,
      "grid_auto_rows": null,
      "grid_column": null,
      "grid_gap": null,
      "grid_row": null,
      "grid_template_areas": null,
      "grid_template_columns": null,
      "grid_template_rows": null,
      "height": null,
      "justify_content": null,
      "justify_items": null,
      "left": null,
      "margin": null,
      "max_height": null,
      "max_width": null,
      "min_height": null,
      "min_width": null,
      "object_fit": null,
      "object_position": null,
      "order": null,
      "overflow": null,
      "overflow_x": null,
      "overflow_y": null,
      "padding": null,
      "right": null,
      "top": null,
      "visibility": null,
      "width": null
     }
    }
   }
  }
 },
 "nbformat": 4,
 "nbformat_minor": 5
}

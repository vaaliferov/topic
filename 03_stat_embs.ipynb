{
 "cells": [
  {
   "cell_type": "markdown",
   "id": "cd876b43-1b38-4b4a-bb9f-80a9e73a9285",
   "metadata": {},
   "source": [
    "#### Извлечение статических эмбеддингов (TFIDF+SVD, Word2Vec+SVD)"
   ]
  },
  {
   "cell_type": "code",
   "execution_count": 3,
   "id": "6fedb969-f82f-465b-afac-b3b6f4558ac8",
   "metadata": {},
   "outputs": [],
   "source": [
    "import scipy\n",
    "import sparsesvd"
   ]
  },
  {
   "cell_type": "code",
   "execution_count": 1,
   "id": "5c628023-1985-427a-bb08-027e260b185c",
   "metadata": {},
   "outputs": [],
   "source": [
    "import numpy as np\n",
    "import pandas as pd"
   ]
  },
  {
   "cell_type": "code",
   "execution_count": 2,
   "id": "f3473ff2-ad17-4974-bfca-2653da8977af",
   "metadata": {},
   "outputs": [],
   "source": [
    "from utils import *"
   ]
  },
  {
   "cell_type": "code",
   "execution_count": null,
   "id": "aefa36d8-4093-4513-bc4c-8250cc8d884a",
   "metadata": {},
   "outputs": [],
   "source": [
    "from gensim.models import Word2Vec\n",
    "import gensim.downloader as gensim_downloader"
   ]
  },
  {
   "cell_type": "code",
   "execution_count": null,
   "id": "69ff0d8f-0704-4202-bde9-a07b4045a531",
   "metadata": {},
   "outputs": [],
   "source": [
    "from sklearn.feature_extraction.text import CountVectorizer\n",
    "from sklearn.feature_extraction.text import TfidfTransformer"
   ]
  },
  {
   "cell_type": "code",
   "execution_count": 5,
   "id": "7d828088-f773-4e48-a25f-9f88dacc794b",
   "metadata": {},
   "outputs": [],
   "source": [
    "def sparsesvd_reduce_dim(mat, n):\n",
    "    return sparsesvd.sparsesvd(mat, n)[2].T\n",
    "    \n",
    "def scipy_svds_reduce_dim(mat, n):\n",
    "    return scipy.sparse.linalg.svds(mat, k=n)[2].T"
   ]
  },
  {
   "cell_type": "markdown",
   "id": "0243ec98-b930-4c96-b3f8-87a43a611700",
   "metadata": {},
   "source": [
    "* обе функции выполняют одну и ту же работу (scipy_svds работает быстрее - использует все ядра)\n",
    "* результатом SVD разложения будут 3 матрицы (используем ту, которая соответствует информации о словах)"
   ]
  },
  {
   "cell_type": "code",
   "execution_count": 7,
   "id": "ba65bc83-b1d5-41bf-b886-6c55d9f0f5b8",
   "metadata": {},
   "outputs": [],
   "source": [
    "def get_emb_dict(feats, mat, vec_size):\n",
    "    v = scipy_svds_reduce_dim(mat.tocsc(), vec_size)\n",
    "    return {feats[i]: v[i] for i in range(len(v))}"
   ]
  },
  {
   "cell_type": "markdown",
   "id": "8323e110-535d-4ca9-b916-787994a555e3",
   "metadata": {},
   "source": [
    "* *готовим словарь эмбеддингов (слово: эмбеддинг) из TFIDF матрицы*"
   ]
  },
  {
   "cell_type": "code",
   "execution_count": null,
   "id": "6b317250-f109-4612-a339-259e00232bf6",
   "metadata": {},
   "outputs": [],
   "source": [
    "def get_gensim_emb_dict(m):\n",
    "    k, v = m.index_to_key, m.vectors\n",
    "    v = (v - v.mean(axis=0)) / v.std(axis=0)\n",
    "    return {k[i]: v[i] for i in range(len(v))}"
   ]
  },
  {
   "cell_type": "markdown",
   "id": "51eb38da-bc3b-443f-994c-7576994ae921",
   "metadata": {},
   "source": [
    "* *готовим словарь эмбеддингов (слово: эмбеддинг) из модели Word2vec*"
   ]
  },
  {
   "cell_type": "code",
   "execution_count": 8,
   "id": "c96b39d7-f630-4003-9fbb-8b22e0c952e9",
   "metadata": {},
   "outputs": [
    {
     "name": "stdout",
     "output_type": "stream",
     "text": [
      "CPU times: user 9min 33s, sys: 5min 29s, total: 15min 2s\n",
      "Wall time: 7min 12s\n"
     ]
    }
   ],
   "source": [
    "%%time\n",
    "\n",
    "params = {\n",
    "    'max_df': 0.9, \n",
    "    'min_df': 0.0001, \n",
    "    'dtype': np.float32, \n",
    "    'ngram_range': (1,1), \n",
    "    'token_pattern': None, \n",
    "    'tokenizer': str.split\n",
    "}\n",
    "\n",
    "tfidf = TfidfTransformer()\n",
    "cv = CountVectorizer(**params)\n",
    "corpus = load_lines('data/corpus.txt')\n",
    "\n",
    "cv_mat = cv.fit_transform(corpus)\n",
    "tfidf_mat = tfidf.fit_transform(cv_mat)\n",
    "\n",
    "cv_feats = cv.get_feature_names_out()\n",
    "cv_embs = get_emb_dict(cv_feats, cv_mat, 300)\n",
    "tfidf_embs = get_emb_dict(cv_feats, tfidf_mat, 300)\n",
    "\n",
    "save_sparse(cv_mat, 'data/cv_mat.npz')\n",
    "dump_pickle(cv_embs, 'data/cv_embs.bin')\n",
    "save_sparse(tfidf_mat, 'data/tfidf_mat.npz')\n",
    "dump_pickle(tfidf_embs, 'data/tfidf_embs.bin')\n",
    "dump_lines(cv_feats, 'data/cv_feats.txt')"
   ]
  },
  {
   "cell_type": "markdown",
   "id": "69c154f2-0afe-43bd-8e9f-fc9fde59cd89",
   "metadata": {},
   "source": [
    "* *загружаем ранее подготовленный корпус текстов*\n",
    "* *обучаем Count и TFIDF векторайзеры, получаем матрицы*\n",
    "* *извлекаем эмбеддинги из матриц Count и TFIDF (используя SVD разложение)*\n",
    "* *сохраняем матрицы, словари эмбеддингов, и сам словарь (список токенов)*"
   ]
  },
  {
   "cell_type": "code",
   "execution_count": 9,
   "id": "5c6beca9-9590-4216-b88c-08ba1d73e806",
   "metadata": {},
   "outputs": [
    {
     "data": {
      "text/plain": [
       "((432158, 33187), 0.0, 83.0)"
      ]
     },
     "execution_count": 9,
     "metadata": {},
     "output_type": "execute_result"
    }
   ],
   "source": [
    "cv_mat.shape, cv_mat.min(), cv_mat.max()"
   ]
  },
  {
   "cell_type": "code",
   "execution_count": 10,
   "id": "8ebd7cc2-4abb-4951-a74f-f92e9c268ef6",
   "metadata": {},
   "outputs": [
    {
     "data": {
      "text/plain": [
       "((432158, 33187), 0.0, 0.9307679)"
      ]
     },
     "execution_count": 10,
     "metadata": {},
     "output_type": "execute_result"
    }
   ],
   "source": [
    "tfidf_mat.shape, tfidf_mat.min(), tfidf_mat.max()"
   ]
  },
  {
   "cell_type": "markdown",
   "id": "50808e67-5ade-4580-95f6-36dddc5c1bfd",
   "metadata": {},
   "source": [
    "* *строим Counts и TFIDF только для униграмм*\n",
    "* *подобрав min_df и max_df получаем словарь из 33187 токенов*\n",
    "* *можно добавить и биграммы, но тогда придется писать более сложный алгоритм получения эмбеддинга документа*"
   ]
  },
  {
   "cell_type": "code",
   "execution_count": 11,
   "id": "ce06cc94-d9d6-462d-ab99-9e171ce4debb",
   "metadata": {},
   "outputs": [
    {
     "data": {
      "text/plain": [
       "(33187, 300)"
      ]
     },
     "execution_count": 11,
     "metadata": {},
     "output_type": "execute_result"
    }
   ],
   "source": [
    "len(tfidf_embs), len(next(iter(tfidf_embs.values())))"
   ]
  },
  {
   "cell_type": "markdown",
   "id": "6f5aeb5f-0fe1-42f7-8bf4-b95939f19c4e",
   "metadata": {},
   "source": [
    "* *получаем 33187 эмбеддинга (размер словаря) по 300 фичей каждый (~41Мб на диске)*"
   ]
  },
  {
   "cell_type": "code",
   "execution_count": 8,
   "id": "ee6c376f-9fed-493f-b027-059fd18b21bc",
   "metadata": {},
   "outputs": [
    {
     "name": "stdout",
     "output_type": "stream",
     "text": [
      "CPU times: user 22min 9s, sys: 4.7 s, total: 22min 13s\n",
      "Wall time: 7min 59s\n"
     ]
    }
   ],
   "source": [
    "%%time\n",
    "\n",
    "params = {\n",
    "    'epochs': 5, \n",
    "    'window': 5, \n",
    "    'workers': 3, \n",
    "    'negative': 5, \n",
    "    'min_count': 5, \n",
    "    'vector_size': 300, \n",
    "    'max_final_vocab': 50000,\n",
    "    'corpus_file': 'data/corpus.txt'\n",
    "}\n",
    "\n",
    "m = Word2Vec(**params).wv\n",
    "w2v_embs = get_gensim_emb_dict(m)\n",
    "dump_pickle(w2v_embs, 'data/w2v_embs.bin')\n",
    "dump_lines(m.index_to_key, 'data/w2v_feats.txt')"
   ]
  },
  {
   "cell_type": "markdown",
   "id": "1a2635bd-4ecd-48c8-8dee-5da1b969b3ab",
   "metadata": {},
   "source": [
    "* *обучаем Word2Vec напрямую из файла корпуса*\n",
    "* *указываем размерность эмбеддингов (300, как и для TFIDF)*\n",
    "* *ограничиваем размер словаря: 50к токенов (будет подобран min_count)*"
   ]
  },
  {
   "cell_type": "code",
   "execution_count": 9,
   "id": "5ee24c17-0969-46b8-9123-7022aa1b31ab",
   "metadata": {},
   "outputs": [
    {
     "data": {
      "text/plain": [
       "(49448, 300)"
      ]
     },
     "execution_count": 9,
     "metadata": {},
     "output_type": "execute_result"
    }
   ],
   "source": [
    "len(w2v_embs), len(next(iter(w2v_embs.values())))"
   ]
  },
  {
   "cell_type": "markdown",
   "id": "ccf3de4c-b0a3-4215-a752-69bf5d484c8c",
   "metadata": {},
   "source": [
    "* *получаем 49448 эмбеддинга (<50к) по 300 фичей каждый (~61Мб на диске)*"
   ]
  },
  {
   "cell_type": "code",
   "execution_count": 15,
   "id": "6e45c42f-8c2b-48f6-9f08-956ccddeae8c",
   "metadata": {},
   "outputs": [
    {
     "name": "stdout",
     "output_type": "stream",
     "text": [
      "[==================================================] 100.0% 198.8/198.8MB downloaded\n"
     ]
    }
   ],
   "source": [
    "name = 'word2vec-ruscorpora-300'\n",
    "m = gensim_downloader.load(name)\n",
    "w2vp_embs = get_gensim_emb_dict(m)\n",
    "dump_pickle(w2vp_embs, 'data/w2vp_embs.bin')\n",
    "dump_lines(m.index_to_key, 'data/w2vp_feats.txt')"
   ]
  },
  {
   "cell_type": "markdown",
   "id": "e4feeaf3-6411-4602-8803-eed8247bc350",
   "metadata": {},
   "source": [
    "* *загружаем и сохраняем предобученные эмбеддинги word2vec-ruscorpora-300*"
   ]
  },
  {
   "cell_type": "code",
   "execution_count": 16,
   "id": "fb861fea-7c4d-4477-b011-8011bc514426",
   "metadata": {},
   "outputs": [
    {
     "data": {
      "text/plain": [
       "(184973, 300)"
      ]
     },
     "execution_count": 16,
     "metadata": {},
     "output_type": "execute_result"
    }
   ],
   "source": [
    "len(w2vp_embs), len(next(iter(w2vp_embs.values())))"
   ]
  },
  {
   "cell_type": "markdown",
   "id": "113a13c6-6157-4b8b-99b3-525b8482ea0c",
   "metadata": {},
   "source": [
    "* *184973 эмбеддингов (размер словаря) по 300 фичей каждый*"
   ]
  }
 ],
 "metadata": {
  "kernelspec": {
   "display_name": "dev",
   "language": "python",
   "name": "dev"
  },
  "language_info": {
   "codemirror_mode": {
    "name": "ipython",
    "version": 3
   },
   "file_extension": ".py",
   "mimetype": "text/x-python",
   "name": "python",
   "nbconvert_exporter": "python",
   "pygments_lexer": "ipython3",
   "version": "3.10.7"
  }
 },
 "nbformat": 4,
 "nbformat_minor": 5
}

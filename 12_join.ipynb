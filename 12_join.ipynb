{
 "cells": [
  {
   "cell_type": "code",
   "execution_count": 1,
   "id": "4253bb74-7231-4f29-a99f-51994552d7af",
   "metadata": {},
   "outputs": [],
   "source": [
    "# !pip install ipython-sql"
   ]
  },
  {
   "cell_type": "code",
   "execution_count": 2,
   "id": "8893a06e-ddbd-4639-86b4-3da5dc9f0a5c",
   "metadata": {},
   "outputs": [],
   "source": [
    "%load_ext sql\n",
    "%sql sqlite:///db.db3"
   ]
  },
  {
   "cell_type": "code",
   "execution_count": 3,
   "id": "0f4e53a7-90d1-48db-954b-2f83c64a603a",
   "metadata": {},
   "outputs": [
    {
     "name": "stdout",
     "output_type": "stream",
     "text": [
      " * sqlite:///db.db3\n",
      "Done.\n",
      "3 rows affected.\n"
     ]
    },
    {
     "data": {
      "text/plain": [
       "[]"
      ]
     },
     "execution_count": 3,
     "metadata": {},
     "output_type": "execute_result"
    }
   ],
   "source": [
    "%%sql\n",
    "create table vendors (vend_id int, vend_name varchar(50));\n",
    "insert into vendors values (101, 'Apple'), (102, 'Samsung'), (103, 'Xiaomi');"
   ]
  },
  {
   "cell_type": "code",
   "execution_count": 4,
   "id": "95a9663c-b683-4c3e-b1c9-7ed61320c8b0",
   "metadata": {},
   "outputs": [
    {
     "name": "stdout",
     "output_type": "stream",
     "text": [
      " * sqlite:///db.db3\n",
      "Done.\n",
      "3 rows affected.\n"
     ]
    },
    {
     "data": {
      "text/plain": [
       "[]"
      ]
     },
     "execution_count": 4,
     "metadata": {},
     "output_type": "execute_result"
    }
   ],
   "source": [
    "%%sql\n",
    "create table products (prod_id int, prod_name varchar(50), vend_id int);\n",
    "insert into products values (201, 'iPhone', 101), (202, 'Galaxy', 102), (203, 'Zalaxy', 102);"
   ]
  },
  {
   "cell_type": "code",
   "execution_count": 5,
   "id": "b1323eb8-653b-4e50-86a6-f331d17b0bab",
   "metadata": {},
   "outputs": [
    {
     "name": "stdout",
     "output_type": "stream",
     "text": [
      " * sqlite:///db.db3\n",
      "Done.\n"
     ]
    },
    {
     "data": {
      "text/html": [
       "<table>\n",
       "    <tr>\n",
       "        <th>vend_id</th>\n",
       "        <th>vend_name</th>\n",
       "        <th>prod_id</th>\n",
       "        <th>prod_name</th>\n",
       "        <th>vend_id_1</th>\n",
       "    </tr>\n",
       "    <tr>\n",
       "        <td>101</td>\n",
       "        <td>Apple</td>\n",
       "        <td>201</td>\n",
       "        <td>iPhone</td>\n",
       "        <td>101</td>\n",
       "    </tr>\n",
       "    <tr>\n",
       "        <td>101</td>\n",
       "        <td>Apple</td>\n",
       "        <td>202</td>\n",
       "        <td>Galaxy</td>\n",
       "        <td>102</td>\n",
       "    </tr>\n",
       "    <tr>\n",
       "        <td>101</td>\n",
       "        <td>Apple</td>\n",
       "        <td>203</td>\n",
       "        <td>Zalaxy</td>\n",
       "        <td>102</td>\n",
       "    </tr>\n",
       "    <tr>\n",
       "        <td>102</td>\n",
       "        <td>Samsung</td>\n",
       "        <td>201</td>\n",
       "        <td>iPhone</td>\n",
       "        <td>101</td>\n",
       "    </tr>\n",
       "    <tr>\n",
       "        <td>102</td>\n",
       "        <td>Samsung</td>\n",
       "        <td>202</td>\n",
       "        <td>Galaxy</td>\n",
       "        <td>102</td>\n",
       "    </tr>\n",
       "    <tr>\n",
       "        <td>102</td>\n",
       "        <td>Samsung</td>\n",
       "        <td>203</td>\n",
       "        <td>Zalaxy</td>\n",
       "        <td>102</td>\n",
       "    </tr>\n",
       "    <tr>\n",
       "        <td>103</td>\n",
       "        <td>Xiaomi</td>\n",
       "        <td>201</td>\n",
       "        <td>iPhone</td>\n",
       "        <td>101</td>\n",
       "    </tr>\n",
       "    <tr>\n",
       "        <td>103</td>\n",
       "        <td>Xiaomi</td>\n",
       "        <td>202</td>\n",
       "        <td>Galaxy</td>\n",
       "        <td>102</td>\n",
       "    </tr>\n",
       "    <tr>\n",
       "        <td>103</td>\n",
       "        <td>Xiaomi</td>\n",
       "        <td>203</td>\n",
       "        <td>Zalaxy</td>\n",
       "        <td>102</td>\n",
       "    </tr>\n",
       "</table>"
      ],
      "text/plain": [
       "[(101, 'Apple', 201, 'iPhone', 101),\n",
       " (101, 'Apple', 202, 'Galaxy', 102),\n",
       " (101, 'Apple', 203, 'Zalaxy', 102),\n",
       " (102, 'Samsung', 201, 'iPhone', 101),\n",
       " (102, 'Samsung', 202, 'Galaxy', 102),\n",
       " (102, 'Samsung', 203, 'Zalaxy', 102),\n",
       " (103, 'Xiaomi', 201, 'iPhone', 101),\n",
       " (103, 'Xiaomi', 202, 'Galaxy', 102),\n",
       " (103, 'Xiaomi', 203, 'Zalaxy', 102)]"
      ]
     },
     "execution_count": 5,
     "metadata": {},
     "output_type": "execute_result"
    }
   ],
   "source": [
    "%sql select * from vendors, products"
   ]
  },
  {
   "cell_type": "markdown",
   "id": "f6ea9621-f978-4156-bf12-cc869fc19b15",
   "metadata": {},
   "source": [
    "* *simple equijoin syntax*"
   ]
  },
  {
   "cell_type": "code",
   "execution_count": 6,
   "id": "10ad99b5-5814-441e-bea0-ca46b813ced6",
   "metadata": {},
   "outputs": [
    {
     "name": "stdout",
     "output_type": "stream",
     "text": [
      " * sqlite:///db.db3\n",
      "Done.\n"
     ]
    },
    {
     "data": {
      "text/html": [
       "<table>\n",
       "    <tr>\n",
       "        <th>vend_id</th>\n",
       "        <th>vend_name</th>\n",
       "        <th>prod_id</th>\n",
       "        <th>prod_name</th>\n",
       "        <th>vend_id_1</th>\n",
       "    </tr>\n",
       "    <tr>\n",
       "        <td>101</td>\n",
       "        <td>Apple</td>\n",
       "        <td>201</td>\n",
       "        <td>iPhone</td>\n",
       "        <td>101</td>\n",
       "    </tr>\n",
       "    <tr>\n",
       "        <td>101</td>\n",
       "        <td>Apple</td>\n",
       "        <td>202</td>\n",
       "        <td>Galaxy</td>\n",
       "        <td>102</td>\n",
       "    </tr>\n",
       "    <tr>\n",
       "        <td>101</td>\n",
       "        <td>Apple</td>\n",
       "        <td>203</td>\n",
       "        <td>Zalaxy</td>\n",
       "        <td>102</td>\n",
       "    </tr>\n",
       "    <tr>\n",
       "        <td>102</td>\n",
       "        <td>Samsung</td>\n",
       "        <td>201</td>\n",
       "        <td>iPhone</td>\n",
       "        <td>101</td>\n",
       "    </tr>\n",
       "    <tr>\n",
       "        <td>102</td>\n",
       "        <td>Samsung</td>\n",
       "        <td>202</td>\n",
       "        <td>Galaxy</td>\n",
       "        <td>102</td>\n",
       "    </tr>\n",
       "    <tr>\n",
       "        <td>102</td>\n",
       "        <td>Samsung</td>\n",
       "        <td>203</td>\n",
       "        <td>Zalaxy</td>\n",
       "        <td>102</td>\n",
       "    </tr>\n",
       "    <tr>\n",
       "        <td>103</td>\n",
       "        <td>Xiaomi</td>\n",
       "        <td>201</td>\n",
       "        <td>iPhone</td>\n",
       "        <td>101</td>\n",
       "    </tr>\n",
       "    <tr>\n",
       "        <td>103</td>\n",
       "        <td>Xiaomi</td>\n",
       "        <td>202</td>\n",
       "        <td>Galaxy</td>\n",
       "        <td>102</td>\n",
       "    </tr>\n",
       "    <tr>\n",
       "        <td>103</td>\n",
       "        <td>Xiaomi</td>\n",
       "        <td>203</td>\n",
       "        <td>Zalaxy</td>\n",
       "        <td>102</td>\n",
       "    </tr>\n",
       "</table>"
      ],
      "text/plain": [
       "[(101, 'Apple', 201, 'iPhone', 101),\n",
       " (101, 'Apple', 202, 'Galaxy', 102),\n",
       " (101, 'Apple', 203, 'Zalaxy', 102),\n",
       " (102, 'Samsung', 201, 'iPhone', 101),\n",
       " (102, 'Samsung', 202, 'Galaxy', 102),\n",
       " (102, 'Samsung', 203, 'Zalaxy', 102),\n",
       " (103, 'Xiaomi', 201, 'iPhone', 101),\n",
       " (103, 'Xiaomi', 202, 'Galaxy', 102),\n",
       " (103, 'Xiaomi', 203, 'Zalaxy', 102)]"
      ]
     },
     "execution_count": 6,
     "metadata": {},
     "output_type": "execute_result"
    }
   ],
   "source": [
    "%sql select * from vendors inner join products"
   ]
  },
  {
   "cell_type": "markdown",
   "id": "706df06c-9d11-4739-8af7-7fec8c108400",
   "metadata": {},
   "source": [
    "* *ansi inner join syntax*"
   ]
  },
  {
   "cell_type": "code",
   "execution_count": 7,
   "id": "e4fd4651-a867-4e1a-871d-cee171d1b4f9",
   "metadata": {},
   "outputs": [
    {
     "name": "stdout",
     "output_type": "stream",
     "text": [
      " * sqlite:///db.db3\n",
      "Done.\n"
     ]
    },
    {
     "data": {
      "text/html": [
       "<table>\n",
       "    <tr>\n",
       "        <th>vend_id</th>\n",
       "        <th>vend_name</th>\n",
       "        <th>prod_id</th>\n",
       "        <th>prod_name</th>\n",
       "        <th>vend_id_1</th>\n",
       "    </tr>\n",
       "    <tr>\n",
       "        <td>101</td>\n",
       "        <td>Apple</td>\n",
       "        <td>201</td>\n",
       "        <td>iPhone</td>\n",
       "        <td>101</td>\n",
       "    </tr>\n",
       "    <tr>\n",
       "        <td>101</td>\n",
       "        <td>Apple</td>\n",
       "        <td>202</td>\n",
       "        <td>Galaxy</td>\n",
       "        <td>102</td>\n",
       "    </tr>\n",
       "    <tr>\n",
       "        <td>101</td>\n",
       "        <td>Apple</td>\n",
       "        <td>203</td>\n",
       "        <td>Zalaxy</td>\n",
       "        <td>102</td>\n",
       "    </tr>\n",
       "    <tr>\n",
       "        <td>102</td>\n",
       "        <td>Samsung</td>\n",
       "        <td>201</td>\n",
       "        <td>iPhone</td>\n",
       "        <td>101</td>\n",
       "    </tr>\n",
       "    <tr>\n",
       "        <td>102</td>\n",
       "        <td>Samsung</td>\n",
       "        <td>202</td>\n",
       "        <td>Galaxy</td>\n",
       "        <td>102</td>\n",
       "    </tr>\n",
       "    <tr>\n",
       "        <td>102</td>\n",
       "        <td>Samsung</td>\n",
       "        <td>203</td>\n",
       "        <td>Zalaxy</td>\n",
       "        <td>102</td>\n",
       "    </tr>\n",
       "    <tr>\n",
       "        <td>103</td>\n",
       "        <td>Xiaomi</td>\n",
       "        <td>201</td>\n",
       "        <td>iPhone</td>\n",
       "        <td>101</td>\n",
       "    </tr>\n",
       "    <tr>\n",
       "        <td>103</td>\n",
       "        <td>Xiaomi</td>\n",
       "        <td>202</td>\n",
       "        <td>Galaxy</td>\n",
       "        <td>102</td>\n",
       "    </tr>\n",
       "    <tr>\n",
       "        <td>103</td>\n",
       "        <td>Xiaomi</td>\n",
       "        <td>203</td>\n",
       "        <td>Zalaxy</td>\n",
       "        <td>102</td>\n",
       "    </tr>\n",
       "</table>"
      ],
      "text/plain": [
       "[(101, 'Apple', 201, 'iPhone', 101),\n",
       " (101, 'Apple', 202, 'Galaxy', 102),\n",
       " (101, 'Apple', 203, 'Zalaxy', 102),\n",
       " (102, 'Samsung', 201, 'iPhone', 101),\n",
       " (102, 'Samsung', 202, 'Galaxy', 102),\n",
       " (102, 'Samsung', 203, 'Zalaxy', 102),\n",
       " (103, 'Xiaomi', 201, 'iPhone', 101),\n",
       " (103, 'Xiaomi', 202, 'Galaxy', 102),\n",
       " (103, 'Xiaomi', 203, 'Zalaxy', 102)]"
      ]
     },
     "execution_count": 7,
     "metadata": {},
     "output_type": "execute_result"
    }
   ],
   "source": [
    "%sql select * from vendors left outer join products"
   ]
  },
  {
   "cell_type": "markdown",
   "id": "b8e5f3e6-6da4-46fd-a253-1f7460bc553a",
   "metadata": {},
   "source": [
    "* *ansi outer join syntax*"
   ]
  },
  {
   "cell_type": "markdown",
   "id": "20b01012-d80e-487d-bca9-682be826b93d",
   "metadata": {},
   "source": [
    "* *3 запроса выше выдают один и тот же результат*\n",
    "* *несмотря на то, что для одного из вендоров (Xiaomi) в базе нет ни одного продукта*\n",
    "* *любой join по природе своей выполняет перекрестное произведение (cross join)*\n",
    "* *каждая строка одной таблицы соединяется с каждой строкой второй таблицы*\n",
    "* *в результате получаем все возможные сочетания строк двух таблиц*\n",
    "* *разница между inner join и outer join начинает проявляться только при добавлении условий (where / on)*\n",
    "* *on выполняет ту же функцию, что и where - фильтрацию результатов работы cross join*"
   ]
  },
  {
   "cell_type": "code",
   "execution_count": 8,
   "id": "3d08c59b-3cb1-4454-822b-80c1164ec118",
   "metadata": {},
   "outputs": [
    {
     "name": "stdout",
     "output_type": "stream",
     "text": [
      " * sqlite:///db.db3\n",
      "Done.\n"
     ]
    },
    {
     "data": {
      "text/html": [
       "<table>\n",
       "    <tr>\n",
       "        <th>prod_id</th>\n",
       "        <th>prod_name</th>\n",
       "        <th>vend_id</th>\n",
       "        <th>vend_id_1</th>\n",
       "        <th>vend_name</th>\n",
       "    </tr>\n",
       "    <tr>\n",
       "        <td>201</td>\n",
       "        <td>iPhone</td>\n",
       "        <td>101</td>\n",
       "        <td>101</td>\n",
       "        <td>Apple</td>\n",
       "    </tr>\n",
       "    <tr>\n",
       "        <td>202</td>\n",
       "        <td>Galaxy</td>\n",
       "        <td>102</td>\n",
       "        <td>102</td>\n",
       "        <td>Samsung</td>\n",
       "    </tr>\n",
       "    <tr>\n",
       "        <td>203</td>\n",
       "        <td>Zalaxy</td>\n",
       "        <td>102</td>\n",
       "        <td>102</td>\n",
       "        <td>Samsung</td>\n",
       "    </tr>\n",
       "</table>"
      ],
      "text/plain": [
       "[(201, 'iPhone', 101, 101, 'Apple'),\n",
       " (202, 'Galaxy', 102, 102, 'Samsung'),\n",
       " (203, 'Zalaxy', 102, 102, 'Samsung')]"
      ]
     },
     "execution_count": 8,
     "metadata": {},
     "output_type": "execute_result"
    }
   ],
   "source": [
    "%sql select * from products, vendors where products.vend_id = vendors.vend_id"
   ]
  },
  {
   "cell_type": "code",
   "execution_count": 9,
   "id": "309c7bf1-a388-4ec6-8cbf-00e12ae83ba2",
   "metadata": {},
   "outputs": [
    {
     "name": "stdout",
     "output_type": "stream",
     "text": [
      " * sqlite:///db.db3\n",
      "Done.\n"
     ]
    },
    {
     "data": {
      "text/html": [
       "<table>\n",
       "    <tr>\n",
       "        <th>prod_id</th>\n",
       "        <th>prod_name</th>\n",
       "        <th>vend_id</th>\n",
       "        <th>vend_id_1</th>\n",
       "        <th>vend_name</th>\n",
       "    </tr>\n",
       "    <tr>\n",
       "        <td>201</td>\n",
       "        <td>iPhone</td>\n",
       "        <td>101</td>\n",
       "        <td>101</td>\n",
       "        <td>Apple</td>\n",
       "    </tr>\n",
       "    <tr>\n",
       "        <td>202</td>\n",
       "        <td>Galaxy</td>\n",
       "        <td>102</td>\n",
       "        <td>102</td>\n",
       "        <td>Samsung</td>\n",
       "    </tr>\n",
       "    <tr>\n",
       "        <td>203</td>\n",
       "        <td>Zalaxy</td>\n",
       "        <td>102</td>\n",
       "        <td>102</td>\n",
       "        <td>Samsung</td>\n",
       "    </tr>\n",
       "</table>"
      ],
      "text/plain": [
       "[(201, 'iPhone', 101, 101, 'Apple'),\n",
       " (202, 'Galaxy', 102, 102, 'Samsung'),\n",
       " (203, 'Zalaxy', 102, 102, 'Samsung')]"
      ]
     },
     "execution_count": 9,
     "metadata": {},
     "output_type": "execute_result"
    }
   ],
   "source": [
    "%sql select * from products inner join vendors on products.vend_id = vendors.vend_id"
   ]
  },
  {
   "cell_type": "markdown",
   "id": "a2c9a2ec-51d6-4d3f-bad5-98ed4565298b",
   "metadata": {},
   "source": [
    "* *on и where: разный синтаксис, одна и та же фукнция - фильтрация для cross join*"
   ]
  },
  {
   "cell_type": "code",
   "execution_count": 10,
   "id": "20fba579-cde0-47d4-abba-b12734a5ffad",
   "metadata": {},
   "outputs": [
    {
     "name": "stdout",
     "output_type": "stream",
     "text": [
      " * sqlite:///db.db3\n",
      "Done.\n"
     ]
    },
    {
     "data": {
      "text/html": [
       "<table>\n",
       "    <tr>\n",
       "        <th>prod_id</th>\n",
       "        <th>prod_name</th>\n",
       "        <th>vend_id</th>\n",
       "        <th>vend_id_1</th>\n",
       "        <th>vend_name</th>\n",
       "    </tr>\n",
       "    <tr>\n",
       "        <td>201</td>\n",
       "        <td>iPhone</td>\n",
       "        <td>101</td>\n",
       "        <td>101</td>\n",
       "        <td>Apple</td>\n",
       "    </tr>\n",
       "    <tr>\n",
       "        <td>201</td>\n",
       "        <td>iPhone</td>\n",
       "        <td>101</td>\n",
       "        <td>102</td>\n",
       "        <td>Samsung</td>\n",
       "    </tr>\n",
       "    <tr>\n",
       "        <td>201</td>\n",
       "        <td>iPhone</td>\n",
       "        <td>101</td>\n",
       "        <td>103</td>\n",
       "        <td>Xiaomi</td>\n",
       "    </tr>\n",
       "    <tr>\n",
       "        <td>202</td>\n",
       "        <td>Galaxy</td>\n",
       "        <td>102</td>\n",
       "        <td>101</td>\n",
       "        <td>Apple</td>\n",
       "    </tr>\n",
       "    <tr>\n",
       "        <td>202</td>\n",
       "        <td>Galaxy</td>\n",
       "        <td>102</td>\n",
       "        <td>102</td>\n",
       "        <td>Samsung</td>\n",
       "    </tr>\n",
       "    <tr>\n",
       "        <td>202</td>\n",
       "        <td>Galaxy</td>\n",
       "        <td>102</td>\n",
       "        <td>103</td>\n",
       "        <td>Xiaomi</td>\n",
       "    </tr>\n",
       "    <tr>\n",
       "        <td>203</td>\n",
       "        <td>Zalaxy</td>\n",
       "        <td>102</td>\n",
       "        <td>101</td>\n",
       "        <td>Apple</td>\n",
       "    </tr>\n",
       "    <tr>\n",
       "        <td>203</td>\n",
       "        <td>Zalaxy</td>\n",
       "        <td>102</td>\n",
       "        <td>102</td>\n",
       "        <td>Samsung</td>\n",
       "    </tr>\n",
       "    <tr>\n",
       "        <td>203</td>\n",
       "        <td>Zalaxy</td>\n",
       "        <td>102</td>\n",
       "        <td>103</td>\n",
       "        <td>Xiaomi</td>\n",
       "    </tr>\n",
       "</table>"
      ],
      "text/plain": [
       "[(201, 'iPhone', 101, 101, 'Apple'),\n",
       " (201, 'iPhone', 101, 102, 'Samsung'),\n",
       " (201, 'iPhone', 101, 103, 'Xiaomi'),\n",
       " (202, 'Galaxy', 102, 101, 'Apple'),\n",
       " (202, 'Galaxy', 102, 102, 'Samsung'),\n",
       " (202, 'Galaxy', 102, 103, 'Xiaomi'),\n",
       " (203, 'Zalaxy', 102, 101, 'Apple'),\n",
       " (203, 'Zalaxy', 102, 102, 'Samsung'),\n",
       " (203, 'Zalaxy', 102, 103, 'Xiaomi')]"
      ]
     },
     "execution_count": 10,
     "metadata": {},
     "output_type": "execute_result"
    }
   ],
   "source": [
    "%sql select * from products inner join vendors"
   ]
  },
  {
   "cell_type": "markdown",
   "id": "408dafcc-57da-4f74-bcee-f40ba675043f",
   "metadata": {},
   "source": [
    "* *join является сокращенной формой записи inner join*"
   ]
  },
  {
   "cell_type": "code",
   "execution_count": 11,
   "id": "606b723b-c3b2-431b-a006-ae27326cdec5",
   "metadata": {},
   "outputs": [
    {
     "name": "stdout",
     "output_type": "stream",
     "text": [
      " * sqlite:///db.db3\n",
      "Done.\n"
     ]
    },
    {
     "data": {
      "text/html": [
       "<table>\n",
       "    <tr>\n",
       "        <th>prod_id</th>\n",
       "        <th>prod_name</th>\n",
       "        <th>vend_id</th>\n",
       "        <th>vend_id_1</th>\n",
       "        <th>vend_name</th>\n",
       "    </tr>\n",
       "    <tr>\n",
       "        <td>201</td>\n",
       "        <td>iPhone</td>\n",
       "        <td>101</td>\n",
       "        <td>101</td>\n",
       "        <td>Apple</td>\n",
       "    </tr>\n",
       "    <tr>\n",
       "        <td>201</td>\n",
       "        <td>iPhone</td>\n",
       "        <td>101</td>\n",
       "        <td>102</td>\n",
       "        <td>Samsung</td>\n",
       "    </tr>\n",
       "    <tr>\n",
       "        <td>201</td>\n",
       "        <td>iPhone</td>\n",
       "        <td>101</td>\n",
       "        <td>103</td>\n",
       "        <td>Xiaomi</td>\n",
       "    </tr>\n",
       "    <tr>\n",
       "        <td>202</td>\n",
       "        <td>Galaxy</td>\n",
       "        <td>102</td>\n",
       "        <td>101</td>\n",
       "        <td>Apple</td>\n",
       "    </tr>\n",
       "    <tr>\n",
       "        <td>202</td>\n",
       "        <td>Galaxy</td>\n",
       "        <td>102</td>\n",
       "        <td>102</td>\n",
       "        <td>Samsung</td>\n",
       "    </tr>\n",
       "    <tr>\n",
       "        <td>202</td>\n",
       "        <td>Galaxy</td>\n",
       "        <td>102</td>\n",
       "        <td>103</td>\n",
       "        <td>Xiaomi</td>\n",
       "    </tr>\n",
       "    <tr>\n",
       "        <td>203</td>\n",
       "        <td>Zalaxy</td>\n",
       "        <td>102</td>\n",
       "        <td>101</td>\n",
       "        <td>Apple</td>\n",
       "    </tr>\n",
       "    <tr>\n",
       "        <td>203</td>\n",
       "        <td>Zalaxy</td>\n",
       "        <td>102</td>\n",
       "        <td>102</td>\n",
       "        <td>Samsung</td>\n",
       "    </tr>\n",
       "    <tr>\n",
       "        <td>203</td>\n",
       "        <td>Zalaxy</td>\n",
       "        <td>102</td>\n",
       "        <td>103</td>\n",
       "        <td>Xiaomi</td>\n",
       "    </tr>\n",
       "</table>"
      ],
      "text/plain": [
       "[(201, 'iPhone', 101, 101, 'Apple'),\n",
       " (201, 'iPhone', 101, 102, 'Samsung'),\n",
       " (201, 'iPhone', 101, 103, 'Xiaomi'),\n",
       " (202, 'Galaxy', 102, 101, 'Apple'),\n",
       " (202, 'Galaxy', 102, 102, 'Samsung'),\n",
       " (202, 'Galaxy', 102, 103, 'Xiaomi'),\n",
       " (203, 'Zalaxy', 102, 101, 'Apple'),\n",
       " (203, 'Zalaxy', 102, 102, 'Samsung'),\n",
       " (203, 'Zalaxy', 102, 103, 'Xiaomi')]"
      ]
     },
     "execution_count": 11,
     "metadata": {},
     "output_type": "execute_result"
    }
   ],
   "source": [
    "%sql select * from products left outer join vendors"
   ]
  },
  {
   "cell_type": "markdown",
   "id": "3cce7795-0237-412e-97bb-713d1a31a5bd",
   "metadata": {},
   "source": [
    "* *left / right join является сокращенной формой записи left / right outer join*"
   ]
  },
  {
   "cell_type": "code",
   "execution_count": 12,
   "id": "422bc24a-bea7-435e-9ca8-b6fef22e232b",
   "metadata": {},
   "outputs": [
    {
     "name": "stdout",
     "output_type": "stream",
     "text": [
      " * sqlite:///db.db3\n",
      "Done.\n"
     ]
    },
    {
     "data": {
      "text/html": [
       "<table>\n",
       "    <tr>\n",
       "        <th>prod_id</th>\n",
       "        <th>prod_name</th>\n",
       "        <th>vend_id</th>\n",
       "        <th>vend_id_1</th>\n",
       "        <th>vend_name</th>\n",
       "    </tr>\n",
       "    <tr>\n",
       "        <td>201</td>\n",
       "        <td>iPhone</td>\n",
       "        <td>101</td>\n",
       "        <td>101</td>\n",
       "        <td>Apple</td>\n",
       "    </tr>\n",
       "    <tr>\n",
       "        <td>202</td>\n",
       "        <td>Galaxy</td>\n",
       "        <td>102</td>\n",
       "        <td>102</td>\n",
       "        <td>Samsung</td>\n",
       "    </tr>\n",
       "    <tr>\n",
       "        <td>203</td>\n",
       "        <td>Zalaxy</td>\n",
       "        <td>102</td>\n",
       "        <td>102</td>\n",
       "        <td>Samsung</td>\n",
       "    </tr>\n",
       "</table>"
      ],
      "text/plain": [
       "[(201, 'iPhone', 101, 101, 'Apple'),\n",
       " (202, 'Galaxy', 102, 102, 'Samsung'),\n",
       " (203, 'Zalaxy', 102, 102, 'Samsung')]"
      ]
     },
     "execution_count": 12,
     "metadata": {},
     "output_type": "execute_result"
    }
   ],
   "source": [
    "%sql select * from products inner join vendors on products.vend_id = vendors.vend_id"
   ]
  },
  {
   "cell_type": "code",
   "execution_count": 13,
   "id": "4d4ab175-f43c-4dbf-881e-29ad748b2b5a",
   "metadata": {},
   "outputs": [
    {
     "name": "stdout",
     "output_type": "stream",
     "text": [
      " * sqlite:///db.db3\n",
      "Done.\n"
     ]
    },
    {
     "data": {
      "text/html": [
       "<table>\n",
       "    <tr>\n",
       "        <th>vend_id</th>\n",
       "        <th>vend_name</th>\n",
       "        <th>prod_id</th>\n",
       "        <th>prod_name</th>\n",
       "        <th>vend_id_1</th>\n",
       "    </tr>\n",
       "    <tr>\n",
       "        <td>101</td>\n",
       "        <td>Apple</td>\n",
       "        <td>201</td>\n",
       "        <td>iPhone</td>\n",
       "        <td>101</td>\n",
       "    </tr>\n",
       "    <tr>\n",
       "        <td>102</td>\n",
       "        <td>Samsung</td>\n",
       "        <td>202</td>\n",
       "        <td>Galaxy</td>\n",
       "        <td>102</td>\n",
       "    </tr>\n",
       "    <tr>\n",
       "        <td>102</td>\n",
       "        <td>Samsung</td>\n",
       "        <td>203</td>\n",
       "        <td>Zalaxy</td>\n",
       "        <td>102</td>\n",
       "    </tr>\n",
       "</table>"
      ],
      "text/plain": [
       "[(101, 'Apple', 201, 'iPhone', 101),\n",
       " (102, 'Samsung', 202, 'Galaxy', 102),\n",
       " (102, 'Samsung', 203, 'Zalaxy', 102)]"
      ]
     },
     "execution_count": 13,
     "metadata": {},
     "output_type": "execute_result"
    }
   ],
   "source": [
    "%sql select * from vendors inner join products on products.vend_id = vendors.vend_id"
   ]
  },
  {
   "cell_type": "code",
   "execution_count": 14,
   "id": "298839dd-d88a-457f-af3d-385b7ece5799",
   "metadata": {},
   "outputs": [
    {
     "name": "stdout",
     "output_type": "stream",
     "text": [
      " * sqlite:///db.db3\n",
      "Done.\n"
     ]
    },
    {
     "data": {
      "text/html": [
       "<table>\n",
       "    <tr>\n",
       "        <th>prod_id</th>\n",
       "        <th>prod_name</th>\n",
       "        <th>vend_id</th>\n",
       "        <th>vend_id_1</th>\n",
       "        <th>vend_name</th>\n",
       "    </tr>\n",
       "    <tr>\n",
       "        <td>201</td>\n",
       "        <td>iPhone</td>\n",
       "        <td>101</td>\n",
       "        <td>101</td>\n",
       "        <td>Apple</td>\n",
       "    </tr>\n",
       "    <tr>\n",
       "        <td>202</td>\n",
       "        <td>Galaxy</td>\n",
       "        <td>102</td>\n",
       "        <td>102</td>\n",
       "        <td>Samsung</td>\n",
       "    </tr>\n",
       "    <tr>\n",
       "        <td>203</td>\n",
       "        <td>Zalaxy</td>\n",
       "        <td>102</td>\n",
       "        <td>102</td>\n",
       "        <td>Samsung</td>\n",
       "    </tr>\n",
       "</table>"
      ],
      "text/plain": [
       "[(201, 'iPhone', 101, 101, 'Apple'),\n",
       " (202, 'Galaxy', 102, 102, 'Samsung'),\n",
       " (203, 'Zalaxy', 102, 102, 'Samsung')]"
      ]
     },
     "execution_count": 14,
     "metadata": {},
     "output_type": "execute_result"
    }
   ],
   "source": [
    "%sql select * from products left join vendors on products.vend_id = vendors.vend_id"
   ]
  },
  {
   "cell_type": "code",
   "execution_count": 15,
   "id": "b47a33c3-f4ab-461c-bd1b-15251ba01f73",
   "metadata": {},
   "outputs": [
    {
     "name": "stdout",
     "output_type": "stream",
     "text": [
      " * sqlite:///db.db3\n",
      "Done.\n"
     ]
    },
    {
     "data": {
      "text/html": [
       "<table>\n",
       "    <tr>\n",
       "        <th>vend_id</th>\n",
       "        <th>vend_name</th>\n",
       "        <th>prod_id</th>\n",
       "        <th>prod_name</th>\n",
       "        <th>vend_id_1</th>\n",
       "    </tr>\n",
       "    <tr>\n",
       "        <td>101</td>\n",
       "        <td>Apple</td>\n",
       "        <td>201</td>\n",
       "        <td>iPhone</td>\n",
       "        <td>101</td>\n",
       "    </tr>\n",
       "    <tr>\n",
       "        <td>102</td>\n",
       "        <td>Samsung</td>\n",
       "        <td>202</td>\n",
       "        <td>Galaxy</td>\n",
       "        <td>102</td>\n",
       "    </tr>\n",
       "    <tr>\n",
       "        <td>102</td>\n",
       "        <td>Samsung</td>\n",
       "        <td>203</td>\n",
       "        <td>Zalaxy</td>\n",
       "        <td>102</td>\n",
       "    </tr>\n",
       "    <tr>\n",
       "        <td>103</td>\n",
       "        <td>Xiaomi</td>\n",
       "        <td>None</td>\n",
       "        <td>None</td>\n",
       "        <td>None</td>\n",
       "    </tr>\n",
       "</table>"
      ],
      "text/plain": [
       "[(101, 'Apple', 201, 'iPhone', 101),\n",
       " (102, 'Samsung', 202, 'Galaxy', 102),\n",
       " (102, 'Samsung', 203, 'Zalaxy', 102),\n",
       " (103, 'Xiaomi', None, None, None)]"
      ]
     },
     "execution_count": 15,
     "metadata": {},
     "output_type": "execute_result"
    }
   ],
   "source": [
    "%sql select * from vendors left join products on products.vend_id = vendors.vend_id"
   ]
  },
  {
   "cell_type": "markdown",
   "id": "c8c5ddbb-dacd-4fc7-ac86-956609ad2426",
   "metadata": {},
   "source": [
    "* *последние 4 запроса хорошо отражают разницу в работе inner join и outer join*\n",
    "* *для inner join не важно, какая таблица слева, и какая справа (указаны в запросе)*\n",
    "* *в любом случае выполняется cross join с фильтрацией по указанному условию*\n",
    "* *все пары, соответствующие условию фильтра, выдаются в качестве результата*"
   ]
  },
  {
   "cell_type": "markdown",
   "id": "1d7a4221-20b1-48a2-8987-adc412d9e711",
   "metadata": {},
   "source": [
    "* *для outer join (в данном случае left) уже важно, какая таблица слева, и какая справа*\n",
    "* *если в результате работы left join после фильтрации для какого-либо элемента из левой таблички не осталось ни одной пары в результирующей табличке, то этот элемент из левой таблички все равно будет добавлен (один раз), при этом поля правой таблички для этой строчки будут заполнены null / none.*\n",
    "* *в данном случае для каждого продукта нашелся вендор, но для одного из вендоров (Xiaomi) не нашлось ни одного продукта (последняя строчка последней таблички)*"
   ]
  },
  {
   "cell_type": "code",
   "execution_count": 16,
   "id": "5eb610d3-d9f3-437c-abf0-151620e29b32",
   "metadata": {},
   "outputs": [
    {
     "name": "stdout",
     "output_type": "stream",
     "text": [
      " * sqlite:///db.db3\n",
      "Done.\n"
     ]
    },
    {
     "data": {
      "text/html": [
       "<table>\n",
       "    <tr>\n",
       "        <th>prod_id</th>\n",
       "        <th>prod_name</th>\n",
       "        <th>vend_id</th>\n",
       "        <th>prod_id_1</th>\n",
       "        <th>prod_name_1</th>\n",
       "        <th>vend_id_1</th>\n",
       "    </tr>\n",
       "    <tr>\n",
       "        <td>201</td>\n",
       "        <td>iPhone</td>\n",
       "        <td>101</td>\n",
       "        <td>201</td>\n",
       "        <td>iPhone</td>\n",
       "        <td>101</td>\n",
       "    </tr>\n",
       "    <tr>\n",
       "        <td>201</td>\n",
       "        <td>iPhone</td>\n",
       "        <td>101</td>\n",
       "        <td>202</td>\n",
       "        <td>Galaxy</td>\n",
       "        <td>102</td>\n",
       "    </tr>\n",
       "    <tr>\n",
       "        <td>201</td>\n",
       "        <td>iPhone</td>\n",
       "        <td>101</td>\n",
       "        <td>203</td>\n",
       "        <td>Zalaxy</td>\n",
       "        <td>102</td>\n",
       "    </tr>\n",
       "    <tr>\n",
       "        <td>202</td>\n",
       "        <td>Galaxy</td>\n",
       "        <td>102</td>\n",
       "        <td>201</td>\n",
       "        <td>iPhone</td>\n",
       "        <td>101</td>\n",
       "    </tr>\n",
       "    <tr>\n",
       "        <td>202</td>\n",
       "        <td>Galaxy</td>\n",
       "        <td>102</td>\n",
       "        <td>202</td>\n",
       "        <td>Galaxy</td>\n",
       "        <td>102</td>\n",
       "    </tr>\n",
       "    <tr>\n",
       "        <td>202</td>\n",
       "        <td>Galaxy</td>\n",
       "        <td>102</td>\n",
       "        <td>203</td>\n",
       "        <td>Zalaxy</td>\n",
       "        <td>102</td>\n",
       "    </tr>\n",
       "    <tr>\n",
       "        <td>203</td>\n",
       "        <td>Zalaxy</td>\n",
       "        <td>102</td>\n",
       "        <td>201</td>\n",
       "        <td>iPhone</td>\n",
       "        <td>101</td>\n",
       "    </tr>\n",
       "    <tr>\n",
       "        <td>203</td>\n",
       "        <td>Zalaxy</td>\n",
       "        <td>102</td>\n",
       "        <td>202</td>\n",
       "        <td>Galaxy</td>\n",
       "        <td>102</td>\n",
       "    </tr>\n",
       "    <tr>\n",
       "        <td>203</td>\n",
       "        <td>Zalaxy</td>\n",
       "        <td>102</td>\n",
       "        <td>203</td>\n",
       "        <td>Zalaxy</td>\n",
       "        <td>102</td>\n",
       "    </tr>\n",
       "</table>"
      ],
      "text/plain": [
       "[(201, 'iPhone', 101, 201, 'iPhone', 101),\n",
       " (201, 'iPhone', 101, 202, 'Galaxy', 102),\n",
       " (201, 'iPhone', 101, 203, 'Zalaxy', 102),\n",
       " (202, 'Galaxy', 102, 201, 'iPhone', 101),\n",
       " (202, 'Galaxy', 102, 202, 'Galaxy', 102),\n",
       " (202, 'Galaxy', 102, 203, 'Zalaxy', 102),\n",
       " (203, 'Zalaxy', 102, 201, 'iPhone', 101),\n",
       " (203, 'Zalaxy', 102, 202, 'Galaxy', 102),\n",
       " (203, 'Zalaxy', 102, 203, 'Zalaxy', 102)]"
      ]
     },
     "execution_count": 16,
     "metadata": {},
     "output_type": "execute_result"
    }
   ],
   "source": [
    "%sql select * from products as p1 inner join products as p2"
   ]
  },
  {
   "cell_type": "code",
   "execution_count": 17,
   "id": "ae075fae-c1be-4319-bdfb-45f2fb0433ee",
   "metadata": {},
   "outputs": [
    {
     "name": "stdout",
     "output_type": "stream",
     "text": [
      " * sqlite:///db.db3\n",
      "Done.\n"
     ]
    },
    {
     "data": {
      "text/html": [
       "<table>\n",
       "    <tr>\n",
       "        <th>prod_id</th>\n",
       "        <th>prod_name</th>\n",
       "        <th>vend_id</th>\n",
       "        <th>prod_id_1</th>\n",
       "        <th>prod_name_1</th>\n",
       "        <th>vend_id_1</th>\n",
       "    </tr>\n",
       "    <tr>\n",
       "        <td>201</td>\n",
       "        <td>iPhone</td>\n",
       "        <td>101</td>\n",
       "        <td>202</td>\n",
       "        <td>Galaxy</td>\n",
       "        <td>102</td>\n",
       "    </tr>\n",
       "    <tr>\n",
       "        <td>201</td>\n",
       "        <td>iPhone</td>\n",
       "        <td>101</td>\n",
       "        <td>203</td>\n",
       "        <td>Zalaxy</td>\n",
       "        <td>102</td>\n",
       "    </tr>\n",
       "    <tr>\n",
       "        <td>202</td>\n",
       "        <td>Galaxy</td>\n",
       "        <td>102</td>\n",
       "        <td>201</td>\n",
       "        <td>iPhone</td>\n",
       "        <td>101</td>\n",
       "    </tr>\n",
       "    <tr>\n",
       "        <td>202</td>\n",
       "        <td>Galaxy</td>\n",
       "        <td>102</td>\n",
       "        <td>203</td>\n",
       "        <td>Zalaxy</td>\n",
       "        <td>102</td>\n",
       "    </tr>\n",
       "    <tr>\n",
       "        <td>203</td>\n",
       "        <td>Zalaxy</td>\n",
       "        <td>102</td>\n",
       "        <td>201</td>\n",
       "        <td>iPhone</td>\n",
       "        <td>101</td>\n",
       "    </tr>\n",
       "    <tr>\n",
       "        <td>203</td>\n",
       "        <td>Zalaxy</td>\n",
       "        <td>102</td>\n",
       "        <td>202</td>\n",
       "        <td>Galaxy</td>\n",
       "        <td>102</td>\n",
       "    </tr>\n",
       "</table>"
      ],
      "text/plain": [
       "[(201, 'iPhone', 101, 202, 'Galaxy', 102),\n",
       " (201, 'iPhone', 101, 203, 'Zalaxy', 102),\n",
       " (202, 'Galaxy', 102, 201, 'iPhone', 101),\n",
       " (202, 'Galaxy', 102, 203, 'Zalaxy', 102),\n",
       " (203, 'Zalaxy', 102, 201, 'iPhone', 101),\n",
       " (203, 'Zalaxy', 102, 202, 'Galaxy', 102)]"
      ]
     },
     "execution_count": 17,
     "metadata": {},
     "output_type": "execute_result"
    }
   ],
   "source": [
    "%sql select * from products as p1 inner join products as p2 where p1.prod_id <> p2.prod_id"
   ]
  },
  {
   "cell_type": "markdown",
   "id": "34b8798d-f326-4f9c-aaa3-a33daa589dfa",
   "metadata": {},
   "source": [
    "* *self join: одна и та же таблица и слева и справа*"
   ]
  }
 ],
 "metadata": {
  "kernelspec": {
   "display_name": "dev",
   "language": "python",
   "name": "dev"
  },
  "language_info": {
   "codemirror_mode": {
    "name": "ipython",
    "version": 3
   },
   "file_extension": ".py",
   "mimetype": "text/x-python",
   "name": "python",
   "nbconvert_exporter": "python",
   "pygments_lexer": "ipython3",
   "version": "3.10.7"
  }
 },
 "nbformat": 4,
 "nbformat_minor": 5
}

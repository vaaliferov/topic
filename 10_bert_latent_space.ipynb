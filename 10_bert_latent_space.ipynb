{
 "cells": [
  {
   "cell_type": "markdown",
   "id": "273363e0-7d4c-4ba8-823b-d485cdaa72b4",
   "metadata": {},
   "source": [
    "#### Визуализация латентного пространства (контекстные эмбеддинги cls токена модели rubert-tiny2)"
   ]
  },
  {
   "cell_type": "code",
   "execution_count": null,
   "id": "5d580545-1b4a-46e7-b564-e75ac9d5acb3",
   "metadata": {
    "id": "5d580545-1b4a-46e7-b564-e75ac9d5acb3"
   },
   "outputs": [],
   "source": [
    "!pip install transformers umap-learn"
   ]
  },
  {
   "cell_type": "code",
   "execution_count": 1,
   "id": "c262d69d-0b66-4c2b-ab57-823a99b68039",
   "metadata": {
    "id": "c262d69d-0b66-4c2b-ab57-823a99b68039"
   },
   "outputs": [],
   "source": [
    "import re\n",
    "import umap\n",
    "import torch\n",
    "import numpy as np\n",
    "import pandas as pd\n",
    "from tqdm.auto import tqdm\n",
    "import matplotlib.pyplot as plt"
   ]
  },
  {
   "cell_type": "code",
   "execution_count": 2,
   "id": "cb0046cd-7d89-4c72-8ef3-35c54ca2f3e2",
   "metadata": {
    "id": "cb0046cd-7d89-4c72-8ef3-35c54ca2f3e2"
   },
   "outputs": [],
   "source": [
    "from utils import *"
   ]
  },
  {
   "cell_type": "code",
   "execution_count": 3,
   "id": "f91fc86c-aafc-4886-8f7f-0f913c3f8a80",
   "metadata": {
    "id": "f91fc86c-aafc-4886-8f7f-0f913c3f8a80"
   },
   "outputs": [],
   "source": [
    "from google.colab import drive"
   ]
  },
  {
   "cell_type": "code",
   "execution_count": 4,
   "id": "983fffb9-f4af-47f5-b9c3-e6cab83760d9",
   "metadata": {
    "id": "983fffb9-f4af-47f5-b9c3-e6cab83760d9"
   },
   "outputs": [],
   "source": [
    "from torch.utils.data import DataLoader\n",
    "from torch.utils.data import TensorDataset\n",
    "from torch.utils.data import SequentialSampler"
   ]
  },
  {
   "cell_type": "code",
   "execution_count": 5,
   "id": "7787e2a6-8fc8-4c72-b659-cfbbe205b9b7",
   "metadata": {
    "id": "7787e2a6-8fc8-4c72-b659-cfbbe205b9b7"
   },
   "outputs": [],
   "source": [
    "from transformers import logging\n",
    "from transformers import AutoTokenizer\n",
    "from transformers import AutoModelForSequenceClassification"
   ]
  },
  {
   "cell_type": "code",
   "execution_count": 6,
   "id": "879a36ef-5349-4dfe-bb95-94f18f5441d6",
   "metadata": {
    "id": "879a36ef-5349-4dfe-bb95-94f18f5441d6"
   },
   "outputs": [],
   "source": [
    "def get_available_device():\n",
    "    cuda = torch.cuda.is_available()\n",
    "    return torch.device('cuda' if cuda else 'cpu')"
   ]
  },
  {
   "cell_type": "code",
   "execution_count": null,
   "id": "0a1985b6-faf4-4ef4-8105-48417ac4e7e5",
   "metadata": {},
   "outputs": [],
   "source": [
    "def umap_reduce_dim(X, n):\n",
    "    params = {\n",
    "        'min_dist': 0.1, \n",
    "        'metric': 'cosine', \n",
    "        'n_components': n, \n",
    "        'n_neighbors': 100, \n",
    "        'random_state': 42\n",
    "    }\n",
    "    return umap.UMAP(**params).fit_transform(X)"
   ]
  },
  {
   "cell_type": "code",
   "execution_count": 27,
   "id": "2e25e059-28bd-49c0-8650-23371ef7321d",
   "metadata": {
    "id": "2e25e059-28bd-49c0-8650-23371ef7321d"
   },
   "outputs": [],
   "source": [
    "def scatter_plot(X2, y, labels):\n",
    "    fig, ax = plt.subplots(figsize=(14,9))\n",
    "    scatter = ax.scatter(X2[:,0], X2[:,1], c=y, s=2, cmap='tab20')\n",
    "    ax.legend(handles=scatter.legend_elements()[0], labels=labels)"
   ]
  },
  {
   "cell_type": "code",
   "execution_count": null,
   "id": "d701b25c-73f5-450e-8573-9e99276a1036",
   "metadata": {},
   "outputs": [],
   "source": [
    "def clean(s):\n",
    "    s = re.sub('\\n', ' ', s)\n",
    "    s = re.sub('<\\?xml.+\\?>', ' ', s)\n",
    "    s = re.sub('<\\/?[A-Za-z]*>', ' ', s)\n",
    "    s = re.sub('[0-9]+(\\.|,)?[0-9]*', ' num ', s)\n",
    "    s = re.sub('([a-zа-яёй])([A-ZА-ЯЁЙ])', '\\g<1> \\g<2>', s)\n",
    "    s = re.sub('[^A-Za-zА-ЯЁЙа-яёй0-9.,;:!?()\"\\s\\-\\']', ' ', s)\n",
    "    return re.sub('\\s{2,}', ' ', s).strip()"
   ]
  },
  {
   "cell_type": "code",
   "execution_count": 10,
   "id": "4b637f52-73f2-4e6a-a879-524cde45f039",
   "metadata": {
    "id": "4b637f52-73f2-4e6a-a879-524cde45f039"
   },
   "outputs": [],
   "source": [
    "def tokenize(titles, texts, tokenizer):\n",
    "    \n",
    "    params = {'max_length': 512, \n",
    "              'truncation': True, \n",
    "              'padding': 'max_length', \n",
    "              'add_special_tokens': True}\n",
    "    \n",
    "    input_ids = torch.zeros((len(titles), 512), dtype=torch.int32)\n",
    "    \n",
    "    for i in tqdm(range(len(titles))):\n",
    "        title, text = clean(titles[i]), clean(texts[i])\n",
    "        ids = tokenizer.encode(title, text, **params)\n",
    "        input_ids[i] = torch.tensor(ids, dtype=torch.int32)\n",
    "    \n",
    "    return input_ids"
   ]
  },
  {
   "cell_type": "code",
   "execution_count": 11,
   "id": "51ef8904-1783-40f8-aa17-e1557f20ce62",
   "metadata": {
    "id": "51ef8904-1783-40f8-aa17-e1557f20ce62"
   },
   "outputs": [],
   "source": [
    "def load_model(name, path):\n",
    "    \n",
    "    params = {\n",
    "        'num_labels': 6, \n",
    "        'output_attentions': False, \n",
    "        'output_hidden_states': True\n",
    "    }\n",
    "    \n",
    "    tokenizer = AutoTokenizer.from_pretrained(name)\n",
    "    model = AutoModelForSequenceClassification.from_pretrained(name, **params)\n",
    "    model.load_state_dict(torch.load(path, map_location=torch.device('cpu')))\n",
    "    return model, tokenizer"
   ]
  },
  {
   "cell_type": "code",
   "execution_count": 12,
   "id": "2e00afb4-df5d-485c-84c3-3de9d55002c9",
   "metadata": {
    "id": "2e00afb4-df5d-485c-84c3-3de9d55002c9"
   },
   "outputs": [],
   "source": [
    "def get_cls_embs(model, loader, device, pad_token_id=0):\n",
    "    \n",
    "    cls_embs = []\n",
    "    model = model.eval()\n",
    "    model = model.to(device)\n",
    "    torch.set_grad_enabled(False)\n",
    "    \n",
    "    for batch in tqdm(loader):\n",
    "        \n",
    "        input_ids = batch[0].to(device)\n",
    "        attn_mask = (input_ids != pad_token_id)\n",
    "        \n",
    "        params = {\n",
    "            'output_attentions': False, \n",
    "            'output_hidden_states': True, \n",
    "            'attention_mask': attn_mask, \n",
    "            'input_ids': input_ids\n",
    "        }\n",
    "        \n",
    "        output = model(**params)\n",
    "        cls_embs.append(output['hidden_states'][-1][:,0,:].cpu())\n",
    "    \n",
    "    return torch.vstack(cls_embs)"
   ]
  },
  {
   "cell_type": "markdown",
   "id": "e0d11dc2-528c-4803-9590-56cc116c1324",
   "metadata": {},
   "source": [
    "* *фунция извлечения эмбеддингов документов (cls токен последнего слоя)*"
   ]
  },
  {
   "cell_type": "code",
   "execution_count": null,
   "id": "d9d0c9af-1454-4464-b189-8757db81866c",
   "metadata": {
    "id": "d9d0c9af-1454-4464-b189-8757db81866c"
   },
   "outputs": [],
   "source": [
    "drive.mount('/content/drive')"
   ]
  },
  {
   "cell_type": "code",
   "execution_count": null,
   "id": "dbbc44ba-24c6-4b25-b6f4-4954f70426c3",
   "metadata": {
    "id": "dbbc44ba-24c6-4b25-b6f4-4954f70426c3"
   },
   "outputs": [],
   "source": [
    "!unzip /content/drive/MyDrive/shared/topic/data.zip -d data"
   ]
  },
  {
   "cell_type": "markdown",
   "id": "359460e9-c05a-432c-9479-13b2ffa1f060",
   "metadata": {},
   "source": [
    "* *загружаем и извлекаем данные (сейчас мы на google colab - нам нужен GPU)*"
   ]
  },
  {
   "cell_type": "code",
   "execution_count": 13,
   "id": "f4aab6c6-7eb1-4a52-a516-7b18b6c4b377",
   "metadata": {
    "id": "f4aab6c6-7eb1-4a52-a516-7b18b6c4b377"
   },
   "outputs": [],
   "source": [
    "logging.set_verbosity_error()"
   ]
  },
  {
   "cell_type": "code",
   "execution_count": 14,
   "id": "65840986-e66e-4a17-87d8-8ea19dff0b77",
   "metadata": {
    "id": "65840986-e66e-4a17-87d8-8ea19dff0b77"
   },
   "outputs": [],
   "source": [
    "model, tokenizer = load_model('cointegrated/rubert-tiny2', 'data/rubert2.pt')"
   ]
  },
  {
   "cell_type": "markdown",
   "id": "a833f96e-1c3a-4cc1-b421-8a2ae518604f",
   "metadata": {},
   "source": [
    "* *загружаем модель и токенизитор, подгружаем лучшие веса*"
   ]
  },
  {
   "cell_type": "code",
   "execution_count": 15,
   "id": "c73867b3-24b6-4bb3-ac89-274a0cfd5757",
   "metadata": {
    "colab": {
     "base_uri": "https://localhost:8080/",
     "height": 49,
     "referenced_widgets": [
      "47058e647fb04d23925cbec2177f3e3e",
      "e1c8e07bf7ed4ab583611235760f737a",
      "638906b892bc47ab9bb8ef25104bf3ae",
      "c81cc25192c04a5f8d7a40a50b53517b",
      "fee0696b444b43e994894d648fc10649",
      "772b46ce499443a6a16235212be63cce",
      "520a6fcceada4056a88866953afa7b55",
      "e5ecafbbd5464e28b0889cf25d561744",
      "fe720d59dca8452d89f0880d989b8745",
      "a081c7d005ed4eca88bb0cd519f36505",
      "3a48f8ed82a649aa926eb870687953e3"
     ]
    },
    "id": "c73867b3-24b6-4bb3-ac89-274a0cfd5757",
    "outputId": "f9107a85-36c8-4f5e-fb84-0257469c2806"
   },
   "outputs": [
    {
     "data": {
      "application/vnd.jupyter.widget-view+json": {
       "model_id": "47058e647fb04d23925cbec2177f3e3e",
       "version_major": 2,
       "version_minor": 0
      },
      "text/plain": [
       "  0%|          | 0/40000 [00:00<?, ?it/s]"
      ]
     },
     "metadata": {},
     "output_type": "display_data"
    }
   ],
   "source": [
    "df = pd.read_csv('data/raw.csv')\n",
    "df = df.sample(40000, random_state=42)\n",
    "labels = list(load_json('data/labels.json').keys())\n",
    "df['topic'] = df['topic'].map(load_json('data/labels.json'))\n",
    "input_ids = tokenize(df['title'].values, df['text'].values, tokenizer)"
   ]
  },
  {
   "cell_type": "markdown",
   "id": "cd0d2df3-0d85-4002-96ae-7da670478d34",
   "metadata": {},
   "source": [
    "* *загружаем семпл из 40к объектов и токенизируем их*"
   ]
  },
  {
   "cell_type": "code",
   "execution_count": 16,
   "id": "49b95091-da22-432f-a776-70f3ab907fd2",
   "metadata": {
    "id": "49b95091-da22-432f-a776-70f3ab907fd2"
   },
   "outputs": [],
   "source": [
    "dataset = TensorDataset(input_ids)"
   ]
  },
  {
   "cell_type": "code",
   "execution_count": 17,
   "id": "566aa18f-9ee6-4714-8032-d86e88f9d5ef",
   "metadata": {
    "id": "566aa18f-9ee6-4714-8032-d86e88f9d5ef"
   },
   "outputs": [],
   "source": [
    "loader = DataLoader(dataset, sampler=SequentialSampler(dataset), batch_size=32)"
   ]
  },
  {
   "cell_type": "code",
   "execution_count": 18,
   "id": "407755d2-48bc-4a66-abf1-dc403d2fd769",
   "metadata": {
    "colab": {
     "base_uri": "https://localhost:8080/",
     "height": 49,
     "referenced_widgets": [
      "802c9d2ba0fe4692b5111d2998da929b",
      "9722b51c09c24e72999ba2bb53f71bd2",
      "b55177da6d8d4dbb8fc0afaea7f5dce5",
      "612499fb112a4afc8dc11e70e0e8c245",
      "a0b014f1257247f7b4efed33bf32f576",
      "2705524fb2104c4d83d84dc1e4e5205f",
      "cc096840f1e141c9a1872f45c84afc5d",
      "ab75fd09f5b443ba957aa1159a88ed07",
      "5757b017f6e449b29bbbd3e91c8957a7",
      "1a8f6c14498d44efb92bb96cc651474e",
      "8fa39b9388004069b553df401b64f1ad"
     ]
    },
    "id": "407755d2-48bc-4a66-abf1-dc403d2fd769",
    "outputId": "2392ae6c-ee2c-495f-f807-5e7eb2e99b20"
   },
   "outputs": [
    {
     "data": {
      "application/vnd.jupyter.widget-view+json": {
       "model_id": "802c9d2ba0fe4692b5111d2998da929b",
       "version_major": 2,
       "version_minor": 0
      },
      "text/plain": [
       "  0%|          | 0/1250 [00:00<?, ?it/s]"
      ]
     },
     "metadata": {},
     "output_type": "display_data"
    }
   ],
   "source": [
    "device = get_available_device()\n",
    "cls_embs = get_cls_embs(model, loader, device, tokenizer.pad_token_id)"
   ]
  },
  {
   "cell_type": "code",
   "execution_count": 19,
   "id": "8eed523c-1ec7-4d84-aa3a-fc8d2544c6ec",
   "metadata": {
    "colab": {
     "base_uri": "https://localhost:8080/"
    },
    "id": "8eed523c-1ec7-4d84-aa3a-fc8d2544c6ec",
    "outputId": "893a6ea0-b973-4932-f905-b4dc4872c506"
   },
   "outputs": [
    {
     "data": {
      "text/plain": [
       "(torch.Size([40000, 512]), 40000, 1250, torch.Size([40000, 312]))"
      ]
     },
     "execution_count": 19,
     "metadata": {},
     "output_type": "execute_result"
    }
   ],
   "source": [
    "input_ids.shape, len(dataset), len(loader), cls_embs.shape"
   ]
  },
  {
   "cell_type": "markdown",
   "id": "ac888de9-ec3a-494d-b106-88bc822793da",
   "metadata": {},
   "source": [
    "* *получаем 40к эмбеддингов документов, по 312 фич каждый*"
   ]
  },
  {
   "cell_type": "code",
   "execution_count": 28,
   "id": "98610d75-7947-4cbd-991c-6865e231dc38",
   "metadata": {
    "colab": {
     "base_uri": "https://localhost:8080/",
     "height": 537
    },
    "id": "98610d75-7947-4cbd-991c-6865e231dc38",
    "outputId": "dd1f88f9-c39b-400c-9a88-2cbeb087d243"
   },
   "outputs": [
    {
     "data": {
      "image/png": "[encoded data removed]",
      "text/plain": [
       "<Figure size 1008x648 with 1 Axes>"
      ]
     },
     "metadata": {
      "needs_background": "light"
     },
     "output_type": "display_data"
    }
   ],
   "source": [
    "scatter_plot(umap_reduce_dim(cls_embs, 2), df['topic'].to_numpy(), labels)"
   ]
  },
  {
   "cell_type": "markdown",
   "id": "2a121cf7-3ca4-4aed-9768-a7e65527c306",
   "metadata": {},
   "source": [
    "* *визуализируем эмбеддинги документов*\n",
    "* *кластеры классов документов видны еще лучше :)*"
   ]
  }
 ],
 "metadata": {
  "accelerator": "GPU",
  "colab": {
   "provenance": []
  },
  "gpuClass": "standard",
  "kernelspec": {
   "display_name": "dev",
   "language": "python",
   "name": "dev"
  },
  "language_info": {
   "codemirror_mode": {
    "name": "ipython",
    "version": 3
   },
   "file_extension": ".py",
   "mimetype": "text/x-python",
   "name": "python",
   "nbconvert_exporter": "python",
   "pygments_lexer": "ipython3",
   "version": "3.10.7"
  },
  "widgets": {
   "application/vnd.jupyter.widget-state+json": {
    "1a8f6c14498d44efb92bb96cc651474e": {
     "model_module": "@jupyter-widgets/base",
     "model_module_version": "1.2.0",
     "model_name": "LayoutModel",
     "state": {
      "_model_module": "@jupyter-widgets/base",
      "_model_module_version": "1.2.0",
      "_model_name": "LayoutModel",
      "_view_count": null,
      "_view_module": "@jupyter-widgets/base",
      "_view_module_version": "1.2.0",
      "_view_name": "LayoutView",
      "align_content": null,
      "align_items": null,
      "align_self": null,
      "border": null,
      "bottom": null,
      "display": null,
      "flex": null,
      "flex_flow": null,
      "grid_area": null,
      "grid_auto_columns": null,
      "grid_auto_flow": null,
      "grid_auto_rows": null,
      "grid_column": null,
      "grid_gap": null,
      "grid_row": null,
      "grid_template_areas": null,
      "grid_template_columns": null,
      "grid_template_rows": null,
      "height": null,
      "justify_content": null,
      "justify_items": null,
      "left": null,
      "margin": null,
      "max_height": null,
      "max_width": null,
      "min_height": null,
      "min_width": null,
      "object_fit": null,
      "object_position": null,
      "order": null,
      "overflow": null,
      "overflow_x": null,
      "overflow_y": null,
      "padding": null,
      "right": null,
      "top": null,
      "visibility": null,
      "width": null
     }
    },
    "2705524fb2104c4d83d84dc1e4e5205f": {
     "model_module": "@jupyter-widgets/base",
     "model_module_version": "1.2.0",
     "model_name": "LayoutModel",
     "state": {
      "_model_module": "@jupyter-widgets/base",
      "_model_module_version": "1.2.0",
      "_model_name": "LayoutModel",
      "_view_count": null,
      "_view_module": "@jupyter-widgets/base",
      "_view_module_version": "1.2.0",
      "_view_name": "LayoutView",
      "align_content": null,
      "align_items": null,
      "align_self": null,
      "border": null,
      "bottom": null,
      "display": null,
      "flex": null,
      "flex_flow": null,
      "grid_area": null,
      "grid_auto_columns": null,
      "grid_auto_flow": null,
      "grid_auto_rows": null,
      "grid_column": null,
      "grid_gap": null,
      "grid_row": null,
      "grid_template_areas": null,
      "grid_template_columns": null,
      "grid_template_rows": null,
      "height": null,
      "justify_content": null,
      "justify_items": null,
      "left": null,
      "margin": null,
      "max_height": null,
      "max_width": null,
      "min_height": null,
      "min_width": null,
      "object_fit": null,
      "object_position": null,
      "order": null,
      "overflow": null,
      "overflow_x": null,
      "overflow_y": null,
      "padding": null,
      "right": null,
      "top": null,
      "visibility": null,
      "width": null
     }
    },
    "3a48f8ed82a649aa926eb870687953e3": {
     "model_module": "@jupyter-widgets/controls",
     "model_module_version": "1.5.0",
     "model_name": "DescriptionStyleModel",
     "state": {
      "_model_module": "@jupyter-widgets/controls",
      "_model_module_version": "1.5.0",
      "_model_name": "DescriptionStyleModel",
      "_view_count": null,
      "_view_module": "@jupyter-widgets/base",
      "_view_module_version": "1.2.0",
      "_view_name": "StyleView",
      "description_width": ""
     }
    },
    "47058e647fb04d23925cbec2177f3e3e": {
     "model_module": "@jupyter-widgets/controls",
     "model_module_version": "1.5.0",
     "model_name": "HBoxModel",
     "state": {
      "_dom_classes": [],
      "_model_module": "@jupyter-widgets/controls",
      "_model_module_version": "1.5.0",
      "_model_name": "HBoxModel",
      "_view_count": null,
      "_view_module": "@jupyter-widgets/controls",
      "_view_module_version": "1.5.0",
      "_view_name": "HBoxView",
      "box_style": "",
      "children": [
       "IPY_MODEL_e1c8e07bf7ed4ab583611235760f737a",
       "IPY_MODEL_638906b892bc47ab9bb8ef25104bf3ae",
       "IPY_MODEL_c81cc25192c04a5f8d7a40a50b53517b"
      ],
      "layout": "IPY_MODEL_fee0696b444b43e994894d648fc10649"
     }
    },
    "520a6fcceada4056a88866953afa7b55": {
     "model_module": "@jupyter-widgets/controls",
     "model_module_version": "1.5.0",
     "model_name": "DescriptionStyleModel",
     "state": {
      "_model_module": "@jupyter-widgets/controls",
      "_model_module_version": "1.5.0",
      "_model_name": "DescriptionStyleModel",
      "_view_count": null,
      "_view_module": "@jupyter-widgets/base",
      "_view_module_version": "1.2.0",
      "_view_name": "StyleView",
      "description_width": ""
     }
    },
    "5757b017f6e449b29bbbd3e91c8957a7": {
     "model_module": "@jupyter-widgets/controls",
     "model_module_version": "1.5.0",
     "model_name": "ProgressStyleModel",
     "state": {
      "_model_module": "@jupyter-widgets/controls",
      "_model_module_version": "1.5.0",
      "_model_name": "ProgressStyleModel",
      "_view_count": null,
      "_view_module": "@jupyter-widgets/base",
      "_view_module_version": "1.2.0",
      "_view_name": "StyleView",
      "bar_color": null,
      "description_width": ""
     }
    },
    "612499fb112a4afc8dc11e70e0e8c245": {
     "model_module": "@jupyter-widgets/controls",
     "model_module_version": "1.5.0",
     "model_name": "HTMLModel",
     "state": {
      "_dom_classes": [],
      "_model_module": "@jupyter-widgets/controls",
      "_model_module_version": "1.5.0",
      "_model_name": "HTMLModel",
      "_view_count": null,
      "_view_module": "@jupyter-widgets/controls",
      "_view_module_version": "1.5.0",
      "_view_name": "HTMLView",
      "description": "",
      "description_tooltip": null,
      "layout": "IPY_MODEL_1a8f6c14498d44efb92bb96cc651474e",
      "placeholder": "​",
      "style": "IPY_MODEL_8fa39b9388004069b553df401b64f1ad",
      "value": " 1250/1250 [01:34&lt;00:00, 13.13it/s]"
     }
    },
    "638906b892bc47ab9bb8ef25104bf3ae": {
     "model_module": "@jupyter-widgets/controls",
     "model_module_version": "1.5.0",
     "model_name": "FloatProgressModel",
     "state": {
      "_dom_classes": [],
      "_model_module": "@jupyter-widgets/controls",
      "_model_module_version": "1.5.0",
      "_model_name": "FloatProgressModel",
      "_view_count": null,
      "_view_module": "@jupyter-widgets/controls",
      "_view_module_version": "1.5.0",
      "_view_name": "ProgressView",
      "bar_style": "success",
      "description": "",
      "description_tooltip": null,
      "layout": "IPY_MODEL_e5ecafbbd5464e28b0889cf25d561744",
      "max": 40000,
      "min": 0,
      "orientation": "horizontal",
      "style": "IPY_MODEL_fe720d59dca8452d89f0880d989b8745",
      "value": 40000
     }
    },
    "772b46ce499443a6a16235212be63cce": {
     "model_module": "@jupyter-widgets/base",
     "model_module_version": "1.2.0",
     "model_name": "LayoutModel",
     "state": {
      "_model_module": "@jupyter-widgets/base",
      "_model_module_version": "1.2.0",
      "_model_name": "LayoutModel",
      "_view_count": null,
      "_view_module": "@jupyter-widgets/base",
      "_view_module_version": "1.2.0",
      "_view_name": "LayoutView",
      "align_content": null,
      "align_items": null,
      "align_self": null,
      "border": null,
      "bottom": null,
      "display": null,
      "flex": null,
      "flex_flow": null,
      "grid_area": null,
      "grid_auto_columns": null,
      "grid_auto_flow": null,
      "grid_auto_rows": null,
      "grid_column": null,
      "grid_gap": null,
      "grid_row": null,
      "grid_template_areas": null,
      "grid_template_columns": null,
      "grid_template_rows": null,
      "height": null,
      "justify_content": null,
      "justify_items": null,
      "left": null,
      "margin": null,
      "max_height": null,
      "max_width": null,
      "min_height": null,
      "min_width": null,
      "object_fit": null,
      "object_position": null,
      "order": null,
      "overflow": null,
      "overflow_x": null,
      "overflow_y": null,
      "padding": null,
      "right": null,
      "top": null,
      "visibility": null,
      "width": null
     }
    },
    "802c9d2ba0fe4692b5111d2998da929b": {
     "model_module": "@jupyter-widgets/controls",
     "model_module_version": "1.5.0",
     "model_name": "HBoxModel",
     "state": {
      "_dom_classes": [],
      "_model_module": "@jupyter-widgets/controls",
      "_model_module_version": "1.5.0",
      "_model_name": "HBoxModel",
      "_view_count": null,
      "_view_module": "@jupyter-widgets/controls",
      "_view_module_version": "1.5.0",
      "_view_name": "HBoxView",
      "box_style": "",
      "children": [
       "IPY_MODEL_9722b51c09c24e72999ba2bb53f71bd2",
       "IPY_MODEL_b55177da6d8d4dbb8fc0afaea7f5dce5",
       "IPY_MODEL_612499fb112a4afc8dc11e70e0e8c245"
      ],
      "layout": "IPY_MODEL_a0b014f1257247f7b4efed33bf32f576"
     }
    },
    "8fa39b9388004069b553df401b64f1ad": {
     "model_module": "@jupyter-widgets/controls",
     "model_module_version": "1.5.0",
     "model_name": "DescriptionStyleModel",
     "state": {
      "_model_module": "@jupyter-widgets/controls",
      "_model_module_version": "1.5.0",
      "_model_name": "DescriptionStyleModel",
      "_view_count": null,
      "_view_module": "@jupyter-widgets/base",
      "_view_module_version": "1.2.0",
      "_view_name": "StyleView",
      "description_width": ""
     }
    },
    "9722b51c09c24e72999ba2bb53f71bd2": {
     "model_module": "@jupyter-widgets/controls",
     "model_module_version": "1.5.0",
     "model_name": "HTMLModel",
     "state": {
      "_dom_classes": [],
      "_model_module": "@jupyter-widgets/controls",
      "_model_module_version": "1.5.0",
      "_model_name": "HTMLModel",
      "_view_count": null,
      "_view_module": "@jupyter-widgets/controls",
      "_view_module_version": "1.5.0",
      "_view_name": "HTMLView",
      "description": "",
      "description_tooltip": null,
      "layout": "IPY_MODEL_2705524fb2104c4d83d84dc1e4e5205f",
      "placeholder": "​",
      "style": "IPY_MODEL_cc096840f1e141c9a1872f45c84afc5d",
      "value": "100%"
     }
    },
    "a081c7d005ed4eca88bb0cd519f36505": {
     "model_module": "@jupyter-widgets/base",
     "model_module_version": "1.2.0",
     "model_name": "LayoutModel",
     "state": {
      "_model_module": "@jupyter-widgets/base",
      "_model_module_version": "1.2.0",
      "_model_name": "LayoutModel",
      "_view_count": null,
      "_view_module": "@jupyter-widgets/base",
      "_view_module_version": "1.2.0",
      "_view_name": "LayoutView",
      "align_content": null,
      "align_items": null,
      "align_self": null,
      "border": null,
      "bottom": null,
      "display": null,
      "flex": null,
      "flex_flow": null,
      "grid_area": null,
      "grid_auto_columns": null,
      "grid_auto_flow": null,
      "grid_auto_rows": null,
      "grid_column": null,
      "grid_gap": null,
      "grid_row": null,
      "grid_template_areas": null,
      "grid_template_columns": null,
      "grid_template_rows": null,
      "height": null,
      "justify_content": null,
      "justify_items": null,
      "left": null,
      "margin": null,
      "max_height": null,
      "max_width": null,
      "min_height": null,
      "min_width": null,
      "object_fit": null,
      "object_position": null,
      "order": null,
      "overflow": null,
      "overflow_x": null,
      "overflow_y": null,
      "padding": null,
      "right": null,
      "top": null,
      "visibility": null,
      "width": null
     }
    },
    "a0b014f1257247f7b4efed33bf32f576": {
     "model_module": "@jupyter-widgets/base",
     "model_module_version": "1.2.0",
     "model_name": "LayoutModel",
     "state": {
      "_model_module": "@jupyter-widgets/base",
      "_model_module_version": "1.2.0",
      "_model_name": "LayoutModel",
      "_view_count": null,
      "_view_module": "@jupyter-widgets/base",
      "_view_module_version": "1.2.0",
      "_view_name": "LayoutView",
      "align_content": null,
      "align_items": null,
      "align_self": null,
      "border": null,
      "bottom": null,
      "display": null,
      "flex": null,
      "flex_flow": null,
      "grid_area": null,
      "grid_auto_columns": null,
      "grid_auto_flow": null,
      "grid_auto_rows": null,
      "grid_column": null,
      "grid_gap": null,
      "grid_row": null,
      "grid_template_areas": null,
      "grid_template_columns": null,
      "grid_template_rows": null,
      "height": null,
      "justify_content": null,
      "justify_items": null,
      "left": null,
      "margin": null,
      "max_height": null,
      "max_width": null,
      "min_height": null,
      "min_width": null,
      "object_fit": null,
      "object_position": null,
      "order": null,
      "overflow": null,
      "overflow_x": null,
      "overflow_y": null,
      "padding": null,
      "right": null,
      "top": null,
      "visibility": null,
      "width": null
     }
    },
    "ab75fd09f5b443ba957aa1159a88ed07": {
     "model_module": "@jupyter-widgets/base",
     "model_module_version": "1.2.0",
     "model_name": "LayoutModel",
     "state": {
      "_model_module": "@jupyter-widgets/base",
      "_model_module_version": "1.2.0",
      "_model_name": "LayoutModel",
      "_view_count": null,
      "_view_module": "@jupyter-widgets/base",
      "_view_module_version": "1.2.0",
      "_view_name": "LayoutView",
      "align_content": null,
      "align_items": null,
      "align_self": null,
      "border": null,
      "bottom": null,
      "display": null,
      "flex": null,
      "flex_flow": null,
      "grid_area": null,
      "grid_auto_columns": null,
      "grid_auto_flow": null,
      "grid_auto_rows": null,
      "grid_column": null,
      "grid_gap": null,
      "grid_row": null,
      "grid_template_areas": null,
      "grid_template_columns": null,
      "grid_template_rows": null,
      "height": null,
      "justify_content": null,
      "justify_items": null,
      "left": null,
      "margin": null,
      "max_height": null,
      "max_width": null,
      "min_height": null,
      "min_width": null,
      "object_fit": null,
      "object_position": null,
      "order": null,
      "overflow": null,
      "overflow_x": null,
      "overflow_y": null,
      "padding": null,
      "right": null,
      "top": null,
      "visibility": null,
      "width": null
     }
    },
    "b55177da6d8d4dbb8fc0afaea7f5dce5": {
     "model_module": "@jupyter-widgets/controls",
     "model_module_version": "1.5.0",
     "model_name": "FloatProgressModel",
     "state": {
      "_dom_classes": [],
      "_model_module": "@jupyter-widgets/controls",
      "_model_module_version": "1.5.0",
      "_model_name": "FloatProgressModel",
      "_view_count": null,
      "_view_module": "@jupyter-widgets/controls",
      "_view_module_version": "1.5.0",
      "_view_name": "ProgressView",
      "bar_style": "success",
      "description": "",
      "description_tooltip": null,
      "layout": "IPY_MODEL_ab75fd09f5b443ba957aa1159a88ed07",
      "max": 1250,
      "min": 0,
      "orientation": "horizontal",
      "style": "IPY_MODEL_5757b017f6e449b29bbbd3e91c8957a7",
      "value": 1250
     }
    },
    "c81cc25192c04a5f8d7a40a50b53517b": {
     "model_module": "@jupyter-widgets/controls",
     "model_module_version": "1.5.0",
     "model_name": "HTMLModel",
     "state": {
      "_dom_classes": [],
      "_model_module": "@jupyter-widgets/controls",
      "_model_module_version": "1.5.0",
      "_model_name": "HTMLModel",
      "_view_count": null,
      "_view_module": "@jupyter-widgets/controls",
      "_view_module_version": "1.5.0",
      "_view_name": "HTMLView",
      "description": "",
      "description_tooltip": null,
      "layout": "IPY_MODEL_a081c7d005ed4eca88bb0cd519f36505",
      "placeholder": "​",
      "style": "IPY_MODEL_3a48f8ed82a649aa926eb870687953e3",
      "value": " 40000/40000 [00:45&lt;00:00, 635.12it/s]"
     }
    },
    "cc096840f1e141c9a1872f45c84afc5d": {
     "model_module": "@jupyter-widgets/controls",
     "model_module_version": "1.5.0",
     "model_name": "DescriptionStyleModel",
     "state": {
      "_model_module": "@jupyter-widgets/controls",
      "_model_module_version": "1.5.0",
      "_model_name": "DescriptionStyleModel",
      "_view_count": null,
      "_view_module": "@jupyter-widgets/base",
      "_view_module_version": "1.2.0",
      "_view_name": "StyleView",
      "description_width": ""
     }
    },
    "e1c8e07bf7ed4ab583611235760f737a": {
     "model_module": "@jupyter-widgets/controls",
     "model_module_version": "1.5.0",
     "model_name": "HTMLModel",
     "state": {
      "_dom_classes": [],
      "_model_module": "@jupyter-widgets/controls",
      "_model_module_version": "1.5.0",
      "_model_name": "HTMLModel",
      "_view_count": null,
      "_view_module": "@jupyter-widgets/controls",
      "_view_module_version": "1.5.0",
      "_view_name": "HTMLView",
      "description": "",
      "description_tooltip": null,
      "layout": "IPY_MODEL_772b46ce499443a6a16235212be63cce",
      "placeholder": "​",
      "style": "IPY_MODEL_520a6fcceada4056a88866953afa7b55",
      "value": "100%"
     }
    },
    "e5ecafbbd5464e28b0889cf25d561744": {
     "model_module": "@jupyter-widgets/base",
     "model_module_version": "1.2.0",
     "model_name": "LayoutModel",
     "state": {
      "_model_module": "@jupyter-widgets/base",
      "_model_module_version": "1.2.0",
      "_model_name": "LayoutModel",
      "_view_count": null,
      "_view_module": "@jupyter-widgets/base",
      "_view_module_version": "1.2.0",
      "_view_name": "LayoutView",
      "align_content": null,
      "align_items": null,
      "align_self": null,
      "border": null,
      "bottom": null,
      "display": null,
      "flex": null,
      "flex_flow": null,
      "grid_area": null,
      "grid_auto_columns": null,
      "grid_auto_flow": null,
      "grid_auto_rows": null,
      "grid_column": null,
      "grid_gap": null,
      "grid_row": null,
      "grid_template_areas": null,
      "grid_template_columns": null,
      "grid_template_rows": null,
      "height": null,
      "justify_content": null,
      "justify_items": null,
      "left": null,
      "margin": null,
      "max_height": null,
      "max_width": null,
      "min_height": null,
      "min_width": null,
      "object_fit": null,
      "object_position": null,
      "order": null,
      "overflow": null,
      "overflow_x": null,
      "overflow_y": null,
      "padding": null,
      "right": null,
      "top": null,
      "visibility": null,
      "width": null
     }
    },
    "fe720d59dca8452d89f0880d989b8745": {
     "model_module": "@jupyter-widgets/controls",
     "model_module_version": "1.5.0",
     "model_name": "ProgressStyleModel",
     "state": {
      "_model_module": "@jupyter-widgets/controls",
      "_model_module_version": "1.5.0",
      "_model_name": "ProgressStyleModel",
      "_view_count": null,
      "_view_module": "@jupyter-widgets/base",
      "_view_module_version": "1.2.0",
      "_view_name": "StyleView",
      "bar_color": null,
      "description_width": ""
     }
    },
    "fee0696b444b43e994894d648fc10649": {
     "model_module": "@jupyter-widgets/base",
     "model_module_version": "1.2.0",
     "model_name": "LayoutModel",
     "state": {
      "_model_module": "@jupyter-widgets/base",
      "_model_module_version": "1.2.0",
      "_model_name": "LayoutModel",
      "_view_count": null,
      "_view_module": "@jupyter-widgets/base",
      "_view_module_version": "1.2.0",
      "_view_name": "LayoutView",
      "align_content": null,
      "align_items": null,
      "align_self": null,
      "border": null,
      "bottom": null,
      "display": null,
      "flex": null,
      "flex_flow": null,
      "grid_area": null,
      "grid_auto_columns": null,
      "grid_auto_flow": null,
      "grid_auto_rows": null,
      "grid_column": null,
      "grid_gap": null,
      "grid_row": null,
      "grid_template_areas": null,
      "grid_template_columns": null,
      "grid_template_rows": null,
      "height": null,
      "justify_content": null,
      "justify_items": null,
      "left": null,
      "margin": null,
      "max_height": null,
      "max_width": null,
      "min_height": null,
      "min_width": null,
      "object_fit": null,
      "object_position": null,
      "order": null,
      "overflow": null,
      "overflow_x": null,
      "overflow_y": null,
      "padding": null,
      "right": null,
      "top": null,
      "visibility": null,
      "width": null
     }
    }
   }
  }
 },
 "nbformat": 4,
 "nbformat_minor": 5
}

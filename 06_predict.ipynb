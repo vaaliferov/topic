{
 "cells": [
  {
   "cell_type": "markdown",
   "id": "e6996f41-078b-4a7d-8338-04560fc5fedb",
   "metadata": {},
   "source": [
    "#### Пайплайн для классификации новых текстов (модели из тетрадок 2,4,5)"
   ]
  },
  {
   "cell_type": "code",
   "execution_count": 1,
   "id": "ab1d946f-58f1-45fb-b9f0-8d352defe51e",
   "metadata": {},
   "outputs": [],
   "source": [
    "import re\n",
    "import pymystem3\n",
    "import numpy as np\n",
    "import pandas as pd"
   ]
  },
  {
   "cell_type": "code",
   "execution_count": 2,
   "id": "887afca3-3d00-4ccc-80d3-217920e72504",
   "metadata": {},
   "outputs": [],
   "source": [
    "from utils import *"
   ]
  },
  {
   "cell_type": "code",
   "execution_count": 3,
   "id": "8c79e119-56d1-465a-9d52-6e5d19c1d06b",
   "metadata": {},
   "outputs": [],
   "source": [
    "from catboost import CatBoostClassifier"
   ]
  },
  {
   "cell_type": "code",
   "execution_count": 4,
   "id": "25702aca-b002-4f6a-83d6-f213b306d842",
   "metadata": {},
   "outputs": [],
   "source": [
    "def clean(s):\n",
    "    s = re.sub('\\n', ' ', s)\n",
    "    s = re.sub('<\\?xml.+\\?>', ' ', s)\n",
    "    s = re.sub('<\\/?[A-Za-z]*>', ' ', s)\n",
    "    s = re.sub('[0-9]+(\\.|,)?[0-9]*', ' num ', s)\n",
    "    s = re.sub('([a-zа-яёй])([A-ZА-ЯЁЙ])', '\\g<1> \\g<2>', s)\n",
    "    s = re.sub('[^A-Za-zА-ЯЁЙа-яёй0-9\\s\\-]', ' ', s)\n",
    "    return re.sub('\\s{2,}', ' ', s).strip().lower()\n",
    "\n",
    "def tokenize(s):\n",
    "    return re.findall('[.,;:!?()\"]|\\w+-\\w+|\\w+\\'\\w+|\\w+|-|\\'', s)\n",
    "\n",
    "def lemmatize(words, stem):\n",
    "    return [stem.lemmatize(w)[0].strip() for w in words]\n",
    "\n",
    "def remove_stopwords(words, stopwords):\n",
    "    return [w for w in words if w not in set(stopwords)]\n",
    "\n",
    "def preprocess(text, stem, stopwords):\n",
    "    words = lemmatize(tokenize(clean(text)), stem)\n",
    "    return ' '.join(remove_stopwords(words, stopwords))"
   ]
  },
  {
   "cell_type": "markdown",
   "id": "6e686bd9-ae37-4344-9ed1-af4c5c9580ca",
   "metadata": {},
   "source": [
    "* *ничем не отличаются от функций из 1ой тетрадки*\n",
    "* *не стал раскидывать код по модулям (комментарии к коду в тетрадках)*"
   ]
  },
  {
   "cell_type": "code",
   "execution_count": 5,
   "id": "5626b71b-e940-408f-b4b7-3116de313129",
   "metadata": {},
   "outputs": [],
   "source": [
    "def predict_proba(title, text, model, stem, stopwords):\n",
    "    \n",
    "    text = preprocess(text, stem, stopwords)\n",
    "    title = preprocess(title, stem, stopwords)\n",
    "    \n",
    "    df = pd.DataFrame({\n",
    "        'title': [title], 'text': [text], \n",
    "        'title_len': [len(title)], 'text_len': [len(text)] \n",
    "    })\n",
    "    \n",
    "    return np.round(model.predict_proba(df), 3)"
   ]
  },
  {
   "cell_type": "markdown",
   "id": "91afcbc0-cf78-4094-a766-88ddd6c009e8",
   "metadata": {},
   "source": [
    "* *функция получения распределения вероятностей для одного примера (модели из тетрадок 1,5)*"
   ]
  },
  {
   "cell_type": "code",
   "execution_count": 6,
   "id": "9624e244-dcae-4d9c-a704-8ed5ad6053c0",
   "metadata": {},
   "outputs": [],
   "source": [
    "def get_embedding(text, emb_dict):\n",
    "    \n",
    "    embs = [emb_dict[w] for w in text.split() if w in emb_dict]\n",
    "    \n",
    "    if len(embs) == 0: \n",
    "        first_key = next(iter(emb_dict.keys()))\n",
    "        return np.zeros(emb_dict[first_key].shape)\n",
    "    \n",
    "    return np.vstack(embs).mean(axis=0)"
   ]
  },
  {
   "cell_type": "markdown",
   "id": "8f85b96e-20da-425c-a555-ae7af72fd1b7",
   "metadata": {},
   "source": [
    "* *функция получения эмбеддинга документа (более подробное описание в 4ой тетрадке)*"
   ]
  },
  {
   "cell_type": "code",
   "execution_count": 7,
   "id": "9eda21c6-6048-4a95-81e3-b7f00f9fea2e",
   "metadata": {},
   "outputs": [],
   "source": [
    "def embs_predict_proba(title, text, model, emb_dict, stem, stopwords):\n",
    "    \n",
    "    text = preprocess(text, stem, stopwords)\n",
    "    title = preprocess(title, stem, stopwords)\n",
    "    \n",
    "    df = pd.DataFrame({\n",
    "        'title': [title], 'text': [text], \n",
    "        'title_len': [len(title)], 'text_len': [len(text)] \n",
    "    })\n",
    "    \n",
    "    ge = lambda s: get_embedding(s, emb_dict)\n",
    "    text_series = df['title'] + ' ' + df['text']\n",
    "    \n",
    "    text_embs = text_series.apply(ge)\n",
    "    text_embs = np.vstack(text_embs.to_numpy())\n",
    "\n",
    "    text_len = np.expand_dims(df['text_len'].to_numpy(), axis=1)\n",
    "    title_len = np.expand_dims(df['title_len'].to_numpy(), axis=1)\n",
    "\n",
    "    X = np.hstack((text_embs, title_len, text_len))\n",
    "    \n",
    "    return np.round(model.predict_proba(X), 3)"
   ]
  },
  {
   "cell_type": "markdown",
   "id": "a8dee4af-0d46-46df-a723-fae8cc7bdd01",
   "metadata": {},
   "source": [
    "* *функция получения распределения вероятностей для одного примера (модель из тетрадки 4)*"
   ]
  },
  {
   "cell_type": "code",
   "execution_count": 8,
   "id": "36a9555f-e6c2-4914-a8f5-ea186b6513fb",
   "metadata": {},
   "outputs": [],
   "source": [
    "title = 'В декабре SpaceX, вероятно, наконец-то отправит Starship в первый орбитальный полет'\n",
    "text = '''Сегодня SpaceX впервые за три года запускает ракету-носитель сверхтяжелого класса \n",
    "Falcon Heavy с миссией USSF-44, которая доставит на геостационарную орбиту 6 полезных нагрузок \n",
    "для Космических сил США (расчетное время старта — 15:41 по киевскому времени). Но есть запуск, \n",
    "которого мы ждем еще больше и уже достаточно давно. Речь идет о первом орбитальном полете \n",
    "космического корабля нового поколения Starship — в NASA предполагают, что с большой вероятностью \n",
    "запуск состоится уже в декабре этого года. По крайней мере, такова новая актуальная оценка, \n",
    "которой поделился Марк Кирасич, глава консультативного комитета пилотируемых космических полетов \n",
    "NASA и заместитель администратора по развитию амбициозной американской лунной программы \n",
    "«Артемида» / Artemis, во время недавнего заседания.'''"
   ]
  },
  {
   "cell_type": "code",
   "execution_count": 9,
   "id": "72f99e89-9100-4a4a-8b85-09174429c09d",
   "metadata": {},
   "outputs": [],
   "source": [
    "stopwords = set(\n",
    "    load_lines('data/iso_stopwords_ru.txt') +\n",
    "    load_lines('data/nltk_stopwords_en.txt'))\n",
    "\n",
    "stem = pymystem3.Mystem()"
   ]
  },
  {
   "cell_type": "markdown",
   "id": "754ac222-751e-4580-8c34-f8fd4854d3c3",
   "metadata": {},
   "source": [
    "* *загружаем стоп-слова и лемматайзер*"
   ]
  },
  {
   "cell_type": "code",
   "execution_count": 10,
   "id": "ea233b6c-d747-4513-878e-53fee863ef43",
   "metadata": {},
   "outputs": [],
   "source": [
    "logreg = load_pickle('data/logreg.bin')"
   ]
  },
  {
   "cell_type": "code",
   "execution_count": 11,
   "id": "8d7f32dc-813f-47a8-bcc4-d329779566c8",
   "metadata": {},
   "outputs": [],
   "source": [
    "catboost = CatBoostClassifier().load_model('data/catboost.bin')"
   ]
  },
  {
   "cell_type": "code",
   "execution_count": 12,
   "id": "c5ad94ba-30d4-44f5-846e-bfd91040b732",
   "metadata": {},
   "outputs": [],
   "source": [
    "w2v_embs_dict = load_pickle('data/w2v_embs.bin')\n",
    "w2v_embs_logreg = load_pickle('data/w2v_embs_logreg.bin')"
   ]
  },
  {
   "cell_type": "code",
   "execution_count": 13,
   "id": "e601f9a3-2a6d-4cd8-9691-42b43fde1352",
   "metadata": {},
   "outputs": [],
   "source": [
    "tfidf_embs_dict = load_pickle('data/tfidf_embs.bin')\n",
    "tfidf_embs_logreg = load_pickle('data/tfidf_embs_logreg.bin')"
   ]
  },
  {
   "cell_type": "markdown",
   "id": "f48da622-e532-46de-ab70-cedf68144054",
   "metadata": {},
   "source": [
    "* *загружаем модели и эмбеддинги*"
   ]
  },
  {
   "cell_type": "code",
   "execution_count": 14,
   "id": "d5dd6605-5350-4a8b-9f1a-693e57035498",
   "metadata": {},
   "outputs": [
    {
     "name": "stdout",
     "output_type": "stream",
     "text": [
      "CPU times: user 22.6 ms, sys: 420 µs, total: 23 ms\n",
      "Wall time: 775 ms\n"
     ]
    },
    {
     "data": {
      "text/plain": [
       "array([[0.023, 0.002, 0.034, 0.927, 0.007, 0.007]])"
      ]
     },
     "execution_count": 14,
     "metadata": {},
     "output_type": "execute_result"
    }
   ],
   "source": [
    "%time predict_proba(title, text, logreg, stem, stopwords)"
   ]
  },
  {
   "cell_type": "markdown",
   "id": "d19a73ff-c6a0-48d6-9671-d4e5cb32834d",
   "metadata": {},
   "source": [
    "* *LogReg с внутренним TFIDF векторайзером и SVD разложением*\n",
    "* *самая медленная и тяжелая модель (и при этом наименее точная)*"
   ]
  },
  {
   "cell_type": "code",
   "execution_count": 15,
   "id": "8bf52423-ac1d-484e-92f4-c7bfbc314f6b",
   "metadata": {},
   "outputs": [
    {
     "name": "stdout",
     "output_type": "stream",
     "text": [
      "CPU times: user 14.7 ms, sys: 4.44 ms, total: 19.2 ms\n",
      "Wall time: 44.1 ms\n"
     ]
    },
    {
     "data": {
      "text/plain": [
       "array([[0.006, 0.001, 0.079, 0.911, 0.   , 0.003]])"
      ]
     },
     "execution_count": 15,
     "metadata": {},
     "output_type": "execute_result"
    }
   ],
   "source": [
    "%time predict_proba(title, text, catboost, stem, stopwords)"
   ]
  },
  {
   "cell_type": "markdown",
   "id": "8cf38b66-ef15-4c20-8676-a4910c18f88b",
   "metadata": {},
   "source": [
    "* *модель catboost: одна из лучших (и по скорости, и по качеству)*"
   ]
  },
  {
   "cell_type": "code",
   "execution_count": 16,
   "id": "784b8f12-0a95-4848-bae6-91baa91d263c",
   "metadata": {},
   "outputs": [
    {
     "name": "stdout",
     "output_type": "stream",
     "text": [
      "CPU times: user 7.89 ms, sys: 5.27 ms, total: 13.2 ms\n",
      "Wall time: 25 ms\n"
     ]
    },
    {
     "data": {
      "text/plain": [
       "array([[0.005, 0.   , 0.011, 0.983, 0.   , 0.   ]])"
      ]
     },
     "execution_count": 16,
     "metadata": {},
     "output_type": "execute_result"
    }
   ],
   "source": [
    "%time embs_predict_proba(title, text, w2v_embs_logreg, w2v_embs_dict, stem, stopwords)"
   ]
  },
  {
   "cell_type": "markdown",
   "id": "7d387ddd-4f89-4a60-a71e-379230409f6c",
   "metadata": {},
   "source": [
    "* *LogReg на эмбеддингах Word2Vec: одна из самых легких и быстрых моделей*"
   ]
  },
  {
   "cell_type": "code",
   "execution_count": 17,
   "id": "272c7531-0cb4-48aa-903f-e4a0a4ff9c3e",
   "metadata": {},
   "outputs": [
    {
     "name": "stdout",
     "output_type": "stream",
     "text": [
      "CPU times: user 11.4 ms, sys: 0 ns, total: 11.4 ms\n",
      "Wall time: 21.6 ms\n"
     ]
    },
    {
     "data": {
      "text/plain": [
       "array([[0.001, 0.001, 0.041, 0.957, 0.   , 0.   ]])"
      ]
     },
     "execution_count": 17,
     "metadata": {},
     "output_type": "execute_result"
    }
   ],
   "source": [
    "%time embs_predict_proba(title, text, tfidf_embs_logreg, tfidf_embs_dict, stem, stopwords)"
   ]
  },
  {
   "cell_type": "markdown",
   "id": "8ad964e3-ff9a-48f9-a4ea-479568c19d20",
   "metadata": {},
   "source": [
    "* *LogReg на эмбеддингах из TFIDF: одна из самых легких и быстрых моделей*"
   ]
  },
  {
   "cell_type": "code",
   "execution_count": 18,
   "id": "bd74dead-e471-4427-b9e0-01baf9769b5f",
   "metadata": {},
   "outputs": [
    {
     "data": {
      "text/plain": [
       "['Интернет и СМИ', 'Культура', 'Мир', 'Наука и техника', 'Спорт', 'Экономика']"
      ]
     },
     "execution_count": 18,
     "metadata": {},
     "output_type": "execute_result"
    }
   ],
   "source": [
    "list(load_json('data/labels.json').keys())"
   ]
  }
 ],
 "metadata": {
  "kernelspec": {
   "display_name": "dev",
   "language": "python",
   "name": "dev"
  },
  "language_info": {
   "codemirror_mode": {
    "name": "ipython",
    "version": 3
   },
   "file_extension": ".py",
   "mimetype": "text/x-python",
   "name": "python",
   "nbconvert_exporter": "python",
   "pygments_lexer": "ipython3",
   "version": "3.10.7"
  }
 },
 "nbformat": 4,
 "nbformat_minor": 5
}

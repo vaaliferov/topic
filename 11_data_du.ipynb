{
 "cells": [
  {
   "cell_type": "code",
   "execution_count": 1,
   "id": "6129cf9d-e969-4d1b-844c-7525a663b77a",
   "metadata": {},
   "outputs": [
    {
     "name": "stdout",
     "output_type": "stream",
     "text": [
      "20M\tdata/catboost.bin\n",
      "798M\tdata/corpus.txt\n",
      "40M\tdata/cv_embs.bin\n",
      "532K\tdata/cv_feats.txt\n",
      "79M\tdata/cv_mat.npz\n",
      "8,0K\tdata/iso_stopwords_ru.txt\n",
      "4,0K\tdata/labels.json\n",
      "408M\tdata/logreg.bin\n",
      "4,0K\tdata/nltk_stopwords_en.txt\n",
      "339M\tdata/prep.ftr\n",
      "1,1G\tdata/raw.csv\n",
      "112M\tdata/rubert2.pt\n",
      "40M\tdata/tfidf_embs.bin\n",
      "24K\tdata/tfidf_embs_logreg.bin\n",
      "189M\tdata/tfidf_mat.npz\n",
      "59M\tdata/w2v_embs.bin\n",
      "24K\tdata/w2v_embs_logreg.bin\n",
      "760K\tdata/w2v_feats.txt\n",
      "221M\tdata/w2vp_embs.bin\n",
      "4,3M\tdata/w2vp_feats.txt\n"
     ]
    }
   ],
   "source": [
    "!du -h data/*"
   ]
  }
 ],
 "metadata": {
  "kernelspec": {
   "display_name": "dev",
   "language": "python",
   "name": "dev"
  },
  "language_info": {
   "codemirror_mode": {
    "name": "ipython",
    "version": 3
   },
   "file_extension": ".py",
   "mimetype": "text/x-python",
   "name": "python",
   "nbconvert_exporter": "python",
   "pygments_lexer": "ipython3",
   "version": "3.10.7"
  }
 },
 "nbformat": 4,
 "nbformat_minor": 5
}

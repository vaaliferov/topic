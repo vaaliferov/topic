{
 "cells": [
  {
   "cell_type": "markdown",
   "id": "c36614a3-b25e-4296-af18-6ff810ba51cd",
   "metadata": {
    "tags": []
   },
   "source": [
    "### Анализ данных\n",
    "* *данную тетрадку лучше посмотреть локально или через google colab*\n",
    "* *github немного некорректно рендерит ipynb (пропадают xml теги в выводе ячеек)*"
   ]
  },
  {
   "cell_type": "code",
   "execution_count": 1,
   "id": "8031637b-6541-433f-a4cc-5599be6b09fe",
   "metadata": {},
   "outputs": [],
   "source": [
    "import numpy as np\n",
    "import pandas as pd\n",
    "import seaborn as sns\n",
    "from tqdm.auto import tqdm\n",
    "import matplotlib.pyplot as plt"
   ]
  },
  {
   "cell_type": "code",
   "execution_count": 2,
   "id": "793b771a-8a16-4e6b-b429-a99de0f8726e",
   "metadata": {},
   "outputs": [],
   "source": [
    "df = pd.read_csv('data/raw.csv')"
   ]
  },
  {
   "cell_type": "code",
   "execution_count": 3,
   "id": "68f69814-df3e-4412-b480-e02db837ec54",
   "metadata": {},
   "outputs": [
    {
     "name": "stdout",
     "output_type": "stream",
     "text": [
      "<class 'pandas.core.frame.DataFrame'>\n",
      "RangeIndex: 432158 entries, 0 to 432157\n",
      "Data columns (total 3 columns):\n",
      " #   Column  Non-Null Count   Dtype \n",
      "---  ------  --------------   ----- \n",
      " 0   title   432158 non-null  object\n",
      " 1   text    432158 non-null  object\n",
      " 2   topic   432158 non-null  object\n",
      "dtypes: object(3)\n",
      "memory usage: 9.9+ MB\n"
     ]
    }
   ],
   "source": [
    "df.info()"
   ]
  },
  {
   "cell_type": "markdown",
   "id": "33442beb-8a44-453a-90dc-9825e657a8fe",
   "metadata": {},
   "source": [
    "*3 текстовых столбца: title, text и topic; 432158 примеров*"
   ]
  },
  {
   "cell_type": "code",
   "execution_count": 4,
   "id": "60720406-f5b6-4ed2-ae13-aa0949a9d1ea",
   "metadata": {},
   "outputs": [],
   "source": [
    "def null_or_empty(series):\n",
    "    return (series.isnull() | series == '').sum()\n",
    "\n",
    "def type_value_counts(series):\n",
    "    return series.apply(type).value_counts().to_dict()"
   ]
  },
  {
   "cell_type": "code",
   "execution_count": 5,
   "id": "e02ebe28-6371-4919-ba5c-5a5c63c1b04a",
   "metadata": {},
   "outputs": [
    {
     "data": {
      "text/plain": [
       "({str: 432158}, 0)"
      ]
     },
     "execution_count": 5,
     "metadata": {},
     "output_type": "execute_result"
    }
   ],
   "source": [
    "type_value_counts(df['topic']), null_or_empty(df['topic'])"
   ]
  },
  {
   "cell_type": "code",
   "execution_count": 6,
   "id": "7931b4d0-d0c6-40b7-b164-057d5b622504",
   "metadata": {},
   "outputs": [
    {
     "data": {
      "text/plain": [
       "({str: 432158}, 0)"
      ]
     },
     "execution_count": 6,
     "metadata": {},
     "output_type": "execute_result"
    }
   ],
   "source": [
    "type_value_counts(df['title']), null_or_empty(df['title'])"
   ]
  },
  {
   "cell_type": "code",
   "execution_count": 7,
   "id": "e4298789-51e1-4323-9857-0c5671b871f7",
   "metadata": {},
   "outputs": [
    {
     "data": {
      "text/plain": [
       "({str: 432158}, 0)"
      ]
     },
     "execution_count": 7,
     "metadata": {},
     "output_type": "execute_result"
    }
   ],
   "source": [
    "type_value_counts(df['text']), null_or_empty(df['text'])"
   ]
  },
  {
   "cell_type": "markdown",
   "id": "ce86fc56-ff7f-4b5f-90fe-8a11272685fb",
   "metadata": {},
   "source": [
    "*title, text и topic: нет пропусков, нет пустых строк*"
   ]
  },
  {
   "cell_type": "code",
   "execution_count": 8,
   "id": "c5b8dfe9-db3c-47ef-8571-76ba76de493a",
   "metadata": {},
   "outputs": [
    {
     "data": {
      "text/plain": [
       "['Мир', 'Экономика', 'Интернет и СМИ', 'Спорт', 'Культура', 'Наука и техника']"
      ]
     },
     "execution_count": 8,
     "metadata": {},
     "output_type": "execute_result"
    }
   ],
   "source": [
    "df['topic'].unique().tolist()"
   ]
  },
  {
   "cell_type": "code",
   "execution_count": 9,
   "id": "7d8ef79f-836b-4874-8cc7-b9a6a99d1db5",
   "metadata": {},
   "outputs": [
    {
     "data": {
      "text/plain": [
       "{'Мир': 136621,\n",
       " 'Экономика': 79528,\n",
       " 'Спорт': 64413,\n",
       " 'Культура': 53797,\n",
       " 'Наука и техника': 53136,\n",
       " 'Интернет и СМИ': 44663}"
      ]
     },
     "execution_count": 9,
     "metadata": {},
     "output_type": "execute_result"
    }
   ],
   "source": [
    "df['topic'].value_counts(dropna=False).to_dict()"
   ]
  },
  {
   "cell_type": "code",
   "execution_count": 10,
   "id": "1c219a36-350b-4275-9fb8-72befa5bb872",
   "metadata": {},
   "outputs": [
    {
     "data": {
      "image/png": "[encoded data removed]",
      "text/plain": [
       "<Figure size 400x120 with 1 Axes>"
      ]
     },
     "metadata": {},
     "output_type": "display_data"
    }
   ],
   "source": [
    "fig, ax = plt.subplots(figsize=(4,1.2))\n",
    "sns.countplot(data=df, y='topic', orient='h', ax=ax);"
   ]
  },
  {
   "cell_type": "markdown",
   "id": "7d9e0c28-ff91-4fb1-abfa-62b25dcea146",
   "metadata": {},
   "source": [
    "* *topic: 6 классов, есть дисбаланс, но незначительный*\n",
    "* *можно попробовать сделать downsampling для класса 'Мир'*"
   ]
  },
  {
   "cell_type": "code",
   "execution_count": 11,
   "id": "9478f8f9-0765-4270-8084-3babdd3c02f0",
   "metadata": {},
   "outputs": [],
   "source": [
    "df['title_len'] = df['title'].str.len()"
   ]
  },
  {
   "cell_type": "code",
   "execution_count": 12,
   "id": "430bad5b-727f-4018-82f7-0a1724803383",
   "metadata": {},
   "outputs": [
    {
     "data": {
      "text/plain": [
       "topic\n",
       "Интернет и СМИ     56.651076\n",
       "Культура           53.026730\n",
       "Мир                56.127616\n",
       "Наука и техника    51.479882\n",
       "Спорт              55.283716\n",
       "Экономика          55.038024\n",
       "Name: title_len, dtype: float64"
      ]
     },
     "execution_count": 12,
     "metadata": {},
     "output_type": "execute_result"
    }
   ],
   "source": [
    "df.groupby('topic')['title_len'].apply('mean')"
   ]
  },
  {
   "cell_type": "code",
   "execution_count": 13,
   "id": "ba3d3fb2-bd28-47a1-a3c6-2308776d5732",
   "metadata": {},
   "outputs": [
    {
     "data": {
      "image/png": "[encoded data removed]",
      "text/plain": [
       "<Figure size 400x200 with 1 Axes>"
      ]
     },
     "metadata": {},
     "output_type": "display_data"
    }
   ],
   "source": [
    "sns.displot(data=df, x='title_len', kde=True, height=2, aspect=2);"
   ]
  },
  {
   "cell_type": "code",
   "execution_count": 14,
   "id": "e1136433-25af-41ec-ae27-48e00965b10b",
   "metadata": {},
   "outputs": [
    {
     "data": {
      "image/png": "[encoded data removed]",
      "text/plain": [
       "<Figure size 672.375x250 with 1 Axes>"
      ]
     },
     "metadata": {},
     "output_type": "display_data"
    }
   ],
   "source": [
    "sns.displot(data=df, x='title_len', hue='topic', kde=True, height=2.5, aspect=2);"
   ]
  },
  {
   "cell_type": "markdown",
   "id": "12265465-6835-4316-a897-eecc931d2a53",
   "metadata": {},
   "source": [
    "* *распределение длины title: близкое к нормальному*\n",
    "* *распределение длины title по классам: нет значительных визуальных отличий*\n",
    "* *в любом случае имеет смысл попробовать использовать title_len как дополнительный признак при обучении*"
   ]
  },
  {
   "cell_type": "code",
   "execution_count": 15,
   "id": "a8c2cfbb-d7e7-42e9-8089-72435700581e",
   "metadata": {},
   "outputs": [
    {
     "data": {
      "text/html": [
       "<div>\n",
       "<style scoped>\n",
       "    .dataframe tbody tr th:only-of-type {\n",
       "        vertical-align: middle;\n",
       "    }\n",
       "\n",
       "    .dataframe tbody tr th {\n",
       "        vertical-align: top;\n",
       "    }\n",
       "\n",
       "    .dataframe thead th {\n",
       "        text-align: right;\n",
       "    }\n",
       "</style>\n",
       "<table border=\"1\" class=\"dataframe\">\n",
       "  <thead>\n",
       "    <tr style=\"text-align: right;\">\n",
       "      <th></th>\n",
       "      <th>title</th>\n",
       "      <th>text</th>\n",
       "      <th>topic</th>\n",
       "      <th>title_len</th>\n",
       "    </tr>\n",
       "  </thead>\n",
       "  <tbody>\n",
       "    <tr>\n",
       "      <th>304155</th>\n",
       "      <td>Голубой краб</td>\n",
       "      <td>&lt;?xml version=\"1.0\" encoding=\"utf-8\"?&gt;\\n&lt;conve...</td>\n",
       "      <td>Наука и техника</td>\n",
       "      <td>12</td>\n",
       "    </tr>\n",
       "    <tr>\n",
       "      <th>429540</th>\n",
       "      <td>Рубль поплыл</td>\n",
       "      <td>&lt;?xml version=\"1.0\" encoding=\"utf-8\"?&gt;\\n&lt;conve...</td>\n",
       "      <td>Экономика</td>\n",
       "      <td>12</td>\n",
       "    </tr>\n",
       "  </tbody>\n",
       "</table>\n",
       "</div>"
      ],
      "text/plain": [
       "               title                                               text  \\\n",
       "304155  Голубой краб  <?xml version=\"1.0\" encoding=\"utf-8\"?>\\n<conve...   \n",
       "429540  Рубль поплыл  <?xml version=\"1.0\" encoding=\"utf-8\"?>\\n<conve...   \n",
       "\n",
       "                  topic  title_len  \n",
       "304155  Наука и техника         12  \n",
       "429540        Экономика         12  "
      ]
     },
     "execution_count": 15,
     "metadata": {},
     "output_type": "execute_result"
    }
   ],
   "source": [
    "df.sort_values(by='title_len', ascending=True)[:2]"
   ]
  },
  {
   "cell_type": "code",
   "execution_count": 16,
   "id": "2c9d7369-3bf5-49de-80db-6b74934b4b77",
   "metadata": {},
   "outputs": [
    {
     "data": {
      "text/html": [
       "<div>\n",
       "<style scoped>\n",
       "    .dataframe tbody tr th:only-of-type {\n",
       "        vertical-align: middle;\n",
       "    }\n",
       "\n",
       "    .dataframe tbody tr th {\n",
       "        vertical-align: top;\n",
       "    }\n",
       "\n",
       "    .dataframe thead th {\n",
       "        text-align: right;\n",
       "    }\n",
       "</style>\n",
       "<table border=\"1\" class=\"dataframe\">\n",
       "  <thead>\n",
       "    <tr style=\"text-align: right;\">\n",
       "      <th></th>\n",
       "      <th>title</th>\n",
       "      <th>text</th>\n",
       "      <th>topic</th>\n",
       "      <th>title_len</th>\n",
       "    </tr>\n",
       "  </thead>\n",
       "  <tbody>\n",
       "    <tr>\n",
       "      <th>47910</th>\n",
       "      <td>Украинские болельщики пытались спровоцировать ...</td>\n",
       "      <td>&lt;?xml version=\"1.0\" encoding=\"utf-8\"?&gt;\\n&lt;conve...</td>\n",
       "      <td>Спорт</td>\n",
       "      <td>132</td>\n",
       "    </tr>\n",
       "    <tr>\n",
       "      <th>47100</th>\n",
       "      <td>В последнем матче чемпионата \"Спартак\" проигра...</td>\n",
       "      <td>&lt;?xml version=\"1.0\" encoding=\"utf-8\"?&gt;\\n&lt;conve...</td>\n",
       "      <td>Спорт</td>\n",
       "      <td>121</td>\n",
       "    </tr>\n",
       "  </tbody>\n",
       "</table>\n",
       "</div>"
      ],
      "text/plain": [
       "                                                   title  \\\n",
       "47910  Украинские болельщики пытались спровоцировать ...   \n",
       "47100  В последнем матче чемпионата \"Спартак\" проигра...   \n",
       "\n",
       "                                                    text  topic  title_len  \n",
       "47910  <?xml version=\"1.0\" encoding=\"utf-8\"?>\\n<conve...  Спорт        132  \n",
       "47100  <?xml version=\"1.0\" encoding=\"utf-8\"?>\\n<conve...  Спорт        121  "
      ]
     },
     "execution_count": 16,
     "metadata": {},
     "output_type": "execute_result"
    }
   ],
   "source": [
    "df.sort_values(by='title_len', ascending=False)[:2]"
   ]
  },
  {
   "cell_type": "markdown",
   "id": "e613f7ce-55a0-4e5e-ac7f-0c0d48c8d9b1",
   "metadata": {},
   "source": [
    "* *минимальная длина заголовка: 12 символов*\n",
    "* *максимальная длина заголовка: 132 символа*"
   ]
  },
  {
   "cell_type": "code",
   "execution_count": 17,
   "id": "3328c7ae-6327-473b-ae37-57d88c916d84",
   "metadata": {},
   "outputs": [],
   "source": [
    "df['text_len'] = df['text'].str.len()"
   ]
  },
  {
   "cell_type": "code",
   "execution_count": 18,
   "id": "48f75c52-d427-40aa-aca9-a0e0c9cd8bb8",
   "metadata": {},
   "outputs": [
    {
     "data": {
      "text/plain": [
       "topic\n",
       "Интернет и СМИ     1457.984036\n",
       "Культура           1309.878079\n",
       "Мир                1379.935998\n",
       "Наука и техника    1538.206320\n",
       "Спорт              1192.956453\n",
       "Экономика          1517.278556\n",
       "Name: text_len, dtype: float64"
      ]
     },
     "execution_count": 18,
     "metadata": {},
     "output_type": "execute_result"
    }
   ],
   "source": [
    "df.groupby('topic')['text_len'].apply('mean')"
   ]
  },
  {
   "cell_type": "code",
   "execution_count": 19,
   "id": "bd25b746-379c-4c36-b933-9ef9c4657dff",
   "metadata": {},
   "outputs": [
    {
     "data": {
      "image/png": "[encoded data removed]",
      "text/plain": [
       "<Figure size 500x250 with 1 Axes>"
      ]
     },
     "metadata": {},
     "output_type": "display_data"
    }
   ],
   "source": [
    "sns.displot(data=df, x='text_len', kde=True, height=2.5, aspect=2);"
   ]
  },
  {
   "cell_type": "markdown",
   "id": "650d1a97-0cfa-4534-a450-c898e99489c1",
   "metadata": {},
   "source": [
    "* *распределение длины text: визуально похоже на логнормальное*\n",
    "* *достаточно тяжелый \"хвост\" справа: нужно посмотреть примеры текста (выбросы / \"мусор?\")*"
   ]
  },
  {
   "cell_type": "code",
   "execution_count": 20,
   "id": "be1e609e-0f7f-4aaa-936e-231784cfb399",
   "metadata": {},
   "outputs": [
    {
     "data": {
      "image/png": "[encoded data removed]",
      "text/plain": [
       "<Figure size 500x250 with 1 Axes>"
      ]
     },
     "metadata": {},
     "output_type": "display_data"
    }
   ],
   "source": [
    "sns.displot(data=df, x='text_len', kde=True, log_scale=True, height=2.5, aspect=2);"
   ]
  },
  {
   "cell_type": "markdown",
   "id": "8066335e-7aa5-4e04-919b-38d1ea274eed",
   "metadata": {},
   "source": [
    "* *логарифмирование text_len выравнивает распределние*\n",
    "* *но результат не идеальный: теперь слева более тяжелый \"хвост\"*\n",
    "* *можно попробовать сделать такое преобразование для text_len как признака*"
   ]
  },
  {
   "cell_type": "code",
   "execution_count": 21,
   "id": "9d11b70f-1411-43b5-b211-20b8d718af40",
   "metadata": {},
   "outputs": [
    {
     "data": {
      "image/png": "[encoded data removed]",
      "text/plain": [
       "<Figure size 672.375x250 with 1 Axes>"
      ]
     },
     "metadata": {},
     "output_type": "display_data"
    }
   ],
   "source": [
    "sns.displot(data=df[df['text_len'] < 3300], x='text_len', hue='topic', kde=True, height=2.5, aspect=2);"
   ]
  },
  {
   "cell_type": "code",
   "execution_count": 22,
   "id": "960eb7f4-3937-42d6-9a5d-c18e6405cc5e",
   "metadata": {},
   "outputs": [
    {
     "data": {
      "image/png": "[encoded data removed]",
      "text/plain": [
       "<Figure size 750x250 with 1 Axes>"
      ]
     },
     "metadata": {},
     "output_type": "display_data"
    }
   ],
   "source": [
    "sns.catplot(data=df, x='text_len', y='topic', height=2.5, aspect=3, kind='boxen');"
   ]
  },
  {
   "cell_type": "markdown",
   "id": "4a710f2d-1862-4f76-bbb5-3e188808de81",
   "metadata": {},
   "source": [
    "* *распределение длины text по классам: заметные отличия*\n",
    "* *имеет смысл попробовать использовать text_len как дополнительный признак при обучении*"
   ]
  },
  {
   "cell_type": "code",
   "execution_count": 23,
   "id": "ee95e1ca-dc0d-49ad-a826-f7840da9ede4",
   "metadata": {},
   "outputs": [
    {
     "data": {
      "text/html": [
       "<div>\n",
       "<style scoped>\n",
       "    .dataframe tbody tr th:only-of-type {\n",
       "        vertical-align: middle;\n",
       "    }\n",
       "\n",
       "    .dataframe tbody tr th {\n",
       "        vertical-align: top;\n",
       "    }\n",
       "\n",
       "    .dataframe thead th {\n",
       "        text-align: right;\n",
       "    }\n",
       "</style>\n",
       "<table border=\"1\" class=\"dataframe\">\n",
       "  <thead>\n",
       "    <tr style=\"text-align: right;\">\n",
       "      <th></th>\n",
       "      <th>title</th>\n",
       "      <th>text</th>\n",
       "      <th>topic</th>\n",
       "      <th>title_len</th>\n",
       "      <th>text_len</th>\n",
       "    </tr>\n",
       "  </thead>\n",
       "  <tbody>\n",
       "    <tr>\n",
       "      <th>353942</th>\n",
       "      <td>Гребенщиков заработал 10 тысяч рублей в омском...</td>\n",
       "      <td>&lt;?xml version=\"1.0\" encoding=\"utf-8\"?&gt;\\n&lt;conve...</td>\n",
       "      <td>Культура</td>\n",
       "      <td>65</td>\n",
       "      <td>81</td>\n",
       "    </tr>\n",
       "    <tr>\n",
       "      <th>91190</th>\n",
       "      <td>В Стамбуле горит багажное отделение аэропорта ...</td>\n",
       "      <td>&lt;?xml version=\"1.0\" encoding=\"utf-8\"?&gt;\\n&lt;conve...</td>\n",
       "      <td>Мир</td>\n",
       "      <td>55</td>\n",
       "      <td>81</td>\n",
       "    </tr>\n",
       "    <tr>\n",
       "      <th>62644</th>\n",
       "      <td>Американцы задержали афганского сотрудника ООН</td>\n",
       "      <td>&lt;?xml version=\"1.0\" encoding=\"utf-8\"?&gt;\\n&lt;conve...</td>\n",
       "      <td>Мир</td>\n",
       "      <td>46</td>\n",
       "      <td>84</td>\n",
       "    </tr>\n",
       "  </tbody>\n",
       "</table>\n",
       "</div>"
      ],
      "text/plain": [
       "                                                    title  \\\n",
       "353942  Гребенщиков заработал 10 тысяч рублей в омском...   \n",
       "91190   В Стамбуле горит багажное отделение аэропорта ...   \n",
       "62644      Американцы задержали афганского сотрудника ООН   \n",
       "\n",
       "                                                     text     topic  \\\n",
       "353942  <?xml version=\"1.0\" encoding=\"utf-8\"?>\\n<conve...  Культура   \n",
       "91190   <?xml version=\"1.0\" encoding=\"utf-8\"?>\\n<conve...       Мир   \n",
       "62644   <?xml version=\"1.0\" encoding=\"utf-8\"?>\\n<conve...       Мир   \n",
       "\n",
       "        title_len  text_len  \n",
       "353942         65        81  \n",
       "91190          55        81  \n",
       "62644          46        84  "
      ]
     },
     "execution_count": 23,
     "metadata": {},
     "output_type": "execute_result"
    }
   ],
   "source": [
    "df.sort_values(by='text_len', ascending=True)[:3]"
   ]
  },
  {
   "cell_type": "code",
   "execution_count": 24,
   "id": "0fa8e99e-4caa-47e5-9f16-bfce3877add3",
   "metadata": {},
   "outputs": [
    {
     "data": {
      "text/plain": [
       "'<?xml version=\"1.0\" encoding=\"utf-8\"?>\\n<conversion><person></person></conversion>'"
      ]
     },
     "execution_count": 24,
     "metadata": {},
     "output_type": "execute_result"
    }
   ],
   "source": [
    "df.loc[353942, 'text']"
   ]
  },
  {
   "cell_type": "code",
   "execution_count": 25,
   "id": "8fc79717-32ad-43c8-898e-001e2c557c15",
   "metadata": {},
   "outputs": [
    {
     "data": {
      "text/plain": [
       "'<?xml version=\"1.0\" encoding=\"utf-8\"?>\\n<conversion><person>ООН</person></conversion>'"
      ]
     },
     "execution_count": 25,
     "metadata": {},
     "output_type": "execute_result"
    }
   ],
   "source": [
    "df.loc[62644, 'text']"
   ]
  },
  {
   "cell_type": "code",
   "execution_count": 26,
   "id": "54fd0abc-ebe0-4568-940d-eeb8951bba56",
   "metadata": {},
   "outputs": [
    {
     "data": {
      "text/plain": [
       "2"
      ]
     },
     "execution_count": 26,
     "metadata": {},
     "output_type": "execute_result"
    }
   ],
   "source": [
    "(df['text'].str.len() <= 81).sum()"
   ]
  },
  {
   "cell_type": "markdown",
   "id": "5655e268-8ef4-490c-ace3-87b6e3bec7d1",
   "metadata": {},
   "source": [
    "* *минимальная длина текста: 81 символ*\n",
    "* *81 символ: эквивалентно пустой строке (xml теги)*\n",
    "* *всего 2а таких примера встретилось во всем датасете*"
   ]
  },
  {
   "cell_type": "code",
   "execution_count": 27,
   "id": "91a9d705-c57b-4a30-88e1-284825f87320",
   "metadata": {},
   "outputs": [
    {
     "data": {
      "text/html": [
       "<div>\n",
       "<style scoped>\n",
       "    .dataframe tbody tr th:only-of-type {\n",
       "        vertical-align: middle;\n",
       "    }\n",
       "\n",
       "    .dataframe tbody tr th {\n",
       "        vertical-align: top;\n",
       "    }\n",
       "\n",
       "    .dataframe thead th {\n",
       "        text-align: right;\n",
       "    }\n",
       "</style>\n",
       "<table border=\"1\" class=\"dataframe\">\n",
       "  <thead>\n",
       "    <tr style=\"text-align: right;\">\n",
       "      <th></th>\n",
       "      <th>title</th>\n",
       "      <th>text</th>\n",
       "      <th>topic</th>\n",
       "      <th>title_len</th>\n",
       "      <th>text_len</th>\n",
       "    </tr>\n",
       "  </thead>\n",
       "  <tbody>\n",
       "    <tr>\n",
       "      <th>198061</th>\n",
       "      <td>Men's Health назвал 100 самых пьющих городов США</td>\n",
       "      <td>&lt;?xml version=\"1.0\" encoding=\"utf-8\"?&gt;\\n&lt;conve...</td>\n",
       "      <td>Мир</td>\n",
       "      <td>48</td>\n",
       "      <td>13601</td>\n",
       "    </tr>\n",
       "    <tr>\n",
       "      <th>186634</th>\n",
       "      <td>\"Наши\" начали преследование автора статьи о ша...</td>\n",
       "      <td>&lt;?xml version=\"1.0\" encoding=\"utf-8\"?&gt;\\n&lt;conve...</td>\n",
       "      <td>Интернет и СМИ</td>\n",
       "      <td>53</td>\n",
       "      <td>12433</td>\n",
       "    </tr>\n",
       "  </tbody>\n",
       "</table>\n",
       "</div>"
      ],
      "text/plain": [
       "                                                    title  \\\n",
       "198061   Men's Health назвал 100 самых пьющих городов США   \n",
       "186634  \"Наши\" начали преследование автора статьи о ша...   \n",
       "\n",
       "                                                     text           topic  \\\n",
       "198061  <?xml version=\"1.0\" encoding=\"utf-8\"?>\\n<conve...             Мир   \n",
       "186634  <?xml version=\"1.0\" encoding=\"utf-8\"?>\\n<conve...  Интернет и СМИ   \n",
       "\n",
       "        title_len  text_len  \n",
       "198061         48     13601  \n",
       "186634         53     12433  "
      ]
     },
     "execution_count": 27,
     "metadata": {},
     "output_type": "execute_result"
    }
   ],
   "source": [
    "df.sort_values(by='text_len', ascending=False)[:2]"
   ]
  },
  {
   "cell_type": "code",
   "execution_count": 28,
   "id": "93213cb9-9c0e-4c73-9ff1-7f262bb75164",
   "metadata": {},
   "outputs": [
    {
     "data": {
      "text/plain": [
       "'<?xml version=\"1.0\" encoding=\"utf-8\"?>\\n<conversion><person>Журналисты американской версии Men\\'s Heal'"
      ]
     },
     "execution_count": 28,
     "metadata": {},
     "output_type": "execute_result"
    }
   ],
   "source": [
    "df.loc[198061, 'text'][:100]"
   ]
  },
  {
   "cell_type": "code",
   "execution_count": 29,
   "id": "7efb8eb0-dc50-4be0-8d3c-bc3309156bf7",
   "metadata": {},
   "outputs": [
    {
     "data": {
      "text/plain": [
       "'th составили рейтинг ста самых пьющих городов США, пишет в четверг, 4 февраля, USA Today. Как стало '"
      ]
     },
     "execution_count": 29,
     "metadata": {},
     "output_type": "execute_result"
    }
   ],
   "source": [
    "df.loc[198061, 'text'][100:200]"
   ]
  },
  {
   "cell_type": "code",
   "execution_count": 30,
   "id": "35ac4024-69a4-47e0-8aa2-55d1b3772b2f",
   "metadata": {},
   "outputs": [
    {
     "data": {
      "text/plain": [
       "\" список с подробными комментариями появится в мартовском выпуске Men's Health.</person></conversion>\""
      ]
     },
     "execution_count": 30,
     "metadata": {},
     "output_type": "execute_result"
    }
   ],
   "source": [
    "df.loc[198061, 'text'][-100:]"
   ]
  },
  {
   "cell_type": "markdown",
   "id": "cb4ebc2a-e7ef-4020-be4c-e4a14c36c77f",
   "metadata": {},
   "source": [
    "* *максимальная длина текста: 13601 символ*"
   ]
  },
  {
   "cell_type": "code",
   "execution_count": 31,
   "id": "b87d9b91-43cd-495e-83fd-73c311ef9b93",
   "metadata": {},
   "outputs": [
    {
     "data": {
      "text/plain": [
       "432158"
      ]
     },
     "execution_count": 31,
     "metadata": {},
     "output_type": "execute_result"
    }
   ],
   "source": [
    "df['text'].str.contains('<\\/?[A-Za-z]*>').sum() # xml / html"
   ]
  },
  {
   "cell_type": "code",
   "execution_count": 32,
   "id": "dfe7cd18-93d9-4e97-96fb-1ed0adcf0fbf",
   "metadata": {},
   "outputs": [
    {
     "data": {
      "text/plain": [
       "432158"
      ]
     },
     "execution_count": 32,
     "metadata": {},
     "output_type": "execute_result"
    }
   ],
   "source": [
    "df['text'].str.contains('\\n').sum() # multiline"
   ]
  },
  {
   "cell_type": "code",
   "execution_count": 33,
   "id": "b8d0271b-9471-4a6f-a1b3-0621ef486f38",
   "metadata": {},
   "outputs": [
    {
     "data": {
      "text/plain": [
       "432158"
      ]
     },
     "execution_count": 33,
     "metadata": {},
     "output_type": "execute_result"
    }
   ],
   "source": [
    "df['text'].str.contains('[0-9]+[.,]?[0-9]*').sum() # numbers"
   ]
  },
  {
   "cell_type": "code",
   "execution_count": 34,
   "id": "060029d0-da66-4899-b9a2-625360b48f67",
   "metadata": {},
   "outputs": [
    {
     "data": {
      "text/plain": [
       "54344"
      ]
     },
     "execution_count": 34,
     "metadata": {},
     "output_type": "execute_result"
    }
   ],
   "source": [
    "df['text'].str.contains('[a-zа-я][A-ZА-Я]').sum() # болееТысячи"
   ]
  },
  {
   "cell_type": "code",
   "execution_count": 35,
   "id": "4721bcd2-183a-4497-b46b-e383cb748977",
   "metadata": {},
   "outputs": [
    {
     "data": {
      "text/plain": [
       "' вторуюгодовщину со '"
      ]
     },
     "execution_count": 35,
     "metadata": {},
     "output_type": "execute_result"
    }
   ],
   "source": [
    "df.loc[0, 'text'][100:120] # вторуюгодовщину"
   ]
  },
  {
   "cell_type": "markdown",
   "id": "34893d2c-a1ed-4f54-ae38-c9cb147637ba",
   "metadata": {},
   "source": [
    "* *во всех 432158 примерах поле text содержит xml / html теги*\n",
    "* *во всех 432158 примерах в поле text содержится символ переноса строки*\n",
    "* *во всех 432158 примерах поле text содержит числа (в том числе с десятичной точкой или запятой)*\n",
    "* *имеем 54344 случаев, когда сразу после буквы нижнего регистра идет буква верхнего (болееТысячи)*\n",
    "* *кроме того, в тексте много кейсов, аналогичных предыдущему, но без разницы в регистре (вторуюгодовщину)*"
   ]
  },
  {
   "cell_type": "code",
   "execution_count": 36,
   "id": "08caf0ba-9c4d-416f-916c-b81f38dcc6d0",
   "metadata": {},
   "outputs": [
    {
     "data": {
      "text/plain": [
       "0"
      ]
     },
     "execution_count": 36,
     "metadata": {},
     "output_type": "execute_result"
    }
   ],
   "source": [
    "df['title'].str.contains('\\n').sum() # multiline"
   ]
  },
  {
   "cell_type": "code",
   "execution_count": 37,
   "id": "6b311832-1d56-4174-a96b-7beb3284df76",
   "metadata": {},
   "outputs": [
    {
     "data": {
      "text/plain": [
       "0"
      ]
     },
     "execution_count": 37,
     "metadata": {},
     "output_type": "execute_result"
    }
   ],
   "source": [
    "df['title'].str.contains('<\\/?[A-Za-z]*>').sum() # xml / html"
   ]
  },
  {
   "cell_type": "code",
   "execution_count": 38,
   "id": "c678da24-2db7-4ae0-9c9b-651cd1a5b52d",
   "metadata": {},
   "outputs": [
    {
     "data": {
      "text/plain": [
       "59457"
      ]
     },
     "execution_count": 38,
     "metadata": {},
     "output_type": "execute_result"
    }
   ],
   "source": [
    "df['title'].str.contains('[0-9]+[.,]?[0-9]*').sum() # numbers"
   ]
  },
  {
   "cell_type": "markdown",
   "id": "bfadb3ea-0578-4e78-b860-284c3c82ba39",
   "metadata": {},
   "source": [
    "* *в поле title нет xml / html тегов или символов переноса строки*\n",
    "* *в 59457 примерах в поле title есть числа (в том числе с десятичной точкой или запятой)*"
   ]
  },
  {
   "cell_type": "code",
   "execution_count": 39,
   "id": "cdd3d094-0ebf-4051-abc9-b47149d79a20",
   "metadata": {},
   "outputs": [
    {
     "data": {
      "application/vnd.jupyter.widget-view+json": {
       "model_id": "908506dcffcc4bd082f1ab4541dfe70c",
       "version_major": 2,
       "version_minor": 0
      },
      "text/plain": [
       "  0%|          | 0/432158 [00:00<?, ?it/s]"
      ]
     },
     "metadata": {},
     "output_type": "display_data"
    },
    {
     "data": {
      "application/vnd.jupyter.widget-view+json": {
       "model_id": "20a2b25dd4f54ab6aa43e5f7423e224a",
       "version_major": 2,
       "version_minor": 0
      },
      "text/plain": [
       "  0%|          | 0/432158 [00:00<?, ?it/s]"
      ]
     },
     "metadata": {},
     "output_type": "display_data"
    }
   ],
   "source": [
    "tqdm.pandas()\n",
    "\n",
    "def cyrillic_letters_share(text):\n",
    "    s = [c for c in text.lower() if c.isalpha()]\n",
    "    c = sum(['а' <= c <= 'я' for c in s])\n",
    "    return c / (len(text) + 1e-10)\n",
    "\n",
    "df['text_cyr'] = df['text'].progress_apply(cyrillic_letters_share)\n",
    "df['title_cyr'] = df['title'].progress_apply(cyrillic_letters_share)"
   ]
  },
  {
   "cell_type": "code",
   "execution_count": 40,
   "id": "9f4abfd9-21c8-46c4-86f1-0e64583f17a2",
   "metadata": {},
   "outputs": [
    {
     "data": {
      "image/png": "[encoded data removed]",
      "text/plain": [
       "<Figure size 500x250 with 1 Axes>"
      ]
     },
     "metadata": {},
     "output_type": "display_data"
    }
   ],
   "source": [
    "sns.displot(data=df, x='title_cyr', kde=True, height=2.5, aspect=2);"
   ]
  },
  {
   "cell_type": "markdown",
   "id": "83840b89-3210-4840-b869-746344f2b9b6",
   "metadata": {},
   "source": [
    "* *поле title преимущественно на русском языке*\n",
    "* *так как в поле title нет xml тегов, важно посмотреть примеры из левого 'хвоста'*"
   ]
  },
  {
   "cell_type": "code",
   "execution_count": 41,
   "id": "d73e1f17-30a9-4d9a-81c3-cb03a88d1b72",
   "metadata": {},
   "outputs": [
    {
     "data": {
      "text/plain": [
       "['Deutsche Boerse купит NYSE Euronext',\n",
       " 'DaimlerChrysler купит Mitsubishi',\n",
       " 'The Wall Street Journal \"развела\" Siemens и\\xa0Fujitsu',\n",
       " \"Baldur's Gate Enhanced Edition вышла на\\xa0iPad\",\n",
       " 'Call of\\xa0Duty: Black Ops Zombies вышел на\\xa0iOS']"
      ]
     },
     "execution_count": 41,
     "metadata": {},
     "output_type": "execute_result"
    }
   ],
   "source": [
    "df[df['title_cyr'] < 0.2].sort_values(by='title_cyr')['title'].to_list()[:5]"
   ]
  },
  {
   "cell_type": "markdown",
   "id": "4dd3e30f-70f5-47a9-92ef-cf5eac0af0f2",
   "metadata": {},
   "source": [
    "* *да, действительно, часто в заголовках много слов на английском языке (и других с латинским алфавитом)*"
   ]
  },
  {
   "cell_type": "code",
   "execution_count": 42,
   "id": "f12af465-c419-4939-a5af-3c4da6bd3a6b",
   "metadata": {},
   "outputs": [
    {
     "data": {
      "image/png": "[encoded data removed]",
      "text/plain": [
       "<Figure size 500x250 with 1 Axes>"
      ]
     },
     "metadata": {},
     "output_type": "display_data"
    }
   ],
   "source": [
    "sns.displot(data=df, x='text_cyr', kde=True, height=2.5, aspect=2);"
   ]
  },
  {
   "cell_type": "markdown",
   "id": "408df781-df51-40b1-8351-57d31534500d",
   "metadata": {},
   "source": [
    "* *поле text преимущественно на русском языке*\n",
    "* *тяжелый \"хвост\" слева частично может быть объяснен наличием xml тегов*"
   ]
  },
  {
   "cell_type": "code",
   "execution_count": 43,
   "id": "6633902b-c102-49b2-bedc-f843f4cfdd0b",
   "metadata": {},
   "outputs": [
    {
     "data": {
      "text/plain": [
       "['<?xml version=\"1.0\" encoding=\"utf-8\"?>\\n<conversion><person>CNN</person></conversion>',\n",
       " '<?xml version=\"1.0\" encoding=\"utf-8\"?>\\n<conversion><person>Accountability</person></conversion>',\n",
       " '<?xml version=\"1.0\" encoding=\"utf-8\"?>\\n<conversion><person>Business Week</person></conversion>',\n",
       " '<?xml version=\"1.0\" encoding=\"utf-8\"?>\\n<conversion><person>New York Times</person></conversion>',\n",
       " '<?xml version=\"1.0\" encoding=\"utf-8\"?>\\n<conversion><person>New York Times</person></conversion>']"
      ]
     },
     "execution_count": 43,
     "metadata": {},
     "output_type": "execute_result"
    }
   ],
   "source": [
    "df[df['text_cyr'] < 0.2].sort_values(by='text_cyr')['text'].tolist()[:5]"
   ]
  },
  {
   "cell_type": "markdown",
   "id": "79e0fc7c-bcde-4ca5-b5d5-43dff2a1fa45",
   "metadata": {},
   "source": [
    "* *xml теги + заголовок полностью на английском => нулевая доля символов кириллицы*"
   ]
  },
  {
   "cell_type": "code",
   "execution_count": 44,
   "id": "655378f6-ec34-4f66-aaec-b60c23ec8e67",
   "metadata": {},
   "outputs": [
    {
     "data": {
      "text/plain": [
       "['<?xml version=\"1.0\" encoding=\"utf-8\"?>\\n<conversion><person>Бе-103</person></conversion>',\n",
       " '<?xml version=\"1.0\" encoding=\"utf-8\"?>\\n<conversion><person>ООН</person></conversion>',\n",
       " '<?xml version=\"1.0\" encoding=\"utf-8\"?>\\n<conversion><person>ЦРУ</person></conversion>',\n",
       " '<?xml version=\"1.0\" encoding=\"utf-8\"?>\\n<conversion><person>ЦРУ</person></conversion>',\n",
       " '<?xml version=\"1.0\" encoding=\"utf-8\"?>\\n<conversion><person>ООН</person></conversion>']"
      ]
     },
     "execution_count": 44,
     "metadata": {},
     "output_type": "execute_result"
    }
   ],
   "source": [
    "m = (df['text_cyr'] > 0.02) & (df['text_cyr'] < 0.5)\n",
    "df[m].sort_values(by='text_cyr')['text'].tolist()[:5]"
   ]
  },
  {
   "cell_type": "markdown",
   "id": "47b4b789-3c71-4104-9627-95fac0445846",
   "metadata": {},
   "source": [
    "* *xml теги + короткий заголовок на русском => доля символов кириллицы менее 0.5*"
   ]
  },
  {
   "cell_type": "markdown",
   "id": "8613077b-90a8-44dd-bde9-c33981c4512c",
   "metadata": {
    "jp-MarkdownHeadingCollapsed": true,
    "tags": []
   },
   "source": [
    "#### **\"< ?xml\" и \"< person >\"**\n",
    "* *можно удалить регулярками*"
   ]
  },
  {
   "cell_type": "markdown",
   "id": "6ac466b0-a0c9-450e-a896-7e563d00c69c",
   "metadata": {},
   "source": [
    "#### **\"1,8 грамма\" и \"140 миллионов\"**\n",
    "* *извлечь полезный сигнал из такого текста будет сложно (особенно для простых моделей)*\n",
    "* *сам факт наличия числа в том или ином месте текста может быть полезной информацией*\n",
    "* *можно заменить на уникальную последовательность (например, \"num\")*"
   ]
  },
  {
   "cell_type": "markdown",
   "id": "92ca7a45-3616-4cc1-9fa8-5a2040a9d372",
   "metadata": {},
   "source": [
    "#### **\"болееТысячи\" и \"14-летнийГарри\"**\n",
    "* *54344 примеров, можно исправить регулярками*"
   ]
  },
  {
   "cell_type": "markdown",
   "id": "b9ff99e9-d737-4848-86f3-6090ebe63c03",
   "metadata": {
    "tags": []
   },
   "source": [
    "#### **\"Средичленов\" и \"вторуюгодовщину\"**\n",
    "* *исходя из визуальной оценки, таких примеров достаточно много*\n",
    "* *чтобы исправить это, нужна языковая модель (частотная или нейросетевая)*\n",
    "* *но эта языковая модель должна быть легкой и быстрой (на этапе инференса она также будет нужна)*"
   ]
  },
  {
   "cell_type": "markdown",
   "id": "a607af86-0856-4457-9f53-97c54027c2c5",
   "metadata": {},
   "source": [
    "#### **\"aerospace\" и \"bang\"**\n",
    "* *в тексте много слов на английском языке*\n",
    "* *можно попробовать перевести их, используя внешние сервисы или языковые модели*\n",
    "* *однако, новые данные нужно будет прогонять через те же инструменты на этапе инференса*\n",
    "* *можно попробовать реализовать локальный простой переводчик (по сути справочник - dict)*"
   ]
  },
  {
   "cell_type": "markdown",
   "id": "d0760a15-1fdf-4115-bbab-301dc42c4e58",
   "metadata": {
    "tags": []
   },
   "source": [
    "#### **\"кто-то\" и \"фотографам-папарацци\"**\n",
    "* *хотелось бы сохранить \"кто-то\" как отдельный токен\n",
    "* *вероятно, для \"фотографам-папарацци\" это также подойдет*\n",
    "* *можно решить регулярками*"
   ]
  }
 ],
 "metadata": {
  "kernelspec": {
   "display_name": "dev",
   "language": "python",
   "name": "dev"
  },
  "language_info": {
   "codemirror_mode": {
    "name": "ipython",
    "version": 3
   },
   "file_extension": ".py",
   "mimetype": "text/x-python",
   "name": "python",
   "nbconvert_exporter": "python",
   "pygments_lexer": "ipython3",
   "version": "3.10.7"
  }
 },
 "nbformat": 4,
 "nbformat_minor": 5
}

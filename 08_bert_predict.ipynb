{
 "cells": [
  {
   "cell_type": "markdown",
   "id": "2d4328d9-8eb4-47d9-800c-57efb4bbded2",
   "metadata": {},
   "source": [
    "#### Пайплайн для классификации новых текстов для модели rubert-tiny2"
   ]
  },
  {
   "cell_type": "code",
   "execution_count": 1,
   "id": "cfdfc49b-cfce-4332-a9d3-68c04085796e",
   "metadata": {},
   "outputs": [],
   "source": [
    "import re\n",
    "import torch"
   ]
  },
  {
   "cell_type": "code",
   "execution_count": 2,
   "id": "04f7fc1c-78b9-4247-8abe-3f39286a8a17",
   "metadata": {},
   "outputs": [],
   "source": [
    "from utils import *"
   ]
  },
  {
   "cell_type": "code",
   "execution_count": 3,
   "id": "8653ff5d-698e-4f6b-b912-a7fbb90c9d66",
   "metadata": {},
   "outputs": [],
   "source": [
    "from transformers import logging\n",
    "from transformers import AutoTokenizer\n",
    "from transformers import AutoModelForSequenceClassification"
   ]
  },
  {
   "cell_type": "code",
   "execution_count": 4,
   "id": "ab5ea125-2fb7-45a8-9098-d9375b288e14",
   "metadata": {},
   "outputs": [],
   "source": [
    "def clean(s):\n",
    "    s = re.sub('\\n', ' ', s)\n",
    "    s = re.sub('<\\?xml.+\\?>', ' ', s)\n",
    "    s = re.sub('<\\/?[A-Za-z]*>', ' ', s)\n",
    "    s = re.sub('[0-9]+(\\.|,)?[0-9]*', ' num ', s)\n",
    "    s = re.sub('([a-zа-яёй])([A-ZА-ЯЁЙ])', '\\g<1> \\g<2>', s)\n",
    "    s = re.sub('[^A-Za-zА-ЯЁЙа-яёй0-9.,;:!?()\"\\s\\-\\']', ' ', s)\n",
    "    return re.sub('\\s{2,}', ' ', s).strip()"
   ]
  },
  {
   "cell_type": "markdown",
   "id": "d176190e-7f9c-4512-bda9-ca761d9757de",
   "metadata": {},
   "source": [
    "* *ничем не отличается от функции из 7ой тетрадки*"
   ]
  },
  {
   "cell_type": "code",
   "execution_count": 5,
   "id": "79c1dc7c-ecbc-4238-b2d7-7094e2690bce",
   "metadata": {},
   "outputs": [],
   "source": [
    "def tokenize(title, text, tokenizer):\n",
    "    \n",
    "    params = {'max_length': 512, \n",
    "              'truncation': True, \n",
    "              'return_tensors': 'pt', \n",
    "              'add_special_tokens': True}\n",
    "    \n",
    "    title, text = clean(title), clean(text)\n",
    "    return tokenizer.encode(title, text, **params)"
   ]
  },
  {
   "cell_type": "markdown",
   "id": "b8005ecd-5548-4859-a6d3-cb24627efc28",
   "metadata": {},
   "source": [
    "* *функция токенизации одного примера (title + text)*"
   ]
  },
  {
   "cell_type": "code",
   "execution_count": 6,
   "id": "1855f273-87cd-4cce-98fc-0250dea977de",
   "metadata": {},
   "outputs": [],
   "source": [
    "def load_model(name, path):\n",
    "    \n",
    "    params = {\n",
    "        'num_labels': 6, \n",
    "        'output_attentions': False, \n",
    "        'output_hidden_states': True\n",
    "    }\n",
    "    \n",
    "    tokenizer = AutoTokenizer.from_pretrained(name)\n",
    "    model = AutoModelForSequenceClassification.from_pretrained(name, **params)\n",
    "    model.load_state_dict(torch.load(path, map_location=torch.device('cpu')))\n",
    "    return model, tokenizer"
   ]
  },
  {
   "cell_type": "markdown",
   "id": "e6342dc3-236b-404f-b742-7c985baa4fc5",
   "metadata": {},
   "source": [
    "* *загрузка предобученной модели + загрузка лучших весов*"
   ]
  },
  {
   "cell_type": "code",
   "execution_count": 7,
   "id": "f91fc040-d358-4beb-a97e-93ef2d84a7be",
   "metadata": {},
   "outputs": [],
   "source": [
    "def predict_proba(title, text, model, tokenizer):\n",
    "    \n",
    "    model = model.eval()\n",
    "    torch.set_grad_enabled(False)\n",
    "    input_ids = tokenize(title, text, tokenizer)\n",
    "    attn_mask = (input_ids != tokenizer.pad_token_id)\n",
    "    \n",
    "    params = {\n",
    "        'output_attentions': False, \n",
    "        'output_hidden_states': False, \n",
    "        'attention_mask': attn_mask, \n",
    "        'input_ids': input_ids\n",
    "    }\n",
    "    \n",
    "    output = model(**params)\n",
    "    logits = output['logits']\n",
    "    probas = torch.softmax(logits, 1)\n",
    "    return probas[0].round(decimals=3)"
   ]
  },
  {
   "cell_type": "markdown",
   "id": "1e908050-3839-4202-86b1-52aa7a3292c7",
   "metadata": {},
   "source": [
    "* *функция для получения распределения вероятностей для одного примера*"
   ]
  },
  {
   "cell_type": "code",
   "execution_count": 8,
   "id": "9629a921-7ef5-4dd7-83ac-c4ecebcd5b2b",
   "metadata": {},
   "outputs": [],
   "source": [
    "logging.set_verbosity_error()"
   ]
  },
  {
   "cell_type": "code",
   "execution_count": 9,
   "id": "9bf8b96f-16fd-42d3-a831-8c77a932480f",
   "metadata": {},
   "outputs": [],
   "source": [
    "model, tokenizer = load_model('cointegrated/rubert-tiny2', 'data/rubert2.pt')"
   ]
  },
  {
   "cell_type": "markdown",
   "id": "ab267d02-b2c8-462d-9031-a4ca6fa5a1ac",
   "metadata": {},
   "source": [
    "* *загружаем предобученную модель и токенизатор, подгружаем лучшие веса*"
   ]
  },
  {
   "cell_type": "code",
   "execution_count": 10,
   "id": "ba2232e8-e93f-4a4e-bbe1-de504749a8e1",
   "metadata": {},
   "outputs": [],
   "source": [
    "title = 'В декабре SpaceX, вероятно, наконец-то отправит Starship в первый орбитальный полет'\n",
    "text = '''Сегодня SpaceX впервые за три года запускает ракету-носитель сверхтяжелого класса \n",
    "Falcon Heavy с миссией USSF-44, которая доставит на геостационарную орбиту 6 полезных нагрузок \n",
    "для Космических сил США (расчетное время старта — 15:41 по киевскому времени). Но есть запуск, \n",
    "которого мы ждем еще больше и уже достаточно давно. Речь идет о первом орбитальном полете \n",
    "космического корабля нового поколения Starship — в NASA предполагают, что с большой вероятностью \n",
    "запуск состоится уже в декабре этого года. По крайней мере, такова новая актуальная оценка, \n",
    "которой поделился Марк Кирасич, глава консультативного комитета пилотируемых космических полетов \n",
    "NASA и заместитель администратора по развитию амбициозной американской лунной программы \n",
    "«Артемида» / Artemis, во время недавнего заседания.'''"
   ]
  },
  {
   "cell_type": "code",
   "execution_count": 11,
   "id": "5cbdfcd8-5fa5-4057-910d-6fd58851a402",
   "metadata": {},
   "outputs": [
    {
     "name": "stdout",
     "output_type": "stream",
     "text": [
      "CPU times: user 72.2 ms, sys: 7.11 ms, total: 79.3 ms\n",
      "Wall time: 45.5 ms\n"
     ]
    },
    {
     "data": {
      "text/plain": [
       "tensor([0.0010, 0.0000, 0.0060, 0.9930, 0.0000, 0.0000])"
      ]
     },
     "execution_count": 11,
     "metadata": {},
     "output_type": "execute_result"
    }
   ],
   "source": [
    "%time predict_proba(title, text, model, tokenizer)"
   ]
  },
  {
   "cell_type": "code",
   "execution_count": 12,
   "id": "10e0238c-f92b-4e23-90c8-d10e984a8629",
   "metadata": {},
   "outputs": [
    {
     "data": {
      "text/plain": [
       "['Интернет и СМИ', 'Культура', 'Мир', 'Наука и техника', 'Спорт', 'Экономика']"
      ]
     },
     "execution_count": 12,
     "metadata": {},
     "output_type": "execute_result"
    }
   ],
   "source": [
    "list(load_json('data/labels.json').keys())"
   ]
  },
  {
   "cell_type": "markdown",
   "id": "74c47413-ffc5-46dc-bf3d-576e91e2577a",
   "metadata": {},
   "source": [
    "* *нужно более подробно тестировать производительность для текстов различной длины*\n",
    "* *на данном конкретном примере скорость работы фактически такая же, как у catboost*\n",
    "* *а это всего в 2а раза медленнее, чем самая быстрая модель на logreg*\n",
    "* *все модели запускались на CPU (локально, на моем пк)*\n",
    "* *есть потенциал для ускорения (каскадирование)*"
   ]
  }
 ],
 "metadata": {
  "kernelspec": {
   "display_name": "dev",
   "language": "python",
   "name": "dev"
  },
  "language_info": {
   "codemirror_mode": {
    "name": "ipython",
    "version": 3
   },
   "file_extension": ".py",
   "mimetype": "text/x-python",
   "name": "python",
   "nbconvert_exporter": "python",
   "pygments_lexer": "ipython3",
   "version": "3.10.7"
  }
 },
 "nbformat": 4,
 "nbformat_minor": 5
}

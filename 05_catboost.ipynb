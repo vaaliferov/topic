{
 "cells": [
  {
   "cell_type": "markdown",
   "id": "f166d45d-82ae-4667-8f3e-194670371610",
   "metadata": {},
   "source": [
    "#### Градиентный бустинг на базе CatBoost (используя встроенный текстовый векторайзер)"
   ]
  },
  {
   "cell_type": "code",
   "execution_count": 2,
   "id": "1a451792-c433-4a27-b8bf-79c955e6088b",
   "metadata": {},
   "outputs": [],
   "source": [
    "import numpy as np\n",
    "import pandas as pd"
   ]
  },
  {
   "cell_type": "code",
   "execution_count": 7,
   "id": "ea37613d-1fd8-457d-9ffd-c111ff16682e",
   "metadata": {},
   "outputs": [],
   "source": [
    "from utils import *"
   ]
  },
  {
   "cell_type": "code",
   "execution_count": 3,
   "id": "03365e1c-4be8-4c27-b342-3346df1dbc57",
   "metadata": {},
   "outputs": [],
   "source": [
    "from catboost import Pool\n",
    "from catboost import CatBoostClassifier"
   ]
  },
  {
   "cell_type": "code",
   "execution_count": 4,
   "id": "f28e073d-fc6e-4aeb-8caf-79d98811fb02",
   "metadata": {},
   "outputs": [],
   "source": [
    "from sklearn.metrics import f1_score\n",
    "from sklearn.metrics import accuracy_score\n",
    "from sklearn.metrics import confusion_matrix\n",
    "from sklearn.metrics import classification_report\n",
    "from sklearn.model_selection import train_test_split"
   ]
  },
  {
   "cell_type": "code",
   "execution_count": 4,
   "id": "5f7dd9d5-e05e-41d8-8d08-3708c3ef18d9",
   "metadata": {},
   "outputs": [],
   "source": [
    "df = pd.read_feather('data/data.ftr')\n",
    "X, y = df.drop(columns='topic'), df['topic']\n",
    "params = {'stratify': y, 'test_size': 0.2, 'random_state': 42}\n",
    "X_train, X_valid, y_train, y_valid = train_test_split(X, y, **params)"
   ]
  },
  {
   "cell_type": "markdown",
   "id": "4c67f91c-e654-4169-be9e-f0149eec4b7b",
   "metadata": {},
   "source": [
    "* *загружаем предобработанный датафрейм*\n",
    "* *делим данные на 2е части: 80% в обучении, стратификация по целевой переменной*"
   ]
  },
  {
   "cell_type": "code",
   "execution_count": null,
   "id": "602f95bc-b92c-4082-9e0f-a633a0b8579c",
   "metadata": {
    "tags": []
   },
   "outputs": [],
   "source": [
    "cat_params = {\n",
    "    'iterations': 1000, \n",
    "    # 'task_type': 'GPU', \n",
    "    'learning_rate': 0.1, \n",
    "    'eval_metric': 'MultiClass', \n",
    "    'loss_function': 'MultiClass', \n",
    "    'early_stopping_rounds': 10, \n",
    "    'use_best_model': True, \n",
    "    'random_seed': 42, \n",
    "    'verbose': 50\n",
    "}\n",
    "\n",
    "train_pool = Pool(\n",
    "    X_train, y_train, \n",
    "    feature_names=list(X_train), \n",
    "    text_features=['title','text']\n",
    ")\n",
    "\n",
    "valid_pool = Pool(\n",
    "    X_valid, y_valid, \n",
    "    feature_names=list(X_valid), \n",
    "    text_features=['title','text']\n",
    ")\n",
    "\n",
    "cat = CatBoostClassifier(**cat_params)\n",
    "cat.fit(train_pool, eval_set=valid_pool)\n",
    "y_pred = cat.predict(X_valid)"
   ]
  },
  {
   "cell_type": "markdown",
   "id": "52dcb0ea-219d-41a4-9c64-ef9a8f65c591",
   "metadata": {},
   "source": [
    "* *готовим данные для catboost, указываем текстовые фичи (catboost имеет свой встроенный векторайзер)*\n",
    "* обучение на 80% данных заняло ~ 2ч на CPU (на GPU не пробовал, но поддержка для данного типа лосса должна быть)"
   ]
  },
  {
   "cell_type": "code",
   "execution_count": 6,
   "id": "9de70b1d-85fb-4efd-adbe-a5d60a2cd9eb",
   "metadata": {},
   "outputs": [
    {
     "data": {
      "text/plain": [
       "0.9350009255831173"
      ]
     },
     "execution_count": 6,
     "metadata": {},
     "output_type": "execute_result"
    }
   ],
   "source": [
    "accuracy_score(y_valid, y_pred)"
   ]
  },
  {
   "cell_type": "code",
   "execution_count": 7,
   "id": "290b4da2-9a66-49ea-94d2-b8f13d5be4a9",
   "metadata": {},
   "outputs": [
    {
     "data": {
      "text/plain": [
       "0.9289541501418461"
      ]
     },
     "execution_count": 7,
     "metadata": {},
     "output_type": "execute_result"
    }
   ],
   "source": [
    "f1_score(y_valid, y_pred, average='macro')"
   ]
  },
  {
   "cell_type": "code",
   "execution_count": 8,
   "id": "440b28cc-38f2-4d6f-9454-5ec0ca80fffd",
   "metadata": {},
   "outputs": [
    {
     "name": "stdout",
     "output_type": "stream",
     "text": [
      "[[ 7717   277   391   281    64   203]\n",
      " [  207 10205   222    76    17    32]\n",
      " [  427   288 25655   421    93   440]\n",
      " [  310   128   436  9613    10   130]\n",
      " [   64    29    84    20 12660    26]\n",
      " [  280    71   395   153    43 14964]]\n"
     ]
    }
   ],
   "source": [
    "print(confusion_matrix(y_valid, y_pred))"
   ]
  },
  {
   "cell_type": "code",
   "execution_count": 9,
   "id": "100b2116-47e9-4c99-85b1-fe056a4611c2",
   "metadata": {},
   "outputs": [
    {
     "name": "stdout",
     "output_type": "stream",
     "text": [
      "              precision    recall  f1-score   support\n",
      "\n",
      "           0       0.86      0.86      0.86      8933\n",
      "           1       0.93      0.95      0.94     10759\n",
      "           2       0.94      0.94      0.94     27324\n",
      "           3       0.91      0.90      0.91     10627\n",
      "           4       0.98      0.98      0.98     12883\n",
      "           5       0.95      0.94      0.94     15906\n",
      "\n",
      "    accuracy                           0.94     86432\n",
      "   macro avg       0.93      0.93      0.93     86432\n",
      "weighted avg       0.94      0.94      0.94     86432\n",
      "\n"
     ]
    }
   ],
   "source": [
    "print(classification_report(y_valid, y_pred))"
   ]
  },
  {
   "cell_type": "markdown",
   "id": "825f9bda-8c5b-4ebb-85bd-3464e7481168",
   "metadata": {},
   "source": [
    "* *на данный момент эта модель является лучшей с точки зрения качества*\n",
    "* *опять же, видно, что хуже всего модель справляется с классом 0 (Интернет и СМИ)*"
   ]
  },
  {
   "cell_type": "code",
   "execution_count": 8,
   "id": "a5e51965-ddb4-45ef-aaaa-0281685aac26",
   "metadata": {},
   "outputs": [
    {
     "data": {
      "text/plain": [
       "['Интернет и СМИ', 'Культура', 'Мир', 'Наука и техника', 'Спорт', 'Экономика']"
      ]
     },
     "execution_count": 8,
     "metadata": {},
     "output_type": "execute_result"
    }
   ],
   "source": [
    "list(load_json('data/labels.json').keys())"
   ]
  },
  {
   "cell_type": "code",
   "execution_count": 10,
   "id": "1145930c-542f-4f25-a11b-49a5ad5abfe8",
   "metadata": {},
   "outputs": [],
   "source": [
    "cat.save_model('data/catboost.bin')"
   ]
  },
  {
   "cell_type": "markdown",
   "id": "a9026545-a85e-470a-a005-3065023d8e8f",
   "metadata": {},
   "source": [
    "* *размер файла модели ~20Мб*\n",
    "* *внешние эмбеддинги не нужны (встроенный векторайзер)*"
   ]
  }
 ],
 "metadata": {
  "kernelspec": {
   "display_name": "dev",
   "language": "python",
   "name": "dev"
  },
  "language_info": {
   "codemirror_mode": {
    "name": "ipython",
    "version": 3
   },
   "file_extension": ".py",
   "mimetype": "text/x-python",
   "name": "python",
   "nbconvert_exporter": "python",
   "pygments_lexer": "ipython3",
   "version": "3.10.7"
  }
 },
 "nbformat": 4,
 "nbformat_minor": 5
}
